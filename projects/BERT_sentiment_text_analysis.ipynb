{
 "cells": [
  {
   "cell_type": "markdown",
   "id": "853dc402",
   "metadata": {
    "id": "7IIToO1b6vBd",
    "papermill": {
     "duration": 0.01274,
     "end_time": "2023-01-12T07:55:44.489766",
     "exception": false,
     "start_time": "2023-01-12T07:55:44.477026",
     "status": "completed"
    },
    "tags": []
   },
   "source": [
    "# Проект для \"Викишоп\" с BERT"
   ]
  },
  {
   "cell_type": "markdown",
   "id": "1b9effd7",
   "metadata": {
    "id": "oKd9Ov1O64t5",
    "papermill": {
     "duration": 0.012709,
     "end_time": "2023-01-12T07:55:44.517147",
     "exception": false,
     "start_time": "2023-01-12T07:55:44.504438",
     "status": "completed"
    },
    "tags": []
   },
   "source": [
    "# Описание проекта\n",
    "\n",
    "Интернет-магазин «Викишоп» запускает новый сервис. Теперь пользователи могут редактировать и дополнять описания товаров, как в вики-сообществах. То есть клиенты предлагают свои правки и комментируют изменения других. Магазину нужен инструмент, который будет искать токсичные комментарии и отправлять их на модерацию. \n",
    "\n",
    "__Задача__\n",
    "* Обучить модель классифицировать комментарии на позитивные и негативные. \n",
    "* Метрики качества F1 должна быть не меньше 0.75\n",
    "\n",
    "В вашем распоряжении набор данных с разметкой о токсичности правок."
   ]
  },
  {
   "cell_type": "markdown",
   "id": "b38dbc8a",
   "metadata": {
    "id": "JZ8C4SD_7jIc",
    "papermill": {
     "duration": 0.012573,
     "end_time": "2023-01-12T07:55:44.542533",
     "exception": false,
     "start_time": "2023-01-12T07:55:44.529960",
     "status": "completed"
    },
    "tags": []
   },
   "source": [
    "## Загружаем необходимые библиотеки"
   ]
  },
  {
   "cell_type": "code",
   "execution_count": 2,
   "id": "aa2cde75",
   "metadata": {
    "execution": {
     "iopub.execute_input": "2023-01-12T07:55:55.175742Z",
     "iopub.status.busy": "2023-01-12T07:55:55.174246Z",
     "iopub.status.idle": "2023-01-12T07:56:24.675653Z",
     "shell.execute_reply": "2023-01-12T07:56:24.674310Z"
    },
    "id": "koRvHL0BurO-",
    "papermill": {
     "duration": 29.518338,
     "end_time": "2023-01-12T07:56:24.678258",
     "exception": false,
     "start_time": "2023-01-12T07:55:55.159920",
     "status": "completed"
    },
    "scrolled": true,
    "tags": []
   },
   "outputs": [
    {
     "name": "stderr",
     "output_type": "stream",
     "text": [
      "[nltk_data] Downloading package stopwords to /usr/share/nltk_data...\n",
      "[nltk_data]   Package stopwords is already up-to-date!\n"
     ]
    },
    {
     "name": "stdout",
     "output_type": "stream",
     "text": [
      "Collecting en-core-web-sm==3.3.0\r\n",
      "  Downloading https://github.com/explosion/spacy-models/releases/download/en_core_web_sm-3.3.0/en_core_web_sm-3.3.0-py3-none-any.whl (12.8 MB)\r\n",
      "\u001b[2K     \u001b[90m━━━━━━━━━━━━━━━━━━━━━━━━━━━━━━━━━━━━━━━━\u001b[0m \u001b[32m12.8/12.8 MB\u001b[0m \u001b[31m18.8 MB/s\u001b[0m eta \u001b[36m0:00:00\u001b[0m\r\n",
      "\u001b[?25hRequirement already satisfied: spacy<3.4.0,>=3.3.0.dev0 in /opt/conda/lib/python3.7/site-packages (from en-core-web-sm==3.3.0) (3.3.2)\r\n",
      "Requirement already satisfied: catalogue<2.1.0,>=2.0.6 in /opt/conda/lib/python3.7/site-packages (from spacy<3.4.0,>=3.3.0.dev0->en-core-web-sm==3.3.0) (2.0.8)\r\n",
      "Requirement already satisfied: smart-open<7.0.0,>=5.2.1 in /opt/conda/lib/python3.7/site-packages (from spacy<3.4.0,>=3.3.0.dev0->en-core-web-sm==3.3.0) (6.3.0)\r\n",
      "Requirement already satisfied: cymem<2.1.0,>=2.0.2 in /opt/conda/lib/python3.7/site-packages (from spacy<3.4.0,>=3.3.0.dev0->en-core-web-sm==3.3.0) (2.0.7)\r\n",
      "Requirement already satisfied: setuptools in /opt/conda/lib/python3.7/site-packages (from spacy<3.4.0,>=3.3.0.dev0->en-core-web-sm==3.3.0) (59.8.0)\r\n",
      "Requirement already satisfied: numpy>=1.15.0 in /opt/conda/lib/python3.7/site-packages (from spacy<3.4.0,>=3.3.0.dev0->en-core-web-sm==3.3.0) (1.21.6)\r\n",
      "Requirement already satisfied: packaging>=20.0 in /opt/conda/lib/python3.7/site-packages (from spacy<3.4.0,>=3.3.0.dev0->en-core-web-sm==3.3.0) (22.0)\r\n",
      "Requirement already satisfied: spacy-loggers<2.0.0,>=1.0.0 in /opt/conda/lib/python3.7/site-packages (from spacy<3.4.0,>=3.3.0.dev0->en-core-web-sm==3.3.0) (1.0.4)\r\n",
      "Requirement already satisfied: wasabi<1.1.0,>=0.9.1 in /opt/conda/lib/python3.7/site-packages (from spacy<3.4.0,>=3.3.0.dev0->en-core-web-sm==3.3.0) (0.10.1)\r\n",
      "Requirement already satisfied: thinc<8.1.0,>=8.0.14 in /opt/conda/lib/python3.7/site-packages (from spacy<3.4.0,>=3.3.0.dev0->en-core-web-sm==3.3.0) (8.0.17)\r\n",
      "Requirement already satisfied: srsly<3.0.0,>=2.4.3 in /opt/conda/lib/python3.7/site-packages (from spacy<3.4.0,>=3.3.0.dev0->en-core-web-sm==3.3.0) (2.4.5)\r\n",
      "Requirement already satisfied: typing-extensions<4.2.0,>=3.7.4 in /opt/conda/lib/python3.7/site-packages (from spacy<3.4.0,>=3.3.0.dev0->en-core-web-sm==3.3.0) (4.1.1)\r\n",
      "Requirement already satisfied: pathy>=0.3.5 in /opt/conda/lib/python3.7/site-packages (from spacy<3.4.0,>=3.3.0.dev0->en-core-web-sm==3.3.0) (0.10.1)\r\n",
      "Requirement already satisfied: preshed<3.1.0,>=3.0.2 in /opt/conda/lib/python3.7/site-packages (from spacy<3.4.0,>=3.3.0.dev0->en-core-web-sm==3.3.0) (3.0.8)\r\n",
      "Requirement already satisfied: spacy-legacy<3.1.0,>=3.0.9 in /opt/conda/lib/python3.7/site-packages (from spacy<3.4.0,>=3.3.0.dev0->en-core-web-sm==3.3.0) (3.0.11)\r\n",
      "Requirement already satisfied: typer<0.5.0,>=0.3.0 in /opt/conda/lib/python3.7/site-packages (from spacy<3.4.0,>=3.3.0.dev0->en-core-web-sm==3.3.0) (0.4.2)\r\n",
      "Requirement already satisfied: pydantic!=1.8,!=1.8.1,<1.9.0,>=1.7.4 in /opt/conda/lib/python3.7/site-packages (from spacy<3.4.0,>=3.3.0.dev0->en-core-web-sm==3.3.0) (1.8.2)\r\n",
      "Requirement already satisfied: requests<3.0.0,>=2.13.0 in /opt/conda/lib/python3.7/site-packages (from spacy<3.4.0,>=3.3.0.dev0->en-core-web-sm==3.3.0) (2.28.1)\r\n",
      "Requirement already satisfied: langcodes<4.0.0,>=3.2.0 in /opt/conda/lib/python3.7/site-packages (from spacy<3.4.0,>=3.3.0.dev0->en-core-web-sm==3.3.0) (3.3.0)\r\n",
      "Requirement already satisfied: tqdm<5.0.0,>=4.38.0 in /opt/conda/lib/python3.7/site-packages (from spacy<3.4.0,>=3.3.0.dev0->en-core-web-sm==3.3.0) (4.64.0)\r\n",
      "Requirement already satisfied: blis<0.8.0,>=0.4.0 in /opt/conda/lib/python3.7/site-packages (from spacy<3.4.0,>=3.3.0.dev0->en-core-web-sm==3.3.0) (0.7.9)\r\n",
      "Requirement already satisfied: jinja2 in /opt/conda/lib/python3.7/site-packages (from spacy<3.4.0,>=3.3.0.dev0->en-core-web-sm==3.3.0) (3.1.2)\r\n",
      "Requirement already satisfied: murmurhash<1.1.0,>=0.28.0 in /opt/conda/lib/python3.7/site-packages (from spacy<3.4.0,>=3.3.0.dev0->en-core-web-sm==3.3.0) (1.0.9)\r\n",
      "Requirement already satisfied: zipp>=0.5 in /opt/conda/lib/python3.7/site-packages (from catalogue<2.1.0,>=2.0.6->spacy<3.4.0,>=3.3.0.dev0->en-core-web-sm==3.3.0) (3.8.0)\r\n",
      "Requirement already satisfied: urllib3<1.27,>=1.21.1 in /opt/conda/lib/python3.7/site-packages (from requests<3.0.0,>=2.13.0->spacy<3.4.0,>=3.3.0.dev0->en-core-web-sm==3.3.0) (1.26.13)\r\n",
      "Requirement already satisfied: certifi>=2017.4.17 in /opt/conda/lib/python3.7/site-packages (from requests<3.0.0,>=2.13.0->spacy<3.4.0,>=3.3.0.dev0->en-core-web-sm==3.3.0) (2022.12.7)\r\n",
      "Requirement already satisfied: idna<4,>=2.5 in /opt/conda/lib/python3.7/site-packages (from requests<3.0.0,>=2.13.0->spacy<3.4.0,>=3.3.0.dev0->en-core-web-sm==3.3.0) (3.3)\r\n",
      "Requirement already satisfied: charset-normalizer<3,>=2 in /opt/conda/lib/python3.7/site-packages (from requests<3.0.0,>=2.13.0->spacy<3.4.0,>=3.3.0.dev0->en-core-web-sm==3.3.0) (2.1.0)\r\n",
      "Requirement already satisfied: click<9.0.0,>=7.1.1 in /opt/conda/lib/python3.7/site-packages (from typer<0.5.0,>=0.3.0->spacy<3.4.0,>=3.3.0.dev0->en-core-web-sm==3.3.0) (8.1.3)\r\n",
      "Requirement already satisfied: MarkupSafe>=2.0 in /opt/conda/lib/python3.7/site-packages (from jinja2->spacy<3.4.0,>=3.3.0.dev0->en-core-web-sm==3.3.0) (2.1.1)\r\n",
      "Requirement already satisfied: importlib-metadata in /opt/conda/lib/python3.7/site-packages (from click<9.0.0,>=7.1.1->typer<0.5.0,>=0.3.0->spacy<3.4.0,>=3.3.0.dev0->en-core-web-sm==3.3.0) (4.13.0)\r\n",
      "\u001b[33mWARNING: Running pip as the 'root' user can result in broken permissions and conflicting behaviour with the system package manager. It is recommended to use a virtual environment instead: https://pip.pypa.io/warnings/venv\u001b[0m\u001b[33m\r\n",
      "\u001b[0m\u001b[38;5;2m✔ Download and installation successful\u001b[0m\r\n",
      "You can now load the package via spacy.load('en_core_web_sm')\r\n"
     ]
    }
   ],
   "source": [
    "import os\n",
    "import pandas as pd\n",
    "import numpy as np\n",
    "import seaborn as sns\n",
    "sns.set_theme()\n",
    "import matplotlib.pyplot as plt\n",
    "import re\n",
    "\n",
    "import torch\n",
    "from transformers import AutoTokenizer, AutoModelForSequenceClassification, TrainingArguments, Trainer, BertTokenizer\n",
    "from transformers import DataCollatorWithPadding\n",
    "\n",
    "from datasets import load_dataset, get_dataset_split_names, Dataset\n",
    "\n",
    "from sklearn.metrics import classification_report\n",
    "from sklearn.feature_extraction.text import TfidfVectorizer\n",
    "from sklearn.metrics import f1_score\n",
    "from sklearn import preprocessing\n",
    "\n",
    "from sklearn.model_selection import RandomizedSearchCV\n",
    "from sklearn.linear_model import LogisticRegression\n",
    "from sklearn.model_selection import train_test_split\n",
    "\n",
    "from nltk.corpus import stopwords\n",
    "import nltk\n",
    "from nltk.corpus import stopwords as nltk_stopwords\n",
    "nltk.download('stopwords')\n",
    "stopwords = set(nltk_stopwords.words('english'))\n",
    "import spacy\n",
    "!python -m spacy download en_core_web_sm\n",
    "\n",
    "from tqdm import tqdm"
   ]
  },
  {
   "cell_type": "markdown",
   "id": "b853b1d2",
   "metadata": {
    "papermill": {
     "duration": 0.014147,
     "end_time": "2023-01-12T07:56:24.707331",
     "exception": false,
     "start_time": "2023-01-12T07:56:24.693184",
     "status": "completed"
    },
    "tags": []
   },
   "source": [
    "Убедимся, что мы можем использовать видеокарту и подключим ее."
   ]
  },
  {
   "cell_type": "code",
   "execution_count": 3,
   "id": "c71d9481",
   "metadata": {
    "execution": {
     "iopub.execute_input": "2023-01-12T07:56:24.738822Z",
     "iopub.status.busy": "2023-01-12T07:56:24.737039Z",
     "iopub.status.idle": "2023-01-12T07:56:24.748346Z",
     "shell.execute_reply": "2023-01-12T07:56:24.747013Z"
    },
    "papermill": {
     "duration": 0.029664,
     "end_time": "2023-01-12T07:56:24.751146",
     "exception": false,
     "start_time": "2023-01-12T07:56:24.721482",
     "status": "completed"
    },
    "tags": []
   },
   "outputs": [
    {
     "name": "stdout",
     "output_type": "stream",
     "text": [
      "Количество доступных видеокарт: 1\n",
      "Будем использовать: Tesla P100-PCIE-16GB\n"
     ]
    }
   ],
   "source": [
    "if torch.cuda.is_available():    \n",
    "    # Tell PyTorch to use the GPU.    \n",
    "    device = torch.device(\"cuda\")\n",
    "    print(f\"Количество доступных видеокарт: {torch.cuda.device_count()}\")\n",
    "    print(f'Будем использовать: {torch.cuda.get_device_name(0)}')\n",
    "\n",
    "# If we dont have GPU but a CPU, training will take place on CPU instead\n",
    "else:\n",
    "    print('Видеокарта не доступна. Используется процессор')\n",
    "    device = torch.device(\"cpu\")\n",
    "    \n",
    "torch.cuda.empty_cache()"
   ]
  },
  {
   "cell_type": "markdown",
   "id": "5b26485c",
   "metadata": {
    "id": "-moeUyA_lUeQ",
    "papermill": {
     "duration": 0.014109,
     "end_time": "2023-01-12T07:56:24.808709",
     "exception": false,
     "start_time": "2023-01-12T07:56:24.794600",
     "status": "completed"
    },
    "tags": []
   },
   "source": [
    "## Загрузим и проанализируем имеющиеся данные.\n",
    "\n",
    "Файл содержит два столбца:\n",
    "\n",
    "* `text` — текст комментария\n",
    "* `toxic` — целевой признак"
   ]
  },
  {
   "cell_type": "code",
   "execution_count": 4,
   "id": "8c68b3a5",
   "metadata": {
    "execution": {
     "iopub.execute_input": "2023-01-12T07:56:24.895641Z",
     "iopub.status.busy": "2023-01-12T07:56:24.895282Z",
     "iopub.status.idle": "2023-01-12T07:56:27.917020Z",
     "shell.execute_reply": "2023-01-12T07:56:27.916068Z"
    },
    "id": "lYoE5GJgmSvM",
    "papermill": {
     "duration": 3.039522,
     "end_time": "2023-01-12T07:56:27.919440",
     "exception": false,
     "start_time": "2023-01-12T07:56:24.879918",
     "status": "completed"
    },
    "tags": []
   },
   "outputs": [],
   "source": [
    "df = pd.read_csv('https://code.s3.yandex.net/datasets/toxic_comments.csv', index_col=0)"
   ]
  },
  {
   "cell_type": "code",
   "execution_count": 5,
   "id": "36a83c69",
   "metadata": {
    "execution": {
     "iopub.execute_input": "2023-01-12T07:56:27.949957Z",
     "iopub.status.busy": "2023-01-12T07:56:27.949658Z",
     "iopub.status.idle": "2023-01-12T07:56:27.964030Z",
     "shell.execute_reply": "2023-01-12T07:56:27.963011Z"
    },
    "id": "T6Qt3TfGmXB6",
    "outputId": "c5fe7cd5-8605-41e7-d7d5-229a53ab7d45",
    "papermill": {
     "duration": 0.032361,
     "end_time": "2023-01-12T07:56:27.966496",
     "exception": false,
     "start_time": "2023-01-12T07:56:27.934135",
     "status": "completed"
    },
    "tags": []
   },
   "outputs": [
    {
     "data": {
      "text/html": [
       "<div>\n",
       "<style scoped>\n",
       "    .dataframe tbody tr th:only-of-type {\n",
       "        vertical-align: middle;\n",
       "    }\n",
       "\n",
       "    .dataframe tbody tr th {\n",
       "        vertical-align: top;\n",
       "    }\n",
       "\n",
       "    .dataframe thead th {\n",
       "        text-align: right;\n",
       "    }\n",
       "</style>\n",
       "<table border=\"1\" class=\"dataframe\">\n",
       "  <thead>\n",
       "    <tr style=\"text-align: right;\">\n",
       "      <th></th>\n",
       "      <th>text</th>\n",
       "      <th>toxic</th>\n",
       "    </tr>\n",
       "  </thead>\n",
       "  <tbody>\n",
       "    <tr>\n",
       "      <th>0</th>\n",
       "      <td>Explanation\\nWhy the edits made under my usern...</td>\n",
       "      <td>0</td>\n",
       "    </tr>\n",
       "    <tr>\n",
       "      <th>1</th>\n",
       "      <td>D'aww! He matches this background colour I'm s...</td>\n",
       "      <td>0</td>\n",
       "    </tr>\n",
       "    <tr>\n",
       "      <th>2</th>\n",
       "      <td>Hey man, I'm really not trying to edit war. It...</td>\n",
       "      <td>0</td>\n",
       "    </tr>\n",
       "    <tr>\n",
       "      <th>3</th>\n",
       "      <td>\"\\nMore\\nI can't make any real suggestions on ...</td>\n",
       "      <td>0</td>\n",
       "    </tr>\n",
       "    <tr>\n",
       "      <th>4</th>\n",
       "      <td>You, sir, are my hero. Any chance you remember...</td>\n",
       "      <td>0</td>\n",
       "    </tr>\n",
       "  </tbody>\n",
       "</table>\n",
       "</div>"
      ],
      "text/plain": [
       "                                                text  toxic\n",
       "0  Explanation\\nWhy the edits made under my usern...      0\n",
       "1  D'aww! He matches this background colour I'm s...      0\n",
       "2  Hey man, I'm really not trying to edit war. It...      0\n",
       "3  \"\\nMore\\nI can't make any real suggestions on ...      0\n",
       "4  You, sir, are my hero. Any chance you remember...      0"
      ]
     },
     "execution_count": 5,
     "metadata": {},
     "output_type": "execute_result"
    }
   ],
   "source": [
    "df.head()"
   ]
  },
  {
   "cell_type": "code",
   "execution_count": 6,
   "id": "62f10d0c",
   "metadata": {
    "execution": {
     "iopub.execute_input": "2023-01-12T07:56:27.997385Z",
     "iopub.status.busy": "2023-01-12T07:56:27.996510Z",
     "iopub.status.idle": "2023-01-12T07:56:28.513461Z",
     "shell.execute_reply": "2023-01-12T07:56:28.512548Z"
    },
    "id": "P0WAe1S2mrNx",
    "outputId": "2b282f28-8876-4dfa-ae6a-b4949a8c8c18",
    "papermill": {
     "duration": 0.534673,
     "end_time": "2023-01-12T07:56:28.515995",
     "exception": false,
     "start_time": "2023-01-12T07:56:27.981322",
     "status": "completed"
    },
    "tags": []
   },
   "outputs": [
    {
     "data": {
      "image/png": "[encoded data removed]",
      "text/plain": [
       "<Figure size 432x288 with 1 Axes>"
      ]
     },
     "metadata": {},
     "output_type": "display_data"
    }
   ],
   "source": [
    "df['toxic'].value_counts().plot(kind='bar')\n",
    "plt.title('Количество классов комментариев')\n",
    "None"
   ]
  },
  {
   "cell_type": "markdown",
   "id": "25646e6c",
   "metadata": {
    "id": "_7aVWpU_nFxQ",
    "papermill": {
     "duration": 0.014874,
     "end_time": "2023-01-12T07:56:28.546123",
     "exception": false,
     "start_time": "2023-01-12T07:56:28.531249",
     "status": "completed"
    },
    "tags": []
   },
   "source": [
    "Комментарии содержат сильный дисбаланс классов. На каждый негативный комментарий приходится примерно 7 позитивных. Нужно будет учитывать это при обучении моделей."
   ]
  },
  {
   "cell_type": "markdown",
   "id": "341599b1",
   "metadata": {
    "id": "qQA91XoNv0oD",
    "papermill": {
     "duration": 0.014725,
     "end_time": "2023-01-12T07:56:28.575692",
     "exception": false,
     "start_time": "2023-01-12T07:56:28.560967",
     "status": "completed"
    },
    "tags": []
   },
   "source": [
    "## Подготовим текст для анализа\n",
    "\n",
    "Уберем лишние пробелы, знаки препинания, приведем все символы в нижний регистр."
   ]
  },
  {
   "cell_type": "code",
   "execution_count": 7,
   "id": "3d92959f",
   "metadata": {
    "execution": {
     "iopub.execute_input": "2023-01-12T07:56:28.607340Z",
     "iopub.status.busy": "2023-01-12T07:56:28.606443Z",
     "iopub.status.idle": "2023-01-12T07:56:32.989061Z",
     "shell.execute_reply": "2023-01-12T07:56:32.988092Z"
    },
    "id": "907aYP6BqfWI",
    "papermill": {
     "duration": 4.401103,
     "end_time": "2023-01-12T07:56:32.991565",
     "exception": false,
     "start_time": "2023-01-12T07:56:28.590462",
     "status": "completed"
    },
    "tags": []
   },
   "outputs": [],
   "source": [
    "df['text'] = df['text'].apply(lambda words: re.sub(\"[^a-zA-Z]\", \" \", words))\n",
    "df['text'] = df['text'].str.lower()\n",
    "df['text_tokens'] = df['text'].apply(lambda token: \" \".join(token.split()))"
   ]
  },
  {
   "cell_type": "code",
   "execution_count": 8,
   "id": "39d627c7",
   "metadata": {
    "execution": {
     "iopub.execute_input": "2023-01-12T07:56:33.023637Z",
     "iopub.status.busy": "2023-01-12T07:56:33.023318Z",
     "iopub.status.idle": "2023-01-12T07:56:33.033030Z",
     "shell.execute_reply": "2023-01-12T07:56:33.032025Z"
    },
    "id": "ROacD332w6rS",
    "outputId": "940fe4f5-b579-44fe-df22-3a754fd510fa",
    "papermill": {
     "duration": 0.029183,
     "end_time": "2023-01-12T07:56:33.036390",
     "exception": false,
     "start_time": "2023-01-12T07:56:33.007207",
     "status": "completed"
    },
    "scrolled": true,
    "tags": []
   },
   "outputs": [
    {
     "data": {
      "text/html": [
       "<div>\n",
       "<style scoped>\n",
       "    .dataframe tbody tr th:only-of-type {\n",
       "        vertical-align: middle;\n",
       "    }\n",
       "\n",
       "    .dataframe tbody tr th {\n",
       "        vertical-align: top;\n",
       "    }\n",
       "\n",
       "    .dataframe thead th {\n",
       "        text-align: right;\n",
       "    }\n",
       "</style>\n",
       "<table border=\"1\" class=\"dataframe\">\n",
       "  <thead>\n",
       "    <tr style=\"text-align: right;\">\n",
       "      <th></th>\n",
       "      <th>text</th>\n",
       "      <th>toxic</th>\n",
       "      <th>text_tokens</th>\n",
       "    </tr>\n",
       "  </thead>\n",
       "  <tbody>\n",
       "    <tr>\n",
       "      <th>0</th>\n",
       "      <td>explanation why the edits made under my userna...</td>\n",
       "      <td>0</td>\n",
       "      <td>explanation why the edits made under my userna...</td>\n",
       "    </tr>\n",
       "    <tr>\n",
       "      <th>1</th>\n",
       "      <td>d aww  he matches this background colour i m s...</td>\n",
       "      <td>0</td>\n",
       "      <td>d aww he matches this background colour i m se...</td>\n",
       "    </tr>\n",
       "    <tr>\n",
       "      <th>2</th>\n",
       "      <td>hey man  i m really not trying to edit war  it...</td>\n",
       "      <td>0</td>\n",
       "      <td>hey man i m really not trying to edit war it s...</td>\n",
       "    </tr>\n",
       "    <tr>\n",
       "      <th>3</th>\n",
       "      <td>more i can t make any real suggestions on im...</td>\n",
       "      <td>0</td>\n",
       "      <td>more i can t make any real suggestions on impr...</td>\n",
       "    </tr>\n",
       "    <tr>\n",
       "      <th>4</th>\n",
       "      <td>you  sir  are my hero  any chance you remember...</td>\n",
       "      <td>0</td>\n",
       "      <td>you sir are my hero any chance you remember wh...</td>\n",
       "    </tr>\n",
       "  </tbody>\n",
       "</table>\n",
       "</div>"
      ],
      "text/plain": [
       "                                                text  toxic  \\\n",
       "0  explanation why the edits made under my userna...      0   \n",
       "1  d aww  he matches this background colour i m s...      0   \n",
       "2  hey man  i m really not trying to edit war  it...      0   \n",
       "3    more i can t make any real suggestions on im...      0   \n",
       "4  you  sir  are my hero  any chance you remember...      0   \n",
       "\n",
       "                                         text_tokens  \n",
       "0  explanation why the edits made under my userna...  \n",
       "1  d aww he matches this background colour i m se...  \n",
       "2  hey man i m really not trying to edit war it s...  \n",
       "3  more i can t make any real suggestions on impr...  \n",
       "4  you sir are my hero any chance you remember wh...  "
      ]
     },
     "execution_count": 8,
     "metadata": {},
     "output_type": "execute_result"
    }
   ],
   "source": [
    "df.head()"
   ]
  },
  {
   "cell_type": "markdown",
   "id": "6738ee54",
   "metadata": {
    "id": "KFPeMzDpz5CE",
    "papermill": {
     "duration": 0.015387,
     "end_time": "2023-01-12T07:56:33.066599",
     "exception": false,
     "start_time": "2023-01-12T07:56:33.051212",
     "status": "completed"
    },
    "tags": []
   },
   "source": [
    "Посмотрим на распределение количества слов в комментариях."
   ]
  },
  {
   "cell_type": "code",
   "execution_count": 9,
   "id": "79c0a8ac",
   "metadata": {
    "execution": {
     "iopub.execute_input": "2023-01-12T07:56:33.097954Z",
     "iopub.status.busy": "2023-01-12T07:56:33.097691Z",
     "iopub.status.idle": "2023-01-12T07:56:35.031511Z",
     "shell.execute_reply": "2023-01-12T07:56:35.030497Z"
    },
    "id": "2wmrsxIuyWoG",
    "outputId": "a62cf317-7c30-41ec-89ce-41dc2d81afd3",
    "papermill": {
     "duration": 1.951875,
     "end_time": "2023-01-12T07:56:35.033539",
     "exception": false,
     "start_time": "2023-01-12T07:56:33.081664",
     "status": "completed"
    },
    "tags": []
   },
   "outputs": [
    {
     "data": {
      "image/png": "[encoded data removed]",
      "text/plain": [
       "<Figure size 432x288 with 1 Axes>"
      ]
     },
     "metadata": {},
     "output_type": "display_data"
    }
   ],
   "source": [
    "df['token_len'] = [len(words.split(' ')) for words in df['text_tokens']]\n",
    "\n",
    "sns.histplot(df['token_len'])\n",
    "plt.title('Распределение размеров токена')\n",
    "None"
   ]
  },
  {
   "cell_type": "code",
   "execution_count": 10,
   "id": "70f53620",
   "metadata": {
    "execution": {
     "iopub.execute_input": "2023-01-12T07:56:35.067697Z",
     "iopub.status.busy": "2023-01-12T07:56:35.066874Z",
     "iopub.status.idle": "2023-01-12T07:56:35.081881Z",
     "shell.execute_reply": "2023-01-12T07:56:35.080793Z"
    },
    "id": "pNIVy4ji4ckB",
    "outputId": "4f430c29-40a0-4f56-f434-d02258ce4a89",
    "papermill": {
     "duration": 0.034254,
     "end_time": "2023-01-12T07:56:35.084247",
     "exception": false,
     "start_time": "2023-01-12T07:56:35.049993",
     "status": "completed"
    },
    "tags": []
   },
   "outputs": [
    {
     "data": {
      "text/plain": [
       "count    159292.000000\n",
       "mean         68.072094\n",
       "std         100.837220\n",
       "min           1.000000\n",
       "25%          17.000000\n",
       "50%          36.000000\n",
       "75%          76.000000\n",
       "max        1403.000000\n",
       "Name: token_len, dtype: float64"
      ]
     },
     "execution_count": 10,
     "metadata": {},
     "output_type": "execute_result"
    }
   ],
   "source": [
    "df['token_len'].describe()"
   ]
  },
  {
   "cell_type": "markdown",
   "id": "149fc87a",
   "metadata": {
    "id": "9nDEdWNP3sIc",
    "papermill": {
     "duration": 0.015284,
     "end_time": "2023-01-12T07:56:35.115642",
     "exception": false,
     "start_time": "2023-01-12T07:56:35.100358",
     "status": "completed"
    },
    "tags": []
   },
   "source": [
    "В данных иногда встречаются комментарии длиннее 512 слов. Надо будет учесть это при работе с токенайзером."
   ]
  },
  {
   "cell_type": "markdown",
   "id": "75972138",
   "metadata": {
    "id": "Qyo_qUUJ4ulv",
    "papermill": {
     "duration": 0.02456,
     "end_time": "2023-01-12T07:56:35.302748",
     "exception": false,
     "start_time": "2023-01-12T07:56:35.278188",
     "status": "completed"
    },
    "tags": []
   },
   "source": [
    "## Разобьем выборку на тренировочную и тестовую."
   ]
  },
  {
   "cell_type": "markdown",
   "id": "0cb33ba0-704a-4034-9da2-10a45d695f11",
   "metadata": {},
   "source": [
    "Так как в нашем распоряжении большой датасет, мы можем отвести на тест 10% наблюдений. Такое разбиение позволит модели увидеть больше слов при обучении и лучше понять семантику комментариев."
   ]
  },
  {
   "cell_type": "code",
   "execution_count": 11,
   "id": "e7ddc757",
   "metadata": {
    "execution": {
     "iopub.execute_input": "2023-01-12T07:56:35.352062Z",
     "iopub.status.busy": "2023-01-12T07:56:35.351561Z",
     "iopub.status.idle": "2023-01-12T07:56:35.410305Z",
     "shell.execute_reply": "2023-01-12T07:56:35.409251Z"
    },
    "id": "QPHq4TsO4n8v",
    "papermill": {
     "duration": 0.086454,
     "end_time": "2023-01-12T07:56:35.413493",
     "exception": false,
     "start_time": "2023-01-12T07:56:35.327039",
     "status": "completed"
    },
    "tags": []
   },
   "outputs": [],
   "source": [
    "train, test = train_test_split(df[['text_tokens', 'toxic']], test_size=0.1, random_state=42, shuffle=True)"
   ]
  },
  {
   "cell_type": "code",
   "execution_count": 12,
   "id": "8d223407",
   "metadata": {
    "execution": {
     "iopub.execute_input": "2023-01-12T07:56:35.562462Z",
     "iopub.status.busy": "2023-01-12T07:56:35.562059Z",
     "iopub.status.idle": "2023-01-12T07:56:35.582471Z",
     "shell.execute_reply": "2023-01-12T07:56:35.581628Z"
    },
    "id": "jnMl9iQ75hlp",
    "outputId": "70d4e0d7-ee0f-4c8e-97a1-42dced6cfb6c",
    "papermill": {
     "duration": 0.04736,
     "end_time": "2023-01-12T07:56:35.584826",
     "exception": false,
     "start_time": "2023-01-12T07:56:35.537466",
     "status": "completed"
    },
    "tags": []
   },
   "outputs": [
    {
     "name": "stdout",
     "output_type": "stream",
     "text": [
      "(143362, 2)\n",
      "(15930, 2)\n"
     ]
    }
   ],
   "source": [
    "for df in [train, test]:\n",
    "  print(df.shape)"
   ]
  },
  {
   "cell_type": "markdown",
   "id": "dca11846",
   "metadata": {
    "id": "SLtlPaRGZ_aw",
    "papermill": {
     "duration": 0.022704,
     "end_time": "2023-01-12T07:56:35.638339",
     "exception": false,
     "start_time": "2023-01-12T07:56:35.615635",
     "status": "completed"
    },
    "tags": []
   },
   "source": [
    "## Обучение моделей"
   ]
  },
  {
   "cell_type": "markdown",
   "id": "d96ec191",
   "metadata": {
    "id": "vxZlvmUx-SB5",
    "papermill": {
     "duration": 0.030031,
     "end_time": "2023-01-12T07:56:35.698112",
     "exception": false,
     "start_time": "2023-01-12T07:56:35.668081",
     "status": "completed"
    },
    "tags": []
   },
   "source": [
    "### Модель-заглушка\n",
    "\n",
    "Отметим все комментарии как токсичные"
   ]
  },
  {
   "cell_type": "code",
   "execution_count": 13,
   "id": "87bfeb10",
   "metadata": {
    "execution": {
     "iopub.execute_input": "2023-01-12T07:56:35.760972Z",
     "iopub.status.busy": "2023-01-12T07:56:35.760542Z",
     "iopub.status.idle": "2023-01-12T07:56:35.787724Z",
     "shell.execute_reply": "2023-01-12T07:56:35.780640Z"
    },
    "id": "PcFU5gkT-aHo",
    "outputId": "cfef02ca-a4fa-4cb9-8f95-01c831440a2d",
    "papermill": {
     "duration": 0.060918,
     "end_time": "2023-01-12T07:56:35.790829",
     "exception": false,
     "start_time": "2023-01-12T07:56:35.729911",
     "status": "completed"
    },
    "tags": []
   },
   "outputs": [
    {
     "name": "stdout",
     "output_type": "stream",
     "text": [
      "f1 заглушки: 0.18420152741365553\n"
     ]
    }
   ],
   "source": [
    "dummy = np.ones(test.shape[0])\n",
    "\n",
    "print(f\"f1 заглушки: { f1_score(test['toxic'], dummy) }\")"
   ]
  },
  {
   "cell_type": "markdown",
   "id": "e5d86e36",
   "metadata": {
    "id": "TSvbWEQfaJLq",
    "papermill": {
     "duration": 0.023869,
     "end_time": "2023-01-12T07:56:35.892466",
     "exception": false,
     "start_time": "2023-01-12T07:56:35.868597",
     "status": "completed"
    },
    "tags": []
   },
   "source": [
    "## Попробуем логистическую регрессию с сочетанием TF-IDF\n",
    "\n",
    "Для этого лемматизируем тексты и передадим их TF-IDF"
   ]
  },
  {
   "cell_type": "code",
   "execution_count": 14,
   "id": "ea2efc2c",
   "metadata": {
    "execution": {
     "iopub.execute_input": "2023-01-12T07:56:35.944073Z",
     "iopub.status.busy": "2023-01-12T07:56:35.943594Z",
     "iopub.status.idle": "2023-01-12T07:56:35.952008Z",
     "shell.execute_reply": "2023-01-12T07:56:35.951194Z"
    },
    "id": "KFhkckZBJlio",
    "papermill": {
     "duration": 0.037992,
     "end_time": "2023-01-12T07:56:35.954408",
     "exception": false,
     "start_time": "2023-01-12T07:56:35.916416",
     "status": "completed"
    },
    "tags": []
   },
   "outputs": [],
   "source": [
    "def lemmatize_text(text):\n",
    "  nlp = spacy.load(\"en_core_web_sm\")\n",
    "  lemm_tokens_list = []\n",
    "  for doc in tqdm(nlp.pipe(text, disable=['parser', 'ner']), total=len(text)):\n",
    "    lemmas = \" \".join([token.lemma_ for token in doc])\n",
    "    lemm_tokens_list.append(lemmas)\n",
    "  return lemm_tokens_list"
   ]
  },
  {
   "cell_type": "code",
   "execution_count": 15,
   "id": "78144677",
   "metadata": {
    "execution": {
     "iopub.execute_input": "2023-01-12T07:56:36.004998Z",
     "iopub.status.busy": "2023-01-12T07:56:36.004584Z",
     "iopub.status.idle": "2023-01-12T08:06:01.539621Z",
     "shell.execute_reply": "2023-01-12T08:06:01.537915Z"
    },
    "id": "QlRh3o84LvWb",
    "outputId": "28940fa9-c481-458a-8a6f-60869c0e5519",
    "papermill": {
     "duration": 565.56241,
     "end_time": "2023-01-12T08:06:01.542425",
     "exception": false,
     "start_time": "2023-01-12T07:56:35.980015",
     "status": "completed"
    },
    "tags": []
   },
   "outputs": [
    {
     "name": "stderr",
     "output_type": "stream",
     "text": [
      "100%|██████████| 143362/143362 [08:22<00:00, 285.26it/s]\n",
      "100%|██████████| 15930/15930 [01:01<00:00, 259.03it/s]"
     ]
    },
    {
     "name": "stdout",
     "output_type": "stream",
     "text": [
      "CPU times: user 9min 18s, sys: 4.43 s, total: 9min 22s\n",
      "Wall time: 9min 25s\n"
     ]
    },
    {
     "name": "stderr",
     "output_type": "stream",
     "text": [
      "\n"
     ]
    }
   ],
   "source": [
    "%%time\n",
    "train_lemm_tokens = lemmatize_text(train['text_tokens'])\n",
    "test_lemm_tokens = lemmatize_text(test['text_tokens'])"
   ]
  },
  {
   "cell_type": "code",
   "execution_count": 16,
   "id": "ad2917ae",
   "metadata": {
    "execution": {
     "iopub.execute_input": "2023-01-12T08:06:01.837616Z",
     "iopub.status.busy": "2023-01-12T08:06:01.837250Z",
     "iopub.status.idle": "2023-01-12T08:06:01.984758Z",
     "shell.execute_reply": "2023-01-12T08:06:01.983780Z"
    },
    "id": "euIKsBeojp5u",
    "papermill": {
     "duration": 0.296699,
     "end_time": "2023-01-12T08:06:01.987234",
     "exception": false,
     "start_time": "2023-01-12T08:06:01.690535",
     "status": "completed"
    },
    "tags": []
   },
   "outputs": [],
   "source": [
    "with open(r'train_lemm_tokens.txt', 'w') as f:\n",
    "  f.write('\\n'.join(train_lemm_tokens))\n",
    "  f.close()\n",
    "\n",
    "with open(r'test_lemm_tokens.txt', 'w') as f:\n",
    "  f.write('\\n'.join(test_lemm_tokens))\n",
    "  f.close()"
   ]
  },
  {
   "cell_type": "markdown",
   "id": "a6e24aa6-dd85-47ed-955c-a643d6ab5322",
   "metadata": {},
   "source": [
    "Убедимся, что лемматизация сработала."
   ]
  },
  {
   "cell_type": "code",
   "execution_count": 18,
   "id": "95f42922",
   "metadata": {
    "execution": {
     "iopub.execute_input": "2023-01-12T08:06:02.870013Z",
     "iopub.status.busy": "2023-01-12T08:06:02.869647Z",
     "iopub.status.idle": "2023-01-12T08:06:02.877951Z",
     "shell.execute_reply": "2023-01-12T08:06:02.876942Z"
    },
    "id": "3FgcEo40CxdB",
    "outputId": "8c837229-1974-4284-c775-680eab0d2c6e",
    "papermill": {
     "duration": 0.157417,
     "end_time": "2023-01-12T08:06:02.879980",
     "exception": false,
     "start_time": "2023-01-12T08:06:02.722563",
     "status": "completed"
    },
    "tags": []
   },
   "outputs": [
    {
     "data": {
      "text/plain": [
       "['stop delete image without first consulting quadell you need to stop delete image without first consulting with the person who post they that be bad behavior on your part cease and desist if you think there s a problem first discuss it with the person involve don t take matter into your own hand and just take action do that show disrespect to other and make people angry ledastray',\n",
       " 'controversial material of any kind that be unsourced or poorly source must be remove immediately especially if potentially libelous blp rule be apply it seem']"
      ]
     },
     "metadata": {},
     "output_type": "display_data"
    },
    {
     "data": {
      "text/plain": [
       "['sometime back I just happen to log on to www izoom in with a friend s reference and I be amazed to see the concept fresh idea entertainment have come up with so many deal all under one roof this website be very user friendly and easy to use and be fun to be on you have gossip game fact another exciting feature to add to it be face of the week every week new face be select and put up as izoom face it s great to have be select in four out of a group of million this new start up have already get many a deal in its kitty few of they be thefortune hotel the beach be my personal favorite izoom in have a usp of mobile coupon coupon be available even when a user can not access internet you just need to sms izoom support to and you get attend immediately all I can say be izoom in be a must visit website for everyone before they go out for shopping or dining or for out cheer',\n",
       " 'the late edit be much well don t make this article state super at all']"
      ]
     },
     "metadata": {},
     "output_type": "display_data"
    }
   ],
   "source": [
    "display(train_lemm_tokens[:2])\n",
    "display(test_lemm_tokens[:2])"
   ]
  },
  {
   "cell_type": "markdown",
   "id": "69a2943f",
   "metadata": {
    "id": "Fnj07uviZWWK",
    "papermill": {
     "duration": 0.144243,
     "end_time": "2023-01-12T08:06:03.501521",
     "exception": false,
     "start_time": "2023-01-12T08:06:03.357278",
     "status": "completed"
    },
    "tags": []
   },
   "source": [
    "Для того, чтобы логистическая регрессия сходилась, масштабируем данные, используем солвер saga и добавим количество итераций."
   ]
  },
  {
   "cell_type": "code",
   "execution_count": 19,
   "id": "36ddc5cb",
   "metadata": {
    "execution": {
     "iopub.execute_input": "2023-01-12T08:06:03.900943Z",
     "iopub.status.busy": "2023-01-12T08:06:03.900518Z",
     "iopub.status.idle": "2023-01-12T08:06:11.572015Z",
     "shell.execute_reply": "2023-01-12T08:06:11.571044Z"
    },
    "id": "1l_SnUJjqjC3",
    "papermill": {
     "duration": 7.926413,
     "end_time": "2023-01-12T08:06:11.574365",
     "exception": false,
     "start_time": "2023-01-12T08:06:03.647952",
     "status": "completed"
    },
    "tags": []
   },
   "outputs": [],
   "source": [
    "count_tf_idf = TfidfVectorizer(stop_words=stopwords)\n",
    "train_tf_idf = count_tf_idf.fit_transform(train_lemm_tokens)\n",
    "test_tf_idf = count_tf_idf.transform(test_lemm_tokens)"
   ]
  },
  {
   "cell_type": "code",
   "execution_count": 20,
   "id": "0bb5fceb",
   "metadata": {
    "execution": {
     "iopub.execute_input": "2023-01-12T08:06:11.864347Z",
     "iopub.status.busy": "2023-01-12T08:06:11.863432Z",
     "iopub.status.idle": "2023-01-12T08:06:11.869194Z",
     "shell.execute_reply": "2023-01-12T08:06:11.868134Z"
    },
    "id": "bjuC2Bbs66ni",
    "outputId": "f9180d3f-d2d0-4116-97f9-b20246a947c7",
    "papermill": {
     "duration": 0.152421,
     "end_time": "2023-01-12T08:06:11.872433",
     "exception": false,
     "start_time": "2023-01-12T08:06:11.720012",
     "status": "completed"
    },
    "tags": []
   },
   "outputs": [
    {
     "name": "stdout",
     "output_type": "stream",
     "text": [
      "(143362, 142525) (15930, 142525)\n"
     ]
    }
   ],
   "source": [
    "print(train_tf_idf.shape, test_tf_idf.shape)"
   ]
  },
  {
   "cell_type": "code",
   "execution_count": 21,
   "id": "3ac7e680",
   "metadata": {
    "execution": {
     "iopub.execute_input": "2023-01-12T08:06:12.163661Z",
     "iopub.status.busy": "2023-01-12T08:06:12.163274Z",
     "iopub.status.idle": "2023-01-12T08:06:12.297106Z",
     "shell.execute_reply": "2023-01-12T08:06:12.296129Z"
    },
    "id": "7ciWBDZt9hTF",
    "papermill": {
     "duration": 0.280705,
     "end_time": "2023-01-12T08:06:12.299512",
     "exception": false,
     "start_time": "2023-01-12T08:06:12.018807",
     "status": "completed"
    },
    "tags": []
   },
   "outputs": [],
   "source": [
    "scaler = preprocessing.StandardScaler(with_mean=False)\n",
    "train_tf_idf_scaled = scaler.fit_transform(train_tf_idf)\n",
    "test_tf_idf_scaled = scaler.transform(test_tf_idf)"
   ]
  },
  {
   "cell_type": "code",
   "execution_count": 22,
   "id": "41969937",
   "metadata": {
    "execution": {
     "iopub.execute_input": "2023-01-12T08:06:12.597268Z",
     "iopub.status.busy": "2023-01-12T08:06:12.596265Z",
     "iopub.status.idle": "2023-01-12T08:20:12.432262Z",
     "shell.execute_reply": "2023-01-12T08:20:12.431263Z"
    },
    "id": "5wbUCXJDYEdS",
    "outputId": "71003be8-cb26-4e35-cc39-fa2481295eca",
    "papermill": {
     "duration": 840.138295,
     "end_time": "2023-01-12T08:20:12.582406",
     "exception": false,
     "start_time": "2023-01-12T08:06:12.444111",
     "status": "completed"
    },
    "tags": []
   },
   "outputs": [
    {
     "name": "stdout",
     "output_type": "stream",
     "text": [
      "Fitting 3 folds for each of 10 candidates, totalling 30 fits\n"
     ]
    },
    {
     "name": "stderr",
     "output_type": "stream",
     "text": [
      "/opt/conda/lib/python3.7/site-packages/sklearn/linear_model/_sag.py:354: ConvergenceWarning: The max_iter was reached which means the coef_ did not converge\n",
      "  ConvergenceWarning,\n"
     ]
    },
    {
     "name": "stdout",
     "output_type": "stream",
     "text": [
      "[CV] END ..................................C=15, solver=saga; total time=  33.3s\n"
     ]
    },
    {
     "name": "stderr",
     "output_type": "stream",
     "text": [
      "/opt/conda/lib/python3.7/site-packages/sklearn/linear_model/_sag.py:354: ConvergenceWarning: The max_iter was reached which means the coef_ did not converge\n",
      "  ConvergenceWarning,\n"
     ]
    },
    {
     "name": "stdout",
     "output_type": "stream",
     "text": [
      "[CV] END ..................................C=15, solver=saga; total time=  33.3s\n"
     ]
    },
    {
     "name": "stderr",
     "output_type": "stream",
     "text": [
      "/opt/conda/lib/python3.7/site-packages/sklearn/linear_model/_sag.py:354: ConvergenceWarning: The max_iter was reached which means the coef_ did not converge\n",
      "  ConvergenceWarning,\n"
     ]
    },
    {
     "name": "stdout",
     "output_type": "stream",
     "text": [
      "[CV] END ..................................C=15, solver=saga; total time=  32.9s\n"
     ]
    },
    {
     "name": "stderr",
     "output_type": "stream",
     "text": [
      "/opt/conda/lib/python3.7/site-packages/sklearn/linear_model/_sag.py:354: ConvergenceWarning: The max_iter was reached which means the coef_ did not converge\n",
      "  ConvergenceWarning,\n"
     ]
    },
    {
     "name": "stdout",
     "output_type": "stream",
     "text": [
      "[CV] END ...................................C=12, solver=sag; total time=  32.5s\n"
     ]
    },
    {
     "name": "stderr",
     "output_type": "stream",
     "text": [
      "/opt/conda/lib/python3.7/site-packages/sklearn/linear_model/_sag.py:354: ConvergenceWarning: The max_iter was reached which means the coef_ did not converge\n",
      "  ConvergenceWarning,\n"
     ]
    },
    {
     "name": "stdout",
     "output_type": "stream",
     "text": [
      "[CV] END ...................................C=12, solver=sag; total time=  34.2s\n"
     ]
    },
    {
     "name": "stderr",
     "output_type": "stream",
     "text": [
      "/opt/conda/lib/python3.7/site-packages/sklearn/linear_model/_sag.py:354: ConvergenceWarning: The max_iter was reached which means the coef_ did not converge\n",
      "  ConvergenceWarning,\n"
     ]
    },
    {
     "name": "stdout",
     "output_type": "stream",
     "text": [
      "[CV] END ...................................C=12, solver=sag; total time=  32.0s\n",
      "[CV] END ...................................C=0, solver=saga; total time=   0.0s\n",
      "[CV] END ...................................C=0, solver=saga; total time=   0.0s\n",
      "[CV] END ...................................C=0, solver=saga; total time=   0.0s\n"
     ]
    },
    {
     "name": "stderr",
     "output_type": "stream",
     "text": [
      "/opt/conda/lib/python3.7/site-packages/sklearn/linear_model/_sag.py:354: ConvergenceWarning: The max_iter was reached which means the coef_ did not converge\n",
      "  ConvergenceWarning,\n"
     ]
    },
    {
     "name": "stdout",
     "output_type": "stream",
     "text": [
      "[CV] END ..................................C=12, solver=saga; total time=  32.8s\n"
     ]
    },
    {
     "name": "stderr",
     "output_type": "stream",
     "text": [
      "/opt/conda/lib/python3.7/site-packages/sklearn/linear_model/_sag.py:354: ConvergenceWarning: The max_iter was reached which means the coef_ did not converge\n",
      "  ConvergenceWarning,\n"
     ]
    },
    {
     "name": "stdout",
     "output_type": "stream",
     "text": [
      "[CV] END ..................................C=12, solver=saga; total time=  32.5s\n"
     ]
    },
    {
     "name": "stderr",
     "output_type": "stream",
     "text": [
      "/opt/conda/lib/python3.7/site-packages/sklearn/linear_model/_sag.py:354: ConvergenceWarning: The max_iter was reached which means the coef_ did not converge\n",
      "  ConvergenceWarning,\n"
     ]
    },
    {
     "name": "stdout",
     "output_type": "stream",
     "text": [
      "[CV] END ..................................C=12, solver=saga; total time=  33.4s\n"
     ]
    },
    {
     "name": "stderr",
     "output_type": "stream",
     "text": [
      "/opt/conda/lib/python3.7/site-packages/sklearn/linear_model/_sag.py:354: ConvergenceWarning: The max_iter was reached which means the coef_ did not converge\n",
      "  ConvergenceWarning,\n"
     ]
    },
    {
     "name": "stdout",
     "output_type": "stream",
     "text": [
      "[CV] END ....................................C=6, solver=sag; total time=  33.8s\n"
     ]
    },
    {
     "name": "stderr",
     "output_type": "stream",
     "text": [
      "/opt/conda/lib/python3.7/site-packages/sklearn/linear_model/_sag.py:354: ConvergenceWarning: The max_iter was reached which means the coef_ did not converge\n",
      "  ConvergenceWarning,\n"
     ]
    },
    {
     "name": "stdout",
     "output_type": "stream",
     "text": [
      "[CV] END ....................................C=6, solver=sag; total time=  33.6s\n"
     ]
    },
    {
     "name": "stderr",
     "output_type": "stream",
     "text": [
      "/opt/conda/lib/python3.7/site-packages/sklearn/linear_model/_sag.py:354: ConvergenceWarning: The max_iter was reached which means the coef_ did not converge\n",
      "  ConvergenceWarning,\n"
     ]
    },
    {
     "name": "stdout",
     "output_type": "stream",
     "text": [
      "[CV] END ....................................C=6, solver=sag; total time=  34.5s\n"
     ]
    },
    {
     "name": "stderr",
     "output_type": "stream",
     "text": [
      "/opt/conda/lib/python3.7/site-packages/sklearn/linear_model/_sag.py:354: ConvergenceWarning: The max_iter was reached which means the coef_ did not converge\n",
      "  ConvergenceWarning,\n"
     ]
    },
    {
     "name": "stdout",
     "output_type": "stream",
     "text": [
      "[CV] END ...................................C=3, solver=saga; total time=  32.7s\n"
     ]
    },
    {
     "name": "stderr",
     "output_type": "stream",
     "text": [
      "/opt/conda/lib/python3.7/site-packages/sklearn/linear_model/_sag.py:354: ConvergenceWarning: The max_iter was reached which means the coef_ did not converge\n",
      "  ConvergenceWarning,\n"
     ]
    },
    {
     "name": "stdout",
     "output_type": "stream",
     "text": [
      "[CV] END ...................................C=3, solver=saga; total time=  33.3s\n"
     ]
    },
    {
     "name": "stderr",
     "output_type": "stream",
     "text": [
      "/opt/conda/lib/python3.7/site-packages/sklearn/linear_model/_sag.py:354: ConvergenceWarning: The max_iter was reached which means the coef_ did not converge\n",
      "  ConvergenceWarning,\n"
     ]
    },
    {
     "name": "stdout",
     "output_type": "stream",
     "text": [
      "[CV] END ...................................C=3, solver=saga; total time=  32.9s\n",
      "[CV] END ....................................C=0, solver=sag; total time=   0.0s\n",
      "[CV] END ....................................C=0, solver=sag; total time=   0.0s\n",
      "[CV] END ....................................C=0, solver=sag; total time=   0.0s\n"
     ]
    },
    {
     "name": "stderr",
     "output_type": "stream",
     "text": [
      "/opt/conda/lib/python3.7/site-packages/sklearn/linear_model/_sag.py:354: ConvergenceWarning: The max_iter was reached which means the coef_ did not converge\n",
      "  ConvergenceWarning,\n"
     ]
    },
    {
     "name": "stdout",
     "output_type": "stream",
     "text": [
      "[CV] END ...................................C=15, solver=sag; total time=  31.4s\n"
     ]
    },
    {
     "name": "stderr",
     "output_type": "stream",
     "text": [
      "/opt/conda/lib/python3.7/site-packages/sklearn/linear_model/_sag.py:354: ConvergenceWarning: The max_iter was reached which means the coef_ did not converge\n",
      "  ConvergenceWarning,\n"
     ]
    },
    {
     "name": "stdout",
     "output_type": "stream",
     "text": [
      "[CV] END ...................................C=15, solver=sag; total time=  31.8s\n"
     ]
    },
    {
     "name": "stderr",
     "output_type": "stream",
     "text": [
      "/opt/conda/lib/python3.7/site-packages/sklearn/linear_model/_sag.py:354: ConvergenceWarning: The max_iter was reached which means the coef_ did not converge\n",
      "  ConvergenceWarning,\n"
     ]
    },
    {
     "name": "stdout",
     "output_type": "stream",
     "text": [
      "[CV] END ...................................C=15, solver=sag; total time=  31.6s\n"
     ]
    },
    {
     "name": "stderr",
     "output_type": "stream",
     "text": [
      "/opt/conda/lib/python3.7/site-packages/sklearn/linear_model/_sag.py:354: ConvergenceWarning: The max_iter was reached which means the coef_ did not converge\n",
      "  ConvergenceWarning,\n"
     ]
    },
    {
     "name": "stdout",
     "output_type": "stream",
     "text": [
      "[CV] END ...................................C=6, solver=saga; total time=  32.6s\n"
     ]
    },
    {
     "name": "stderr",
     "output_type": "stream",
     "text": [
      "/opt/conda/lib/python3.7/site-packages/sklearn/linear_model/_sag.py:354: ConvergenceWarning: The max_iter was reached which means the coef_ did not converge\n",
      "  ConvergenceWarning,\n"
     ]
    },
    {
     "name": "stdout",
     "output_type": "stream",
     "text": [
      "[CV] END ...................................C=6, solver=saga; total time=  33.0s\n"
     ]
    },
    {
     "name": "stderr",
     "output_type": "stream",
     "text": [
      "/opt/conda/lib/python3.7/site-packages/sklearn/linear_model/_sag.py:354: ConvergenceWarning: The max_iter was reached which means the coef_ did not converge\n",
      "  ConvergenceWarning,\n"
     ]
    },
    {
     "name": "stdout",
     "output_type": "stream",
     "text": [
      "[CV] END ...................................C=6, solver=saga; total time=  33.0s\n"
     ]
    },
    {
     "name": "stderr",
     "output_type": "stream",
     "text": [
      "/opt/conda/lib/python3.7/site-packages/sklearn/linear_model/_sag.py:354: ConvergenceWarning: The max_iter was reached which means the coef_ did not converge\n",
      "  ConvergenceWarning,\n"
     ]
    },
    {
     "name": "stdout",
     "output_type": "stream",
     "text": [
      "[CV] END ....................................C=9, solver=sag; total time=  32.4s\n"
     ]
    },
    {
     "name": "stderr",
     "output_type": "stream",
     "text": [
      "/opt/conda/lib/python3.7/site-packages/sklearn/linear_model/_sag.py:354: ConvergenceWarning: The max_iter was reached which means the coef_ did not converge\n",
      "  ConvergenceWarning,\n"
     ]
    },
    {
     "name": "stdout",
     "output_type": "stream",
     "text": [
      "[CV] END ....................................C=9, solver=sag; total time=  32.1s\n"
     ]
    },
    {
     "name": "stderr",
     "output_type": "stream",
     "text": [
      "/opt/conda/lib/python3.7/site-packages/sklearn/linear_model/_sag.py:354: ConvergenceWarning: The max_iter was reached which means the coef_ did not converge\n",
      "  ConvergenceWarning,\n",
      "/opt/conda/lib/python3.7/site-packages/sklearn/model_selection/_validation.py:372: FitFailedWarning: \n",
      "6 fits failed out of a total of 30.\n",
      "The score on these train-test partitions for these parameters will be set to nan.\n",
      "If these failures are not expected, you can try to debug them by setting error_score='raise'.\n",
      "\n",
      "Below are more details about the failures:\n",
      "--------------------------------------------------------------------------------\n",
      "6 fits failed with the following error:\n",
      "Traceback (most recent call last):\n",
      "  File \"/opt/conda/lib/python3.7/site-packages/sklearn/model_selection/_validation.py\", line 680, in _fit_and_score\n",
      "    estimator.fit(X_train, y_train, **fit_params)\n",
      "  File \"/opt/conda/lib/python3.7/site-packages/sklearn/linear_model/_logistic.py\", line 1614, in fit\n",
      "    for class_, warm_start_coef_ in zip(classes_, warm_start_coef)\n",
      "  File \"/opt/conda/lib/python3.7/site-packages/joblib/parallel.py\", line 1041, in __call__\n",
      "    if self.dispatch_one_batch(iterator):\n",
      "  File \"/opt/conda/lib/python3.7/site-packages/joblib/parallel.py\", line 859, in dispatch_one_batch\n",
      "    self._dispatch(tasks)\n",
      "  File \"/opt/conda/lib/python3.7/site-packages/joblib/parallel.py\", line 777, in _dispatch\n",
      "    job = self._backend.apply_async(batch, callback=cb)\n",
      "  File \"/opt/conda/lib/python3.7/site-packages/joblib/_parallel_backends.py\", line 208, in apply_async\n",
      "    result = ImmediateResult(func)\n",
      "  File \"/opt/conda/lib/python3.7/site-packages/joblib/_parallel_backends.py\", line 572, in __init__\n",
      "    self.results = batch()\n",
      "  File \"/opt/conda/lib/python3.7/site-packages/joblib/parallel.py\", line 263, in __call__\n",
      "    for func, args, kwargs in self.items]\n",
      "  File \"/opt/conda/lib/python3.7/site-packages/joblib/parallel.py\", line 263, in <listcomp>\n",
      "    for func, args, kwargs in self.items]\n",
      "  File \"/opt/conda/lib/python3.7/site-packages/sklearn/utils/fixes.py\", line 216, in __call__\n",
      "    return self.function(*args, **kwargs)\n",
      "  File \"/opt/conda/lib/python3.7/site-packages/sklearn/linear_model/_logistic.py\", line 858, in _logistic_regression_path\n",
      "    alpha = 1.0 / C\n",
      "ZeroDivisionError: float division by zero\n",
      "\n",
      "  warnings.warn(some_fits_failed_message, FitFailedWarning)\n",
      "/opt/conda/lib/python3.7/site-packages/sklearn/model_selection/_search.py:972: UserWarning: One or more of the test scores are non-finite: [0.71132181 0.70925052        nan 0.71132181 0.70925052 0.71132181\n",
      "        nan 0.70925052 0.71132181 0.70925052]\n",
      "  category=UserWarning,\n"
     ]
    },
    {
     "name": "stdout",
     "output_type": "stream",
     "text": [
      "[CV] END ....................................C=9, solver=sag; total time=  32.2s\n",
      "==============================\n",
      "{'solver': 'saga', 'C': 15}\n",
      "==============================\n",
      "CPU times: user 13min 56s, sys: 555 ms, total: 13min 56s\n",
      "Wall time: 13min 59s\n"
     ]
    },
    {
     "name": "stderr",
     "output_type": "stream",
     "text": [
      "/opt/conda/lib/python3.7/site-packages/sklearn/linear_model/_sag.py:354: ConvergenceWarning: The max_iter was reached which means the coef_ did not converge\n",
      "  ConvergenceWarning,\n"
     ]
    }
   ],
   "source": [
    "%%time\n",
    "logreg = LogisticRegression(class_weight='balanced', max_iter=500, random_state=42)\n",
    "\n",
    "grid={\"C\":range(0,16,3),\n",
    "      \"solver\":['saga', 'sag']}\n",
    "\n",
    "logreg_cv=RandomizedSearchCV(logreg, grid, cv=3, scoring='f1', \n",
    "                             verbose=2, random_state=42)\n",
    "logreg_cv.fit(train_tf_idf_scaled, train['toxic'])\n",
    "\n",
    "print('==='*10)\n",
    "print(logreg_cv.best_params_)\n",
    "print('==='*10)"
   ]
  },
  {
   "cell_type": "code",
   "execution_count": 23,
   "id": "e7f2decc",
   "metadata": {
    "execution": {
     "iopub.execute_input": "2023-01-12T08:20:12.921120Z",
     "iopub.status.busy": "2023-01-12T08:20:12.920196Z",
     "iopub.status.idle": "2023-01-12T08:20:19.841316Z",
     "shell.execute_reply": "2023-01-12T08:20:19.840131Z"
    },
    "id": "qEwrNPV9rOvn",
    "outputId": "9ed674bd-6b10-4d57-f763-4ab70418fb80",
    "papermill": {
     "duration": 7.07039,
     "end_time": "2023-01-12T08:20:19.844009",
     "exception": false,
     "start_time": "2023-01-12T08:20:12.773619",
     "status": "completed"
    },
    "tags": []
   },
   "outputs": [
    {
     "name": "stdout",
     "output_type": "stream",
     "text": [
      "f1 логистической регрессии 0.7886262418636518\n",
      "CPU times: user 6.91 s, sys: 1.02 ms, total: 6.91 s\n",
      "Wall time: 6.91 s\n"
     ]
    }
   ],
   "source": [
    "%%time\n",
    "logreg_best = LogisticRegression(**logreg_cv.best_params_)\n",
    "logreg_best.fit(train_tf_idf, train['toxic'])\n",
    "predictions = logreg_best.predict(test_tf_idf)\n",
    "print(f\"f1 логистической регрессии {f1_score(test['toxic'], predictions)}\")"
   ]
  },
  {
   "cell_type": "markdown",
   "id": "e7f125ce",
   "metadata": {
    "id": "fLl93JYTA4x0",
    "papermill": {
     "duration": 0.152753,
     "end_time": "2023-01-12T08:20:20.725694",
     "exception": false,
     "start_time": "2023-01-12T08:20:20.572941",
     "status": "completed"
    },
    "tags": []
   },
   "source": [
    "Сочетание TF-IDF с логистической регрессией удовлетворяет требованию минимальной метрики качества. F1 мера составляет 0.788. Плюс данного подхода в том, что на обучение и предсказание модели уходит 8 секунд. Также для нее работы и не требуется подключения графического процессора."
   ]
  },
  {
   "cell_type": "markdown",
   "id": "d2713d2f",
   "metadata": {
    "id": "OY38dNTM-teg",
    "papermill": {
     "duration": 0.144334,
     "end_time": "2023-01-12T08:20:21.018129",
     "exception": false,
     "start_time": "2023-01-12T08:20:20.873795",
     "status": "completed"
    },
    "tags": []
   },
   "source": [
    "## Попробуем модель BERT "
   ]
  },
  {
   "cell_type": "markdown",
   "id": "3b55b205",
   "metadata": {
    "id": "_lzAAMgzjgmJ",
    "papermill": {
     "duration": 0.144062,
     "end_time": "2023-01-12T08:20:21.307026",
     "exception": false,
     "start_time": "2023-01-12T08:20:21.162964",
     "status": "completed"
    },
    "tags": []
   },
   "source": [
    "Работа с BERT занимает много времени. Для ускорения работы блокнота сделаем тренировочную подвыборку, в которой содержатся все плохие комментарии и 40000 хороших."
   ]
  },
  {
   "cell_type": "code",
   "execution_count": 24,
   "id": "59dc7631",
   "metadata": {
    "execution": {
     "iopub.execute_input": "2023-01-12T08:20:21.596971Z",
     "iopub.status.busy": "2023-01-12T08:20:21.596025Z",
     "iopub.status.idle": "2023-01-12T08:20:21.682917Z",
     "shell.execute_reply": "2023-01-12T08:20:21.681670Z"
    },
    "id": "XOi8NsT5k_xd",
    "outputId": "22dcc4b1-d04e-4719-8d12-220cf47e03b3",
    "papermill": {
     "duration": 0.235556,
     "end_time": "2023-01-12T08:20:21.686442",
     "exception": false,
     "start_time": "2023-01-12T08:20:21.450886",
     "status": "completed"
    },
    "tags": []
   },
   "outputs": [
    {
     "data": {
      "text/html": [
       "<div>\n",
       "<style scoped>\n",
       "    .dataframe tbody tr th:only-of-type {\n",
       "        vertical-align: middle;\n",
       "    }\n",
       "\n",
       "    .dataframe tbody tr th {\n",
       "        vertical-align: top;\n",
       "    }\n",
       "\n",
       "    .dataframe thead th {\n",
       "        text-align: right;\n",
       "    }\n",
       "</style>\n",
       "<table border=\"1\" class=\"dataframe\">\n",
       "  <thead>\n",
       "    <tr style=\"text-align: right;\">\n",
       "      <th></th>\n",
       "      <th>text</th>\n",
       "      <th>label</th>\n",
       "    </tr>\n",
       "  </thead>\n",
       "  <tbody>\n",
       "    <tr>\n",
       "      <th>49248</th>\n",
       "      <td>goodnightmush I have two word for you go fuck ...</td>\n",
       "      <td>1</td>\n",
       "    </tr>\n",
       "    <tr>\n",
       "      <th>58098</th>\n",
       "      <td>orane suck lot of penis with genital wart and ...</td>\n",
       "      <td>1</td>\n",
       "    </tr>\n",
       "    <tr>\n",
       "      <th>106093</th>\n",
       "      <td>get lose don t bother I again you miserable pi...</td>\n",
       "      <td>1</td>\n",
       "    </tr>\n",
       "    <tr>\n",
       "      <th>18366</th>\n",
       "      <td>awwww poor mark arsten doesn t have privilage ...</td>\n",
       "      <td>1</td>\n",
       "    </tr>\n",
       "    <tr>\n",
       "      <th>17025</th>\n",
       "      <td>you be the troll anti semite all anti semite s...</td>\n",
       "      <td>1</td>\n",
       "    </tr>\n",
       "    <tr>\n",
       "      <th>...</th>\n",
       "      <td>...</td>\n",
       "      <td>...</td>\n",
       "    </tr>\n",
       "    <tr>\n",
       "      <th>97040</th>\n",
       "      <td>forgive my disrespect towards you sit but be y...</td>\n",
       "      <td>0</td>\n",
       "    </tr>\n",
       "    <tr>\n",
       "      <th>15429</th>\n",
       "      <td>I ll bet if it s just up for a day or so and t...</td>\n",
       "      <td>0</td>\n",
       "    </tr>\n",
       "    <tr>\n",
       "      <th>154880</th>\n",
       "      <td>this need a speedy close or something like it ...</td>\n",
       "      <td>0</td>\n",
       "    </tr>\n",
       "    <tr>\n",
       "      <th>150412</th>\n",
       "      <td>have one article for both vancouver whitecap t...</td>\n",
       "      <td>0</td>\n",
       "    </tr>\n",
       "    <tr>\n",
       "      <th>52553</th>\n",
       "      <td>lede I m revert again the addition to the lede...</td>\n",
       "      <td>0</td>\n",
       "    </tr>\n",
       "  </tbody>\n",
       "</table>\n",
       "<p>54570 rows × 2 columns</p>\n",
       "</div>"
      ],
      "text/plain": [
       "                                                     text  label\n",
       "49248   goodnightmush I have two word for you go fuck ...      1\n",
       "58098   orane suck lot of penis with genital wart and ...      1\n",
       "106093  get lose don t bother I again you miserable pi...      1\n",
       "18366   awwww poor mark arsten doesn t have privilage ...      1\n",
       "17025   you be the troll anti semite all anti semite s...      1\n",
       "...                                                   ...    ...\n",
       "97040   forgive my disrespect towards you sit but be y...      0\n",
       "15429   I ll bet if it s just up for a day or so and t...      0\n",
       "154880  this need a speedy close or something like it ...      0\n",
       "150412  have one article for both vancouver whitecap t...      0\n",
       "52553   lede I m revert again the addition to the lede...      0\n",
       "\n",
       "[54570 rows x 2 columns]"
      ]
     },
     "execution_count": 24,
     "metadata": {},
     "output_type": "execute_result"
    }
   ],
   "source": [
    "train['train_lemms'] = train_lemm_tokens\n",
    "test['test_lemms'] = test_lemm_tokens\n",
    "\n",
    "train_subset = train[['train_lemms', 'toxic']].query(\"toxic == 1\").copy()\n",
    "train_subset = train_subset.append(train[['train_lemms', 'toxic']].query(\"toxic == 0\").sample(40000))\n",
    "train_subset.columns = ['text', 'label']\n",
    "train_subset"
   ]
  },
  {
   "cell_type": "code",
   "execution_count": 25,
   "id": "3239f800",
   "metadata": {
    "execution": {
     "iopub.execute_input": "2023-01-12T08:20:22.685432Z",
     "iopub.status.busy": "2023-01-12T08:20:22.684864Z",
     "iopub.status.idle": "2023-01-12T08:20:22.706375Z",
     "shell.execute_reply": "2023-01-12T08:20:22.705550Z"
    },
    "id": "6tdFgmjzJer0",
    "outputId": "06e0debb-9c1b-4cdf-81cf-70ce88124eaa",
    "papermill": {
     "duration": 0.241527,
     "end_time": "2023-01-12T08:20:22.708937",
     "exception": false,
     "start_time": "2023-01-12T08:20:22.467410",
     "status": "completed"
    },
    "tags": []
   },
   "outputs": [
    {
     "data": {
      "text/html": [
       "<div>\n",
       "<style scoped>\n",
       "    .dataframe tbody tr th:only-of-type {\n",
       "        vertical-align: middle;\n",
       "    }\n",
       "\n",
       "    .dataframe tbody tr th {\n",
       "        vertical-align: top;\n",
       "    }\n",
       "\n",
       "    .dataframe thead th {\n",
       "        text-align: right;\n",
       "    }\n",
       "</style>\n",
       "<table border=\"1\" class=\"dataframe\">\n",
       "  <thead>\n",
       "    <tr style=\"text-align: right;\">\n",
       "      <th></th>\n",
       "      <th>text</th>\n",
       "      <th>label</th>\n",
       "    </tr>\n",
       "  </thead>\n",
       "  <tbody>\n",
       "    <tr>\n",
       "      <th>31055</th>\n",
       "      <td>sometime back I just happen to log on to www i...</td>\n",
       "      <td>0</td>\n",
       "    </tr>\n",
       "    <tr>\n",
       "      <th>102929</th>\n",
       "      <td>the late edit be much well don t make this art...</td>\n",
       "      <td>0</td>\n",
       "    </tr>\n",
       "    <tr>\n",
       "      <th>67385</th>\n",
       "      <td>october utc I would think you d be able to get...</td>\n",
       "      <td>0</td>\n",
       "    </tr>\n",
       "    <tr>\n",
       "      <th>81167</th>\n",
       "      <td>thank for the tip on the currency translation ...</td>\n",
       "      <td>0</td>\n",
       "    </tr>\n",
       "    <tr>\n",
       "      <th>90182</th>\n",
       "      <td>I would argue that if content on the con in co...</td>\n",
       "      <td>0</td>\n",
       "    </tr>\n",
       "    <tr>\n",
       "      <th>...</th>\n",
       "      <td>...</td>\n",
       "      <td>...</td>\n",
       "    </tr>\n",
       "    <tr>\n",
       "      <th>158432</th>\n",
       "      <td>do anyone know if sora ltd be a nintendo secon...</td>\n",
       "      <td>0</td>\n",
       "    </tr>\n",
       "    <tr>\n",
       "      <th>328</th>\n",
       "      <td>who care if I be block on myspace or pulse mus...</td>\n",
       "      <td>0</td>\n",
       "    </tr>\n",
       "    <tr>\n",
       "      <th>86906</th>\n",
       "      <td>because you be a tweet cunt flap</td>\n",
       "      <td>1</td>\n",
       "    </tr>\n",
       "    <tr>\n",
       "      <th>96662</th>\n",
       "      <td>reference source you should take care to refer...</td>\n",
       "      <td>0</td>\n",
       "    </tr>\n",
       "    <tr>\n",
       "      <th>128067</th>\n",
       "      <td>nopei ve change it look at jamaica s constitut...</td>\n",
       "      <td>0</td>\n",
       "    </tr>\n",
       "  </tbody>\n",
       "</table>\n",
       "<p>15930 rows × 2 columns</p>\n",
       "</div>"
      ],
      "text/plain": [
       "                                                     text  label\n",
       "31055   sometime back I just happen to log on to www i...      0\n",
       "102929  the late edit be much well don t make this art...      0\n",
       "67385   october utc I would think you d be able to get...      0\n",
       "81167   thank for the tip on the currency translation ...      0\n",
       "90182   I would argue that if content on the con in co...      0\n",
       "...                                                   ...    ...\n",
       "158432  do anyone know if sora ltd be a nintendo secon...      0\n",
       "328     who care if I be block on myspace or pulse mus...      0\n",
       "86906                    because you be a tweet cunt flap      1\n",
       "96662   reference source you should take care to refer...      0\n",
       "128067  nopei ve change it look at jamaica s constitut...      0\n",
       "\n",
       "[15930 rows x 2 columns]"
      ]
     },
     "execution_count": 25,
     "metadata": {},
     "output_type": "execute_result"
    }
   ],
   "source": [
    "test = test[['test_lemms', 'toxic']]\n",
    "test.columns = ['text', 'label']\n",
    "test"
   ]
  },
  {
   "cell_type": "code",
   "execution_count": 26,
   "id": "89c171b5",
   "metadata": {
    "execution": {
     "iopub.execute_input": "2023-01-12T08:20:23.592772Z",
     "iopub.status.busy": "2023-01-12T08:20:23.592406Z",
     "iopub.status.idle": "2023-01-12T08:20:23.961924Z",
     "shell.execute_reply": "2023-01-12T08:20:23.961017Z"
    },
    "id": "8hmyctfxkAHT",
    "outputId": "4b6dd157-6443-4f6f-e228-656af61d7da5",
    "papermill": {
     "duration": 0.575613,
     "end_time": "2023-01-12T08:20:23.964120",
     "exception": false,
     "start_time": "2023-01-12T08:20:23.388507",
     "status": "completed"
    },
    "tags": []
   },
   "outputs": [
    {
     "data": {
      "image/png": "[encoded data removed]",
      "text/plain": [
       "<Figure size 432x288 with 1 Axes>"
      ]
     },
     "metadata": {},
     "output_type": "display_data"
    },
    {
     "data": {
      "image/png": "[encoded data removed]",
      "text/plain": [
       "<Figure size 432x288 with 1 Axes>"
      ]
     },
     "metadata": {},
     "output_type": "display_data"
    }
   ],
   "source": [
    "train_subset['label'].value_counts().plot(kind='bar')\n",
    "plt.show()\n",
    "test['label'].value_counts().plot(kind='bar')\n",
    "plt.show()"
   ]
  },
  {
   "cell_type": "markdown",
   "id": "23275c7c",
   "metadata": {
    "id": "ZEJzvUjjB7Ak",
    "papermill": {
     "duration": 0.146183,
     "end_time": "2023-01-12T08:20:24.257312",
     "exception": false,
     "start_time": "2023-01-12T08:20:24.111129",
     "status": "completed"
    },
    "tags": []
   },
   "source": [
    "Переведем таблицы в формат для работы с трансформерами"
   ]
  },
  {
   "cell_type": "code",
   "execution_count": 27,
   "id": "77fdd39f",
   "metadata": {
    "execution": {
     "iopub.execute_input": "2023-01-12T08:20:24.552126Z",
     "iopub.status.busy": "2023-01-12T08:20:24.551783Z",
     "iopub.status.idle": "2023-01-12T08:20:24.619239Z",
     "shell.execute_reply": "2023-01-12T08:20:24.618243Z"
    },
    "id": "dsY2SptVJzB0",
    "papermill": {
     "duration": 0.216612,
     "end_time": "2023-01-12T08:20:24.621737",
     "exception": false,
     "start_time": "2023-01-12T08:20:24.405125",
     "status": "completed"
    },
    "tags": []
   },
   "outputs": [],
   "source": [
    "train_dataset = Dataset.from_pandas(train_subset, preserve_index=False)\n",
    "test_dataset = Dataset.from_pandas(test, preserve_index=False)"
   ]
  },
  {
   "cell_type": "code",
   "execution_count": 28,
   "id": "b835cdda",
   "metadata": {
    "execution": {
     "iopub.execute_input": "2023-01-12T08:20:24.919812Z",
     "iopub.status.busy": "2023-01-12T08:20:24.919471Z",
     "iopub.status.idle": "2023-01-12T08:20:24.926480Z",
     "shell.execute_reply": "2023-01-12T08:20:24.925432Z"
    },
    "id": "GsXS6B7_KTmp",
    "outputId": "a1a5721d-a097-4397-b4ee-61efc2102456",
    "papermill": {
     "duration": 0.156792,
     "end_time": "2023-01-12T08:20:24.929049",
     "exception": false,
     "start_time": "2023-01-12T08:20:24.772257",
     "status": "completed"
    },
    "tags": []
   },
   "outputs": [
    {
     "data": {
      "text/plain": [
       "Dataset({\n",
       "    features: ['text', 'label'],\n",
       "    num_rows: 54570\n",
       "})"
      ]
     },
     "execution_count": 28,
     "metadata": {},
     "output_type": "execute_result"
    }
   ],
   "source": [
    "train_dataset"
   ]
  },
  {
   "cell_type": "code",
   "execution_count": 29,
   "id": "bcf5a750",
   "metadata": {
    "execution": {
     "iopub.execute_input": "2023-01-12T08:20:25.227001Z",
     "iopub.status.busy": "2023-01-12T08:20:25.226682Z",
     "iopub.status.idle": "2023-01-12T08:20:25.232412Z",
     "shell.execute_reply": "2023-01-12T08:20:25.231515Z"
    },
    "id": "y1c2vmlPKRbe",
    "outputId": "ea0c2a06-f2dd-45a7-fdb9-6e134f79f4c7",
    "papermill": {
     "duration": 0.158446,
     "end_time": "2023-01-12T08:20:25.234551",
     "exception": false,
     "start_time": "2023-01-12T08:20:25.076105",
     "status": "completed"
    },
    "tags": []
   },
   "outputs": [
    {
     "data": {
      "text/plain": [
       "Dataset({\n",
       "    features: ['text', 'label'],\n",
       "    num_rows: 15930\n",
       "})"
      ]
     },
     "execution_count": 29,
     "metadata": {},
     "output_type": "execute_result"
    }
   ],
   "source": [
    "test_dataset"
   ]
  },
  {
   "cell_type": "markdown",
   "id": "620a457b",
   "metadata": {
    "id": "fNPT_oL96s11",
    "papermill": {
     "duration": 0.149239,
     "end_time": "2023-01-12T08:20:26.170257",
     "exception": false,
     "start_time": "2023-01-12T08:20:26.021018",
     "status": "completed"
    },
    "tags": []
   },
   "source": [
    "Подготовим текст к работе с BERT"
   ]
  },
  {
   "cell_type": "code",
   "execution_count": 30,
   "id": "2ba4a931",
   "metadata": {
    "execution": {
     "iopub.execute_input": "2023-01-12T08:20:26.464439Z",
     "iopub.status.busy": "2023-01-12T08:20:26.463350Z",
     "iopub.status.idle": "2023-01-12T08:20:33.252799Z",
     "shell.execute_reply": "2023-01-12T08:20:33.251847Z"
    },
    "id": "n8oqodQ-7_3W",
    "papermill": {
     "duration": 6.939703,
     "end_time": "2023-01-12T08:20:33.255425",
     "exception": false,
     "start_time": "2023-01-12T08:20:26.315722",
     "status": "completed"
    },
    "tags": []
   },
   "outputs": [
    {
     "data": {
      "application/vnd.jupyter.widget-view+json": {
       "model_id": "c479c6e1b8c2460c8141ff4801da3b4f",
       "version_major": 2,
       "version_minor": 0
      },
      "text/plain": [
       "Downloading:   0%|          | 0.00/28.0 [00:00<?, ?B/s]"
      ]
     },
     "metadata": {},
     "output_type": "display_data"
    },
    {
     "data": {
      "application/vnd.jupyter.widget-view+json": {
       "model_id": "34712ae2f7a944e39756df21e5bb84cf",
       "version_major": 2,
       "version_minor": 0
      },
      "text/plain": [
       "Downloading:   0%|          | 0.00/483 [00:00<?, ?B/s]"
      ]
     },
     "metadata": {},
     "output_type": "display_data"
    },
    {
     "data": {
      "application/vnd.jupyter.widget-view+json": {
       "model_id": "6fcaee88a3794bb3bf027395fb9cc316",
       "version_major": 2,
       "version_minor": 0
      },
      "text/plain": [
       "Downloading:   0%|          | 0.00/226k [00:00<?, ?B/s]"
      ]
     },
     "metadata": {},
     "output_type": "display_data"
    },
    {
     "data": {
      "application/vnd.jupyter.widget-view+json": {
       "model_id": "cffdf76188704c87a1a34e827c11ec22",
       "version_major": 2,
       "version_minor": 0
      },
      "text/plain": [
       "Downloading:   0%|          | 0.00/455k [00:00<?, ?B/s]"
      ]
     },
     "metadata": {},
     "output_type": "display_data"
    }
   ],
   "source": [
    "tokenizer = AutoTokenizer.from_pretrained('distilbert-base-uncased')"
   ]
  },
  {
   "cell_type": "code",
   "execution_count": 31,
   "id": "35081699",
   "metadata": {
    "execution": {
     "iopub.execute_input": "2023-01-12T08:20:33.559827Z",
     "iopub.status.busy": "2023-01-12T08:20:33.559463Z",
     "iopub.status.idle": "2023-01-12T08:20:33.564148Z",
     "shell.execute_reply": "2023-01-12T08:20:33.563184Z"
    },
    "id": "Cd0PYv-UPL7n",
    "papermill": {
     "duration": 0.157848,
     "end_time": "2023-01-12T08:20:33.566223",
     "exception": false,
     "start_time": "2023-01-12T08:20:33.408375",
     "status": "completed"
    },
    "tags": []
   },
   "outputs": [],
   "source": [
    "def preprocess_function(sample):\n",
    "    return tokenizer(sample[\"text\"], truncation=True)"
   ]
  },
  {
   "cell_type": "code",
   "execution_count": 32,
   "id": "add07340",
   "metadata": {
    "execution": {
     "iopub.execute_input": "2023-01-12T08:20:33.866283Z",
     "iopub.status.busy": "2023-01-12T08:20:33.865479Z",
     "iopub.status.idle": "2023-01-12T08:20:47.942192Z",
     "shell.execute_reply": "2023-01-12T08:20:47.940774Z"
    },
    "id": "DcO2Mkgs_L7p",
    "outputId": "08ccc8d2-e944-47a1-b617-c9ccb3a213a7",
    "papermill": {
     "duration": 14.22676,
     "end_time": "2023-01-12T08:20:47.944798",
     "exception": false,
     "start_time": "2023-01-12T08:20:33.718038",
     "status": "completed"
    },
    "tags": []
   },
   "outputs": [
    {
     "data": {
      "application/vnd.jupyter.widget-view+json": {
       "model_id": "5d0844b9615e42e1b72e853779ca8eaf",
       "version_major": 2,
       "version_minor": 0
      },
      "text/plain": [
       "  0%|          | 0/55 [00:00<?, ?ba/s]"
      ]
     },
     "metadata": {},
     "output_type": "display_data"
    },
    {
     "data": {
      "application/vnd.jupyter.widget-view+json": {
       "model_id": "13cd703363a34fc2bb13e0463a640357",
       "version_major": 2,
       "version_minor": 0
      },
      "text/plain": [
       "  0%|          | 0/16 [00:00<?, ?ba/s]"
      ]
     },
     "metadata": {},
     "output_type": "display_data"
    },
    {
     "name": "stdout",
     "output_type": "stream",
     "text": [
      "CPU times: user 24 s, sys: 129 ms, total: 24.2 s\n",
      "Wall time: 14.1 s\n"
     ]
    }
   ],
   "source": [
    "%%time\n",
    "\n",
    "train_tokenized = train_dataset.map(preprocess_function, batched=True)\n",
    "test_tokenized = test_dataset.map(preprocess_function, batched=True)"
   ]
  },
  {
   "cell_type": "code",
   "execution_count": 33,
   "id": "dfb5d869",
   "metadata": {
    "execution": {
     "iopub.execute_input": "2023-01-12T08:20:48.297392Z",
     "iopub.status.busy": "2023-01-12T08:20:48.297038Z",
     "iopub.status.idle": "2023-01-12T08:20:48.301596Z",
     "shell.execute_reply": "2023-01-12T08:20:48.300637Z"
    },
    "id": "pc0kAn1X-VCq",
    "papermill": {
     "duration": 0.204605,
     "end_time": "2023-01-12T08:20:48.303518",
     "exception": false,
     "start_time": "2023-01-12T08:20:48.098913",
     "status": "completed"
    },
    "tags": []
   },
   "outputs": [],
   "source": [
    "# упакуем токены в матрицу одинакового размера\n",
    "data_collacator = DataCollatorWithPadding(tokenizer=tokenizer)"
   ]
  },
  {
   "cell_type": "markdown",
   "id": "b18a44ad",
   "metadata": {
    "id": "ZAQhRVJImaQR",
    "papermill": {
     "duration": 0.149227,
     "end_time": "2023-01-12T08:20:48.601556",
     "exception": false,
     "start_time": "2023-01-12T08:20:48.452329",
     "status": "completed"
    },
    "tags": []
   },
   "source": [
    "Подготовим модель для решения бинарной классификации. "
   ]
  },
  {
   "cell_type": "code",
   "execution_count": 34,
   "id": "5fffe665",
   "metadata": {
    "execution": {
     "iopub.execute_input": "2023-01-12T08:20:48.904531Z",
     "iopub.status.busy": "2023-01-12T08:20:48.903564Z",
     "iopub.status.idle": "2023-01-12T08:21:03.753195Z",
     "shell.execute_reply": "2023-01-12T08:21:03.752080Z"
    },
    "id": "FtBWn9f2BnBj",
    "outputId": "d4f10dc5-f66a-49a6-dc41-1d4750f72ffb",
    "papermill": {
     "duration": 15.003639,
     "end_time": "2023-01-12T08:21:03.755403",
     "exception": false,
     "start_time": "2023-01-12T08:20:48.751764",
     "status": "completed"
    },
    "scrolled": true,
    "tags": []
   },
   "outputs": [
    {
     "data": {
      "application/vnd.jupyter.widget-view+json": {
       "model_id": "55bb177733e24f8caa6b7553d79e6f09",
       "version_major": 2,
       "version_minor": 0
      },
      "text/plain": [
       "Downloading:   0%|          | 0.00/256M [00:00<?, ?B/s]"
      ]
     },
     "metadata": {},
     "output_type": "display_data"
    },
    {
     "name": "stderr",
     "output_type": "stream",
     "text": [
      "Some weights of the model checkpoint at distilbert-base-uncased were not used when initializing DistilBertForSequenceClassification: ['vocab_layer_norm.weight', 'vocab_transform.weight', 'vocab_projector.bias', 'vocab_projector.weight', 'vocab_transform.bias', 'vocab_layer_norm.bias']\n",
      "- This IS expected if you are initializing DistilBertForSequenceClassification from the checkpoint of a model trained on another task or with another architecture (e.g. initializing a BertForSequenceClassification model from a BertForPreTraining model).\n",
      "- This IS NOT expected if you are initializing DistilBertForSequenceClassification from the checkpoint of a model that you expect to be exactly identical (initializing a BertForSequenceClassification model from a BertForSequenceClassification model).\n",
      "Some weights of DistilBertForSequenceClassification were not initialized from the model checkpoint at distilbert-base-uncased and are newly initialized: ['classifier.bias', 'classifier.weight', 'pre_classifier.weight', 'pre_classifier.bias']\n",
      "You should probably TRAIN this model on a down-stream task to be able to use it for predictions and inference.\n"
     ]
    },
    {
     "name": "stdout",
     "output_type": "stream",
     "text": [
      "CPU times: user 7.67 s, sys: 2.42 s, total: 10.1 s\n",
      "Wall time: 14.8 s\n"
     ]
    },
    {
     "data": {
      "text/plain": [
       "DistilBertForSequenceClassification(\n",
       "  (distilbert): DistilBertModel(\n",
       "    (embeddings): Embeddings(\n",
       "      (word_embeddings): Embedding(30522, 768, padding_idx=0)\n",
       "      (position_embeddings): Embedding(512, 768)\n",
       "      (LayerNorm): LayerNorm((768,), eps=1e-12, elementwise_affine=True)\n",
       "      (dropout): Dropout(p=0.1, inplace=False)\n",
       "    )\n",
       "    (transformer): Transformer(\n",
       "      (layer): ModuleList(\n",
       "        (0): TransformerBlock(\n",
       "          (attention): MultiHeadSelfAttention(\n",
       "            (dropout): Dropout(p=0.1, inplace=False)\n",
       "            (q_lin): Linear(in_features=768, out_features=768, bias=True)\n",
       "            (k_lin): Linear(in_features=768, out_features=768, bias=True)\n",
       "            (v_lin): Linear(in_features=768, out_features=768, bias=True)\n",
       "            (out_lin): Linear(in_features=768, out_features=768, bias=True)\n",
       "          )\n",
       "          (sa_layer_norm): LayerNorm((768,), eps=1e-12, elementwise_affine=True)\n",
       "          (ffn): FFN(\n",
       "            (dropout): Dropout(p=0.1, inplace=False)\n",
       "            (lin1): Linear(in_features=768, out_features=3072, bias=True)\n",
       "            (lin2): Linear(in_features=3072, out_features=768, bias=True)\n",
       "            (activation): GELUActivation()\n",
       "          )\n",
       "          (output_layer_norm): LayerNorm((768,), eps=1e-12, elementwise_affine=True)\n",
       "        )\n",
       "        (1): TransformerBlock(\n",
       "          (attention): MultiHeadSelfAttention(\n",
       "            (dropout): Dropout(p=0.1, inplace=False)\n",
       "            (q_lin): Linear(in_features=768, out_features=768, bias=True)\n",
       "            (k_lin): Linear(in_features=768, out_features=768, bias=True)\n",
       "            (v_lin): Linear(in_features=768, out_features=768, bias=True)\n",
       "            (out_lin): Linear(in_features=768, out_features=768, bias=True)\n",
       "          )\n",
       "          (sa_layer_norm): LayerNorm((768,), eps=1e-12, elementwise_affine=True)\n",
       "          (ffn): FFN(\n",
       "            (dropout): Dropout(p=0.1, inplace=False)\n",
       "            (lin1): Linear(in_features=768, out_features=3072, bias=True)\n",
       "            (lin2): Linear(in_features=3072, out_features=768, bias=True)\n",
       "            (activation): GELUActivation()\n",
       "          )\n",
       "          (output_layer_norm): LayerNorm((768,), eps=1e-12, elementwise_affine=True)\n",
       "        )\n",
       "        (2): TransformerBlock(\n",
       "          (attention): MultiHeadSelfAttention(\n",
       "            (dropout): Dropout(p=0.1, inplace=False)\n",
       "            (q_lin): Linear(in_features=768, out_features=768, bias=True)\n",
       "            (k_lin): Linear(in_features=768, out_features=768, bias=True)\n",
       "            (v_lin): Linear(in_features=768, out_features=768, bias=True)\n",
       "            (out_lin): Linear(in_features=768, out_features=768, bias=True)\n",
       "          )\n",
       "          (sa_layer_norm): LayerNorm((768,), eps=1e-12, elementwise_affine=True)\n",
       "          (ffn): FFN(\n",
       "            (dropout): Dropout(p=0.1, inplace=False)\n",
       "            (lin1): Linear(in_features=768, out_features=3072, bias=True)\n",
       "            (lin2): Linear(in_features=3072, out_features=768, bias=True)\n",
       "            (activation): GELUActivation()\n",
       "          )\n",
       "          (output_layer_norm): LayerNorm((768,), eps=1e-12, elementwise_affine=True)\n",
       "        )\n",
       "        (3): TransformerBlock(\n",
       "          (attention): MultiHeadSelfAttention(\n",
       "            (dropout): Dropout(p=0.1, inplace=False)\n",
       "            (q_lin): Linear(in_features=768, out_features=768, bias=True)\n",
       "            (k_lin): Linear(in_features=768, out_features=768, bias=True)\n",
       "            (v_lin): Linear(in_features=768, out_features=768, bias=True)\n",
       "            (out_lin): Linear(in_features=768, out_features=768, bias=True)\n",
       "          )\n",
       "          (sa_layer_norm): LayerNorm((768,), eps=1e-12, elementwise_affine=True)\n",
       "          (ffn): FFN(\n",
       "            (dropout): Dropout(p=0.1, inplace=False)\n",
       "            (lin1): Linear(in_features=768, out_features=3072, bias=True)\n",
       "            (lin2): Linear(in_features=3072, out_features=768, bias=True)\n",
       "            (activation): GELUActivation()\n",
       "          )\n",
       "          (output_layer_norm): LayerNorm((768,), eps=1e-12, elementwise_affine=True)\n",
       "        )\n",
       "        (4): TransformerBlock(\n",
       "          (attention): MultiHeadSelfAttention(\n",
       "            (dropout): Dropout(p=0.1, inplace=False)\n",
       "            (q_lin): Linear(in_features=768, out_features=768, bias=True)\n",
       "            (k_lin): Linear(in_features=768, out_features=768, bias=True)\n",
       "            (v_lin): Linear(in_features=768, out_features=768, bias=True)\n",
       "            (out_lin): Linear(in_features=768, out_features=768, bias=True)\n",
       "          )\n",
       "          (sa_layer_norm): LayerNorm((768,), eps=1e-12, elementwise_affine=True)\n",
       "          (ffn): FFN(\n",
       "            (dropout): Dropout(p=0.1, inplace=False)\n",
       "            (lin1): Linear(in_features=768, out_features=3072, bias=True)\n",
       "            (lin2): Linear(in_features=3072, out_features=768, bias=True)\n",
       "            (activation): GELUActivation()\n",
       "          )\n",
       "          (output_layer_norm): LayerNorm((768,), eps=1e-12, elementwise_affine=True)\n",
       "        )\n",
       "        (5): TransformerBlock(\n",
       "          (attention): MultiHeadSelfAttention(\n",
       "            (dropout): Dropout(p=0.1, inplace=False)\n",
       "            (q_lin): Linear(in_features=768, out_features=768, bias=True)\n",
       "            (k_lin): Linear(in_features=768, out_features=768, bias=True)\n",
       "            (v_lin): Linear(in_features=768, out_features=768, bias=True)\n",
       "            (out_lin): Linear(in_features=768, out_features=768, bias=True)\n",
       "          )\n",
       "          (sa_layer_norm): LayerNorm((768,), eps=1e-12, elementwise_affine=True)\n",
       "          (ffn): FFN(\n",
       "            (dropout): Dropout(p=0.1, inplace=False)\n",
       "            (lin1): Linear(in_features=768, out_features=3072, bias=True)\n",
       "            (lin2): Linear(in_features=3072, out_features=768, bias=True)\n",
       "            (activation): GELUActivation()\n",
       "          )\n",
       "          (output_layer_norm): LayerNorm((768,), eps=1e-12, elementwise_affine=True)\n",
       "        )\n",
       "      )\n",
       "    )\n",
       "  )\n",
       "  (pre_classifier): Linear(in_features=768, out_features=768, bias=True)\n",
       "  (classifier): Linear(in_features=768, out_features=2, bias=True)\n",
       "  (dropout): Dropout(p=0.2, inplace=False)\n",
       ")"
      ]
     },
     "execution_count": 34,
     "metadata": {},
     "output_type": "execute_result"
    }
   ],
   "source": [
    "%%time\n",
    "model = AutoModelForSequenceClassification.from_pretrained('distilbert-base-uncased', num_labels = 2)\n",
    "model.to(device)"
   ]
  },
  {
   "cell_type": "markdown",
   "id": "72610245",
   "metadata": {
    "id": "L3QjmBo1mmqd",
    "papermill": {
     "duration": 0.147699,
     "end_time": "2023-01-12T08:21:04.055537",
     "exception": false,
     "start_time": "2023-01-12T08:21:03.907838",
     "status": "completed"
    },
    "tags": []
   },
   "source": [
    "Определим аргументы и тренера"
   ]
  },
  {
   "cell_type": "code",
   "execution_count": 35,
   "id": "b7744c51",
   "metadata": {
    "execution": {
     "iopub.execute_input": "2023-01-12T08:21:04.362705Z",
     "iopub.status.busy": "2023-01-12T08:21:04.361481Z",
     "iopub.status.idle": "2023-01-12T08:21:04.368545Z",
     "shell.execute_reply": "2023-01-12T08:21:04.367704Z"
    },
    "id": "py-tkmkiB_h5",
    "outputId": "8e491fcf-cded-43d4-af14-ec748cb48593",
    "papermill": {
     "duration": 0.160757,
     "end_time": "2023-01-12T08:21:04.370625",
     "exception": false,
     "start_time": "2023-01-12T08:21:04.209868",
     "status": "completed"
    },
    "tags": []
   },
   "outputs": [],
   "source": [
    "training_args = TrainingArguments(\n",
    "    output_dir = \"kaggle/working\",\n",
    "    per_device_train_batch_size = 16,\n",
    "    learning_rate = 2e-5,\n",
    "    num_train_epochs = 1,\n",
    "    weight_decay = 0.01\n",
    ")"
   ]
  },
  {
   "cell_type": "code",
   "execution_count": 36,
   "id": "dc091552",
   "metadata": {
    "execution": {
     "iopub.execute_input": "2023-01-12T08:21:04.686747Z",
     "iopub.status.busy": "2023-01-12T08:21:04.686371Z",
     "iopub.status.idle": "2023-01-12T08:21:04.695328Z",
     "shell.execute_reply": "2023-01-12T08:21:04.694435Z"
    },
    "id": "aZWUv4A1CP6T",
    "papermill": {
     "duration": 0.171206,
     "end_time": "2023-01-12T08:21:04.697316",
     "exception": false,
     "start_time": "2023-01-12T08:21:04.526110",
     "status": "completed"
    },
    "tags": []
   },
   "outputs": [],
   "source": [
    "trainer = Trainer(\n",
    "    model = model,\n",
    "    args = training_args,\n",
    "    data_collator = data_collacator,\n",
    "    train_dataset = train_tokenized,\n",
    "    tokenizer = tokenizer,\n",
    ")"
   ]
  },
  {
   "cell_type": "markdown",
   "id": "8b6f03f1",
   "metadata": {
    "id": "2_DgtcYanQIR",
    "papermill": {
     "duration": 0.152767,
     "end_time": "2023-01-12T08:21:05.344553",
     "exception": false,
     "start_time": "2023-01-12T08:21:05.191786",
     "status": "completed"
    },
    "tags": []
   },
   "source": [
    "Запустим тренировку модели на графическом процессоре."
   ]
  },
  {
   "cell_type": "code",
   "execution_count": 38,
   "id": "bef05880",
   "metadata": {
    "execution": {
     "iopub.execute_input": "2023-01-12T08:21:06.801212Z",
     "iopub.status.busy": "2023-01-12T08:21:06.800863Z",
     "iopub.status.idle": "2023-01-12T08:35:57.223939Z",
     "shell.execute_reply": "2023-01-12T08:35:57.222848Z"
    },
    "id": "BbhdETKoEGbT",
    "outputId": "93e74f65-6a40-4394-d24a-6668957c376b",
    "papermill": {
     "duration": 890.580766,
     "end_time": "2023-01-12T08:35:57.226064",
     "exception": false,
     "start_time": "2023-01-12T08:21:06.645298",
     "status": "completed"
    },
    "scrolled": true,
    "tags": []
   },
   "outputs": [
    {
     "name": "stderr",
     "output_type": "stream",
     "text": [
      "The following columns in the training set don't have a corresponding argument in `DistilBertForSequenceClassification.forward` and have been ignored: text. If text are not expected by `DistilBertForSequenceClassification.forward`,  you can safely ignore this message.\n",
      "/opt/conda/lib/python3.7/site-packages/transformers/optimization.py:310: FutureWarning: This implementation of AdamW is deprecated and will be removed in a future version. Use the PyTorch implementation torch.optim.AdamW instead, or set `no_deprecation_warning=True` to disable this warning\n",
      "  FutureWarning,\n",
      "***** Running training *****\n",
      "  Num examples = 54570\n",
      "  Num Epochs = 1\n",
      "  Instantaneous batch size per device = 16\n",
      "  Total train batch size (w. parallel, distributed & accumulation) = 16\n",
      "  Gradient Accumulation steps = 1\n",
      "  Total optimization steps = 3411\n",
      "Automatic Weights & Biases logging enabled, to disable set os.environ[\"WANDB_DISABLED\"] = \"true\"\n"
     ]
    },
    {
     "name": "stdout",
     "output_type": "stream",
     "text": [
      "huggingface/tokenizers: The current process just got forked, after parallelism has already been used. Disabling parallelism to avoid deadlocks...\n",
      "To disable this warning, you can either:\n",
      "\t- Avoid using `tokenizers` before the fork if possible\n",
      "\t- Explicitly set the environment variable TOKENIZERS_PARALLELISM=(true | false)\n",
      "huggingface/tokenizers: The current process just got forked, after parallelism has already been used. Disabling parallelism to avoid deadlocks...\n",
      "To disable this warning, you can either:\n",
      "\t- Avoid using `tokenizers` before the fork if possible\n",
      "\t- Explicitly set the environment variable TOKENIZERS_PARALLELISM=(true | false)\n"
     ]
    },
    {
     "data": {
      "text/html": [
       "Tracking run with wandb version 0.12.21"
      ],
      "text/plain": [
       "<IPython.core.display.HTML object>"
      ]
     },
     "metadata": {},
     "output_type": "display_data"
    },
    {
     "data": {
      "text/html": [
       "W&B syncing is set to <code>`offline`<code> in this directory.  <br/>Run <code>`wandb online`<code> or set <code>WANDB_MODE=online<code> to enable cloud syncing."
      ],
      "text/plain": [
       "<IPython.core.display.HTML object>"
      ]
     },
     "metadata": {},
     "output_type": "display_data"
    },
    {
     "data": {
      "text/html": [
       "\n",
       "    <div>\n",
       "      \n",
       "      <progress value='3411' max='3411' style='width:300px; height:20px; vertical-align: middle;'></progress>\n",
       "      [3411/3411 14:42, Epoch 1/1]\n",
       "    </div>\n",
       "    <table border=\"1\" class=\"dataframe\">\n",
       "  <thead>\n",
       " <tr style=\"text-align: left;\">\n",
       "      <th>Step</th>\n",
       "      <th>Training Loss</th>\n",
       "    </tr>\n",
       "  </thead>\n",
       "  <tbody>\n",
       "    <tr>\n",
       "      <td>500</td>\n",
       "      <td>0.234000</td>\n",
       "    </tr>\n",
       "    <tr>\n",
       "      <td>1000</td>\n",
       "      <td>0.174900</td>\n",
       "    </tr>\n",
       "    <tr>\n",
       "      <td>1500</td>\n",
       "      <td>0.174300</td>\n",
       "    </tr>\n",
       "    <tr>\n",
       "      <td>2000</td>\n",
       "      <td>0.147900</td>\n",
       "    </tr>\n",
       "    <tr>\n",
       "      <td>2500</td>\n",
       "      <td>0.158900</td>\n",
       "    </tr>\n",
       "    <tr>\n",
       "      <td>3000</td>\n",
       "      <td>0.143600</td>\n",
       "    </tr>\n",
       "  </tbody>\n",
       "</table><p>"
      ],
      "text/plain": [
       "<IPython.core.display.HTML object>"
      ]
     },
     "metadata": {},
     "output_type": "display_data"
    },
    {
     "name": "stderr",
     "output_type": "stream",
     "text": [
      "Saving model checkpoint to kaggle/working/checkpoint-500\n",
      "Configuration saved in kaggle/working/checkpoint-500/config.json\n",
      "Model weights saved in kaggle/working/checkpoint-500/pytorch_model.bin\n",
      "tokenizer config file saved in kaggle/working/checkpoint-500/tokenizer_config.json\n",
      "Special tokens file saved in kaggle/working/checkpoint-500/special_tokens_map.json\n",
      "Saving model checkpoint to kaggle/working/checkpoint-1000\n",
      "Configuration saved in kaggle/working/checkpoint-1000/config.json\n",
      "Model weights saved in kaggle/working/checkpoint-1000/pytorch_model.bin\n",
      "tokenizer config file saved in kaggle/working/checkpoint-1000/tokenizer_config.json\n",
      "Special tokens file saved in kaggle/working/checkpoint-1000/special_tokens_map.json\n",
      "Saving model checkpoint to kaggle/working/checkpoint-1500\n",
      "Configuration saved in kaggle/working/checkpoint-1500/config.json\n",
      "Model weights saved in kaggle/working/checkpoint-1500/pytorch_model.bin\n",
      "tokenizer config file saved in kaggle/working/checkpoint-1500/tokenizer_config.json\n",
      "Special tokens file saved in kaggle/working/checkpoint-1500/special_tokens_map.json\n",
      "Saving model checkpoint to kaggle/working/checkpoint-2000\n",
      "Configuration saved in kaggle/working/checkpoint-2000/config.json\n",
      "Model weights saved in kaggle/working/checkpoint-2000/pytorch_model.bin\n",
      "tokenizer config file saved in kaggle/working/checkpoint-2000/tokenizer_config.json\n",
      "Special tokens file saved in kaggle/working/checkpoint-2000/special_tokens_map.json\n",
      "Saving model checkpoint to kaggle/working/checkpoint-2500\n",
      "Configuration saved in kaggle/working/checkpoint-2500/config.json\n",
      "Model weights saved in kaggle/working/checkpoint-2500/pytorch_model.bin\n",
      "tokenizer config file saved in kaggle/working/checkpoint-2500/tokenizer_config.json\n",
      "Special tokens file saved in kaggle/working/checkpoint-2500/special_tokens_map.json\n",
      "Saving model checkpoint to kaggle/working/checkpoint-3000\n",
      "Configuration saved in kaggle/working/checkpoint-3000/config.json\n",
      "Model weights saved in kaggle/working/checkpoint-3000/pytorch_model.bin\n",
      "tokenizer config file saved in kaggle/working/checkpoint-3000/tokenizer_config.json\n",
      "Special tokens file saved in kaggle/working/checkpoint-3000/special_tokens_map.json\n",
      "\n",
      "\n",
      "Training completed. Do not forget to share your model on huggingface.co/models =)\n",
      "\n",
      "\n"
     ]
    },
    {
     "name": "stdout",
     "output_type": "stream",
     "text": [
      "CPU times: user 14min 26s, sys: 9.01 s, total: 14min 35s\n",
      "Wall time: 14min 50s\n"
     ]
    },
    {
     "data": {
      "text/plain": [
       "TrainOutput(global_step=3411, training_loss=0.1696165896202944, metrics={'train_runtime': 890.372, 'train_samples_per_second': 61.289, 'train_steps_per_second': 3.831, 'total_flos': 4294331751785640.0, 'train_loss': 0.1696165896202944, 'epoch': 1.0})"
      ]
     },
     "execution_count": 38,
     "metadata": {},
     "output_type": "execute_result"
    }
   ],
   "source": [
    "%%time\n",
    "trainer.train()"
   ]
  },
  {
   "cell_type": "markdown",
   "id": "dc69c676",
   "metadata": {
    "id": "sgjV2kWynh68",
    "papermill": {
     "duration": 0.151752,
     "end_time": "2023-01-12T08:35:57.896915",
     "exception": false,
     "start_time": "2023-01-12T08:35:57.745163",
     "status": "completed"
    },
    "tags": []
   },
   "source": [
    "Сделаем предсказания"
   ]
  },
  {
   "cell_type": "code",
   "execution_count": 39,
   "id": "a5e59b79",
   "metadata": {
    "execution": {
     "iopub.execute_input": "2023-01-12T08:35:58.200364Z",
     "iopub.status.busy": "2023-01-12T08:35:58.199991Z",
     "iopub.status.idle": "2023-01-12T08:37:07.159311Z",
     "shell.execute_reply": "2023-01-12T08:37:07.158210Z"
    },
    "id": "jBoITnOzn8ef",
    "outputId": "0dbca215-a901-4c5b-b5c1-b226beac9a0a",
    "papermill": {
     "duration": 69.118647,
     "end_time": "2023-01-12T08:37:07.165953",
     "exception": false,
     "start_time": "2023-01-12T08:35:58.047306",
     "status": "completed"
    },
    "tags": []
   },
   "outputs": [
    {
     "name": "stderr",
     "output_type": "stream",
     "text": [
      "The following columns in the test set don't have a corresponding argument in `DistilBertForSequenceClassification.forward` and have been ignored: text. If text are not expected by `DistilBertForSequenceClassification.forward`,  you can safely ignore this message.\n",
      "***** Running Prediction *****\n",
      "  Num examples = 15930\n",
      "  Batch size = 8\n"
     ]
    },
    {
     "data": {
      "text/html": [
       "\n",
       "    <div>\n",
       "      \n",
       "      <progress value='1992' max='1992' style='width:300px; height:20px; vertical-align: middle;'></progress>\n",
       "      [1992/1992 01:08]\n",
       "    </div>\n",
       "    "
      ],
      "text/plain": [
       "<IPython.core.display.HTML object>"
      ]
     },
     "metadata": {},
     "output_type": "display_data"
    },
    {
     "name": "stdout",
     "output_type": "stream",
     "text": [
      "CPU times: user 1min 8s, sys: 585 ms, total: 1min 8s\n",
      "Wall time: 1min 8s\n"
     ]
    }
   ],
   "source": [
    "%%time\n",
    "predictions = trainer.predict(test_tokenized)"
   ]
  },
  {
   "cell_type": "code",
   "execution_count": 40,
   "id": "aba61942",
   "metadata": {
    "execution": {
     "iopub.execute_input": "2023-01-12T08:37:07.485170Z",
     "iopub.status.busy": "2023-01-12T08:37:07.484823Z",
     "iopub.status.idle": "2023-01-12T08:37:07.493914Z",
     "shell.execute_reply": "2023-01-12T08:37:07.492963Z"
    },
    "id": "cOzbDynzeOlJ",
    "outputId": "4eeff621-2dc7-40c1-80a6-9b4fd04b0df5",
    "papermill": {
     "duration": 0.168224,
     "end_time": "2023-01-12T08:37:07.496401",
     "exception": false,
     "start_time": "2023-01-12T08:37:07.328177",
     "status": "completed"
    },
    "tags": []
   },
   "outputs": [
    {
     "data": {
      "text/plain": [
       "array([[ 3.384247 , -3.137483 ],\n",
       "       [ 3.241423 , -2.993238 ],\n",
       "       [ 3.1164355, -2.8335006],\n",
       "       ...,\n",
       "       [-2.8335311,  3.1950586],\n",
       "       [ 3.3316774, -3.0639207],\n",
       "       [ 2.0395527, -1.792161 ]], dtype=float32)"
      ]
     },
     "execution_count": 40,
     "metadata": {},
     "output_type": "execute_result"
    }
   ],
   "source": [
    "predictions[0]"
   ]
  },
  {
   "cell_type": "markdown",
   "id": "af284055",
   "metadata": {
    "papermill": {
     "duration": 0.157874,
     "end_time": "2023-01-12T08:37:07.809809",
     "exception": false,
     "start_time": "2023-01-12T08:37:07.651935",
     "status": "completed"
    },
    "tags": []
   },
   "source": [
    "Достанем классы из предсказаний"
   ]
  },
  {
   "cell_type": "code",
   "execution_count": 41,
   "id": "10a702f4",
   "metadata": {
    "execution": {
     "iopub.execute_input": "2023-01-12T08:37:08.167365Z",
     "iopub.status.busy": "2023-01-12T08:37:08.167017Z",
     "iopub.status.idle": "2023-01-12T08:37:08.176590Z",
     "shell.execute_reply": "2023-01-12T08:37:08.175464Z"
    },
    "papermill": {
     "duration": 0.172756,
     "end_time": "2023-01-12T08:37:08.181072",
     "exception": false,
     "start_time": "2023-01-12T08:37:08.008316",
     "status": "completed"
    },
    "tags": []
   },
   "outputs": [
    {
     "name": "stdout",
     "output_type": "stream",
     "text": [
      "[[ 3.384247  -3.137483 ]\n",
      " [ 3.241423  -2.993238 ]\n",
      " [ 3.1164355 -2.8335006]\n",
      " ...\n",
      " [-2.8335311  3.1950586]\n",
      " [ 3.3316774 -3.0639207]\n",
      " [ 2.0395527 -1.792161 ]]\n",
      "<class 'numpy.ndarray'>\n",
      "15930\n",
      "\n",
      "[0 0 0 ... 1 0 0]\n"
     ]
    }
   ],
   "source": [
    "# вернем индекс максимального значения в каждой строке\n",
    "test_predictions = np.argmax(predictions[0], axis=1)\n",
    "\n",
    "# убедимся, что все работает\n",
    "print(predictions[0])\n",
    "print(type(test_predictions))\n",
    "print(len(test_predictions))\n",
    "print()\n",
    "print(test_predictions)"
   ]
  },
  {
   "cell_type": "code",
   "execution_count": 42,
   "id": "0247a167",
   "metadata": {
    "execution": {
     "iopub.execute_input": "2023-01-12T08:37:08.515580Z",
     "iopub.status.busy": "2023-01-12T08:37:08.515239Z",
     "iopub.status.idle": "2023-01-12T08:37:08.530345Z",
     "shell.execute_reply": "2023-01-12T08:37:08.529182Z"
    },
    "id": "R7H3rAv3m6TU",
    "outputId": "2074b684-f8e2-454b-a874-dea7cd858775",
    "papermill": {
     "duration": 0.173221,
     "end_time": "2023-01-12T08:37:08.533320",
     "exception": false,
     "start_time": "2023-01-12T08:37:08.360099",
     "status": "completed"
    },
    "tags": []
   },
   "outputs": [
    {
     "name": "stdout",
     "output_type": "stream",
     "text": [
      "f1 BERT 0.8028477546549836\n"
     ]
    }
   ],
   "source": [
    "print(f\"f1 BERT {f1_score(test['label'], test_predictions)}\")"
   ]
  },
  {
   "cell_type": "markdown",
   "id": "004c06e7",
   "metadata": {
    "id": "0LHnud2ECSpZ",
    "papermill": {
     "duration": 0.152137,
     "end_time": "2023-01-12T08:37:09.156618",
     "exception": false,
     "start_time": "2023-01-12T08:37:09.004481",
     "status": "completed"
    },
    "tags": []
   },
   "source": [
    "Модель BERT справляется с классификацией токсичных комментариев. Но тратит на обучение 15 минут, а на предсказание 1 минуту. При этом метрика f1 составляет 0,824."
   ]
  },
  {
   "cell_type": "markdown",
   "id": "c7f48995",
   "metadata": {
    "id": "onD5dfzNDAoa",
    "papermill": {
     "duration": 0.155043,
     "end_time": "2023-01-12T08:37:09.464952",
     "exception": false,
     "start_time": "2023-01-12T08:37:09.309909",
     "status": "completed"
    },
    "tags": []
   },
   "source": [
    "## Вывод\n",
    "\n",
    "В ходе работы над проектом мы проанализировали работу двух моделей:\n",
    "\n",
    "* Модель логистической регрессии в сочетании с векторным представлением теста в формате TF-IDF: f1 мера составляет 0,788. Также плюсом являются быстрые обучение и предсказания, а также низкие системные требования для ее работы.\n",
    "\n",
    "* Модель BERT: f1 мера составляет 0,824. При этом для ее достижения необходимо задействовать времязатратные вычисления на графическом процессоре.\n",
    "\n",
    "Обе модели выполняют условия поставленной задачи, и имеют свои преимущества и недостатки, описанные выше."
   ]
  }
 ],
 "metadata": {
  "kernelspec": {
   "display_name": "Python 3 (ipykernel)",
   "language": "python",
   "name": "python3"
  },
  "language_info": {
   "codemirror_mode": {
    "name": "ipython",
    "version": 3
   },
   "file_extension": ".py",
   "mimetype": "text/x-python",
   "name": "python",
   "nbconvert_exporter": "python",
   "pygments_lexer": "ipython3",
   "version": "3.12.2"
  },
  "papermill": {
   "default_parameters": {},
   "duration": 2496.102352,
   "end_time": "2023-01-12T08:37:13.106121",
   "environment_variables": {},
   "exception": null,
   "input_path": "__notebook__.ipynb",
   "output_path": "__notebook__.ipynb",
   "parameters": {},
   "start_time": "2023-01-12T07:55:37.003769",
   "version": "2.3.4"
  },
  "toc": {
   "base_numbering": 1,
   "nav_menu": {},
   "number_sections": true,
   "sideBar": true,
   "skip_h1_title": true,
   "title_cell": "Table of Contents",
   "title_sidebar": "Contents",
   "toc_cell": false,
   "toc_position": {},
   "toc_section_display": true,
   "toc_window_display": false
  },
  "widgets": {
   "application/vnd.jupyter.widget-state+json": {
    "state": {
     "022da592a16d4d6b81e1ca9e24ae6f20": {
      "model_module": "@jupyter-widgets/base",
      "model_module_version": "1.2.0",
      "model_name": "LayoutModel",
      "state": {
       "_model_module": "@jupyter-widgets/base",
       "_model_module_version": "1.2.0",
       "_model_name": "LayoutModel",
       "_view_count": null,
       "_view_module": "@jupyter-widgets/base",
       "_view_module_version": "1.2.0",
       "_view_name": "LayoutView",
       "align_content": null,
       "align_items": null,
       "align_self": null,
       "border": null,
       "bottom": null,
       "display": null,
       "flex": null,
       "flex_flow": null,
       "grid_area": null,
       "grid_auto_columns": null,
       "grid_auto_flow": null,
       "grid_auto_rows": null,
       "grid_column": null,
       "grid_gap": null,
       "grid_row": null,
       "grid_template_areas": null,
       "grid_template_columns": null,
       "grid_template_rows": null,
       "height": null,
       "justify_content": null,
       "justify_items": null,
       "left": null,
       "margin": null,
       "max_height": null,
       "max_width": null,
       "min_height": null,
       "min_width": null,
       "object_fit": null,
       "object_position": null,
       "order": null,
       "overflow": null,
       "overflow_x": null,
       "overflow_y": null,
       "padding": null,
       "right": null,
       "top": null,
       "visibility": null,
       "width": null
      }
     },
     "058f9362bd8e4a878012987051ac6c75": {
      "model_module": "@jupyter-widgets/controls",
      "model_module_version": "1.5.0",
      "model_name": "DescriptionStyleModel",
      "state": {
       "_model_module": "@jupyter-widgets/controls",
       "_model_module_version": "1.5.0",
       "_model_name": "DescriptionStyleModel",
       "_view_count": null,
       "_view_module": "@jupyter-widgets/base",
       "_view_module_version": "1.2.0",
       "_view_name": "StyleView",
       "description_width": ""
      }
     },
     "0905f65548984940aafd1a1406ed53f4": {
      "model_module": "@jupyter-widgets/controls",
      "model_module_version": "1.5.0",
      "model_name": "DescriptionStyleModel",
      "state": {
       "_model_module": "@jupyter-widgets/controls",
       "_model_module_version": "1.5.0",
       "_model_name": "DescriptionStyleModel",
       "_view_count": null,
       "_view_module": "@jupyter-widgets/base",
       "_view_module_version": "1.2.0",
       "_view_name": "StyleView",
       "description_width": ""
      }
     },
     "13cd703363a34fc2bb13e0463a640357": {
      "model_module": "@jupyter-widgets/controls",
      "model_module_version": "1.5.0",
      "model_name": "HBoxModel",
      "state": {
       "_dom_classes": [],
       "_model_module": "@jupyter-widgets/controls",
       "_model_module_version": "1.5.0",
       "_model_name": "HBoxModel",
       "_view_count": null,
       "_view_module": "@jupyter-widgets/controls",
       "_view_module_version": "1.5.0",
       "_view_name": "HBoxView",
       "box_style": "",
       "children": [
        "IPY_MODEL_b2e7f2257eb04a3daad35bb58a98f335",
        "IPY_MODEL_5e8543c1098a41278ca3f0f0b78b452e",
        "IPY_MODEL_721ed21ea7164ca7be3bd8ec394bee1a"
       ],
       "layout": "IPY_MODEL_e98432266e8142f89f9fa8ea9a67b512"
      }
     },
     "1852c47289b243d5ad987923a0fa4c32": {
      "model_module": "@jupyter-widgets/controls",
      "model_module_version": "1.5.0",
      "model_name": "HTMLModel",
      "state": {
       "_dom_classes": [],
       "_model_module": "@jupyter-widgets/controls",
       "_model_module_version": "1.5.0",
       "_model_name": "HTMLModel",
       "_view_count": null,
       "_view_module": "@jupyter-widgets/controls",
       "_view_module_version": "1.5.0",
       "_view_name": "HTMLView",
       "description": "",
       "description_tooltip": null,
       "layout": "IPY_MODEL_c619ad1b0e434823be257c5c0ce510dd",
       "placeholder": "​",
       "style": "IPY_MODEL_518e798f7b0a4eacb93d4cf3e7b02ec9",
       "value": " 55/55 [00:10&lt;00:00,  4.17ba/s]"
      }
     },
     "1939ea4b7cea4d9b884636eb671730f2": {
      "model_module": "@jupyter-widgets/controls",
      "model_module_version": "1.5.0",
      "model_name": "DescriptionStyleModel",
      "state": {
       "_model_module": "@jupyter-widgets/controls",
       "_model_module_version": "1.5.0",
       "_model_name": "DescriptionStyleModel",
       "_view_count": null,
       "_view_module": "@jupyter-widgets/base",
       "_view_module_version": "1.2.0",
       "_view_name": "StyleView",
       "description_width": ""
      }
     },
     "1b24d9cd7c9c4539bdf4363729c369b5": {
      "model_module": "@jupyter-widgets/base",
      "model_module_version": "1.2.0",
      "model_name": "LayoutModel",
      "state": {
       "_model_module": "@jupyter-widgets/base",
       "_model_module_version": "1.2.0",
       "_model_name": "LayoutModel",
       "_view_count": null,
       "_view_module": "@jupyter-widgets/base",
       "_view_module_version": "1.2.0",
       "_view_name": "LayoutView",
       "align_content": null,
       "align_items": null,
       "align_self": null,
       "border": null,
       "bottom": null,
       "display": null,
       "flex": null,
       "flex_flow": null,
       "grid_area": null,
       "grid_auto_columns": null,
       "grid_auto_flow": null,
       "grid_auto_rows": null,
       "grid_column": null,
       "grid_gap": null,
       "grid_row": null,
       "grid_template_areas": null,
       "grid_template_columns": null,
       "grid_template_rows": null,
       "height": null,
       "justify_content": null,
       "justify_items": null,
       "left": null,
       "margin": null,
       "max_height": null,
       "max_width": null,
       "min_height": null,
       "min_width": null,
       "object_fit": null,
       "object_position": null,
       "order": null,
       "overflow": null,
       "overflow_x": null,
       "overflow_y": null,
       "padding": null,
       "right": null,
       "top": null,
       "visibility": null,
       "width": null
      }
     },
     "1be9749b084240abb98e80f413f673bc": {
      "model_module": "@jupyter-widgets/base",
      "model_module_version": "1.2.0",
      "model_name": "LayoutModel",
      "state": {
       "_model_module": "@jupyter-widgets/base",
       "_model_module_version": "1.2.0",
       "_model_name": "LayoutModel",
       "_view_count": null,
       "_view_module": "@jupyter-widgets/base",
       "_view_module_version": "1.2.0",
       "_view_name": "LayoutView",
       "align_content": null,
       "align_items": null,
       "align_self": null,
       "border": null,
       "bottom": null,
       "display": null,
       "flex": null,
       "flex_flow": null,
       "grid_area": null,
       "grid_auto_columns": null,
       "grid_auto_flow": null,
       "grid_auto_rows": null,
       "grid_column": null,
       "grid_gap": null,
       "grid_row": null,
       "grid_template_areas": null,
       "grid_template_columns": null,
       "grid_template_rows": null,
       "height": null,
       "justify_content": null,
       "justify_items": null,
       "left": null,
       "margin": null,
       "max_height": null,
       "max_width": null,
       "min_height": null,
       "min_width": null,
       "object_fit": null,
       "object_position": null,
       "order": null,
       "overflow": null,
       "overflow_x": null,
       "overflow_y": null,
       "padding": null,
       "right": null,
       "top": null,
       "visibility": null,
       "width": null
      }
     },
     "1c82e1ef55924b59a4c7132d00d96424": {
      "model_module": "@jupyter-widgets/controls",
      "model_module_version": "1.5.0",
      "model_name": "ProgressStyleModel",
      "state": {
       "_model_module": "@jupyter-widgets/controls",
       "_model_module_version": "1.5.0",
       "_model_name": "ProgressStyleModel",
       "_view_count": null,
       "_view_module": "@jupyter-widgets/base",
       "_view_module_version": "1.2.0",
       "_view_name": "StyleView",
       "bar_color": null,
       "description_width": ""
      }
     },
     "29cefce153df488198080c0ff3685e09": {
      "model_module": "@jupyter-widgets/base",
      "model_module_version": "1.2.0",
      "model_name": "LayoutModel",
      "state": {
       "_model_module": "@jupyter-widgets/base",
       "_model_module_version": "1.2.0",
       "_model_name": "LayoutModel",
       "_view_count": null,
       "_view_module": "@jupyter-widgets/base",
       "_view_module_version": "1.2.0",
       "_view_name": "LayoutView",
       "align_content": null,
       "align_items": null,
       "align_self": null,
       "border": null,
       "bottom": null,
       "display": null,
       "flex": null,
       "flex_flow": null,
       "grid_area": null,
       "grid_auto_columns": null,
       "grid_auto_flow": null,
       "grid_auto_rows": null,
       "grid_column": null,
       "grid_gap": null,
       "grid_row": null,
       "grid_template_areas": null,
       "grid_template_columns": null,
       "grid_template_rows": null,
       "height": null,
       "justify_content": null,
       "justify_items": null,
       "left": null,
       "margin": null,
       "max_height": null,
       "max_width": null,
       "min_height": null,
       "min_width": null,
       "object_fit": null,
       "object_position": null,
       "order": null,
       "overflow": null,
       "overflow_x": null,
       "overflow_y": null,
       "padding": null,
       "right": null,
       "top": null,
       "visibility": null,
       "width": null
      }
     },
     "2f640d505fc04a42ad383f2882ccdd31": {
      "model_module": "@jupyter-widgets/controls",
      "model_module_version": "1.5.0",
      "model_name": "DescriptionStyleModel",
      "state": {
       "_model_module": "@jupyter-widgets/controls",
       "_model_module_version": "1.5.0",
       "_model_name": "DescriptionStyleModel",
       "_view_count": null,
       "_view_module": "@jupyter-widgets/base",
       "_view_module_version": "1.2.0",
       "_view_name": "StyleView",
       "description_width": ""
      }
     },
     "3181268d3b204c8281cb03896c87a89f": {
      "model_module": "@jupyter-widgets/controls",
      "model_module_version": "1.5.0",
      "model_name": "ProgressStyleModel",
      "state": {
       "_model_module": "@jupyter-widgets/controls",
       "_model_module_version": "1.5.0",
       "_model_name": "ProgressStyleModel",
       "_view_count": null,
       "_view_module": "@jupyter-widgets/base",
       "_view_module_version": "1.2.0",
       "_view_name": "StyleView",
       "bar_color": null,
       "description_width": ""
      }
     },
     "34712ae2f7a944e39756df21e5bb84cf": {
      "model_module": "@jupyter-widgets/controls",
      "model_module_version": "1.5.0",
      "model_name": "HBoxModel",
      "state": {
       "_dom_classes": [],
       "_model_module": "@jupyter-widgets/controls",
       "_model_module_version": "1.5.0",
       "_model_name": "HBoxModel",
       "_view_count": null,
       "_view_module": "@jupyter-widgets/controls",
       "_view_module_version": "1.5.0",
       "_view_name": "HBoxView",
       "box_style": "",
       "children": [
        "IPY_MODEL_d1db4680e8f94093a8701a083f974471",
        "IPY_MODEL_a5711029d5dc4e14bc3b32cfbe481ca5",
        "IPY_MODEL_e75234e240e3405ea52beaa88711e57b"
       ],
       "layout": "IPY_MODEL_464bea2f842248c2af5ee44aa7b8b2c9"
      }
     },
     "3653c719376a40ee8b9747a22b30277b": {
      "model_module": "@jupyter-widgets/controls",
      "model_module_version": "1.5.0",
      "model_name": "FloatProgressModel",
      "state": {
       "_dom_classes": [],
       "_model_module": "@jupyter-widgets/controls",
       "_model_module_version": "1.5.0",
       "_model_name": "FloatProgressModel",
       "_view_count": null,
       "_view_module": "@jupyter-widgets/controls",
       "_view_module_version": "1.5.0",
       "_view_name": "ProgressView",
       "bar_style": "success",
       "description": "",
       "description_tooltip": null,
       "layout": "IPY_MODEL_e021910227f841a7a3a7e429b6b206cf",
       "max": 28,
       "min": 0,
       "orientation": "horizontal",
       "style": "IPY_MODEL_c8ac4defdf734ccc84c305c0f884e98a",
       "value": 28
      }
     },
     "3d943d2d49954fdf9a188d18dea6c5d8": {
      "model_module": "@jupyter-widgets/controls",
      "model_module_version": "1.5.0",
      "model_name": "HTMLModel",
      "state": {
       "_dom_classes": [],
       "_model_module": "@jupyter-widgets/controls",
       "_model_module_version": "1.5.0",
       "_model_name": "HTMLModel",
       "_view_count": null,
       "_view_module": "@jupyter-widgets/controls",
       "_view_module_version": "1.5.0",
       "_view_name": "HTMLView",
       "description": "",
       "description_tooltip": null,
       "layout": "IPY_MODEL_9a809fb202bc4634b5144ec645d2cd69",
       "placeholder": "​",
       "style": "IPY_MODEL_f6754dc5721f4c14b4d9166763762138",
       "value": " 455k/455k [00:00&lt;00:00, 1.34MB/s]"
      }
     },
     "464bea2f842248c2af5ee44aa7b8b2c9": {
      "model_module": "@jupyter-widgets/base",
      "model_module_version": "1.2.0",
      "model_name": "LayoutModel",
      "state": {
       "_model_module": "@jupyter-widgets/base",
       "_model_module_version": "1.2.0",
       "_model_name": "LayoutModel",
       "_view_count": null,
       "_view_module": "@jupyter-widgets/base",
       "_view_module_version": "1.2.0",
       "_view_name": "LayoutView",
       "align_content": null,
       "align_items": null,
       "align_self": null,
       "border": null,
       "bottom": null,
       "display": null,
       "flex": null,
       "flex_flow": null,
       "grid_area": null,
       "grid_auto_columns": null,
       "grid_auto_flow": null,
       "grid_auto_rows": null,
       "grid_column": null,
       "grid_gap": null,
       "grid_row": null,
       "grid_template_areas": null,
       "grid_template_columns": null,
       "grid_template_rows": null,
       "height": null,
       "justify_content": null,
       "justify_items": null,
       "left": null,
       "margin": null,
       "max_height": null,
       "max_width": null,
       "min_height": null,
       "min_width": null,
       "object_fit": null,
       "object_position": null,
       "order": null,
       "overflow": null,
       "overflow_x": null,
       "overflow_y": null,
       "padding": null,
       "right": null,
       "top": null,
       "visibility": null,
       "width": null
      }
     },
     "518e798f7b0a4eacb93d4cf3e7b02ec9": {
      "model_module": "@jupyter-widgets/controls",
      "model_module_version": "1.5.0",
      "model_name": "DescriptionStyleModel",
      "state": {
       "_model_module": "@jupyter-widgets/controls",
       "_model_module_version": "1.5.0",
       "_model_name": "DescriptionStyleModel",
       "_view_count": null,
       "_view_module": "@jupyter-widgets/base",
       "_view_module_version": "1.2.0",
       "_view_name": "StyleView",
       "description_width": ""
      }
     },
     "55bb177733e24f8caa6b7553d79e6f09": {
      "model_module": "@jupyter-widgets/controls",
      "model_module_version": "1.5.0",
      "model_name": "HBoxModel",
      "state": {
       "_dom_classes": [],
       "_model_module": "@jupyter-widgets/controls",
       "_model_module_version": "1.5.0",
       "_model_name": "HBoxModel",
       "_view_count": null,
       "_view_module": "@jupyter-widgets/controls",
       "_view_module_version": "1.5.0",
       "_view_name": "HBoxView",
       "box_style": "",
       "children": [
        "IPY_MODEL_847bf52f00604415ad3e5fe09d861693",
        "IPY_MODEL_7c27308cc9b74306ba73fa6b9f4c97e6",
        "IPY_MODEL_f601a281a6474c8d99dcaeb98bce8efe"
       ],
       "layout": "IPY_MODEL_ce68856dbfca4ed58739ec39fbd0980a"
      }
     },
     "561e4ecc0d0d4641b22d8a7ab1d8951f": {
      "model_module": "@jupyter-widgets/controls",
      "model_module_version": "1.5.0",
      "model_name": "ProgressStyleModel",
      "state": {
       "_model_module": "@jupyter-widgets/controls",
       "_model_module_version": "1.5.0",
       "_model_name": "ProgressStyleModel",
       "_view_count": null,
       "_view_module": "@jupyter-widgets/base",
       "_view_module_version": "1.2.0",
       "_view_name": "StyleView",
       "bar_color": null,
       "description_width": ""
      }
     },
     "5ac659677826442d9a8ba784c6624f23": {
      "model_module": "@jupyter-widgets/base",
      "model_module_version": "1.2.0",
      "model_name": "LayoutModel",
      "state": {
       "_model_module": "@jupyter-widgets/base",
       "_model_module_version": "1.2.0",
       "_model_name": "LayoutModel",
       "_view_count": null,
       "_view_module": "@jupyter-widgets/base",
       "_view_module_version": "1.2.0",
       "_view_name": "LayoutView",
       "align_content": null,
       "align_items": null,
       "align_self": null,
       "border": null,
       "bottom": null,
       "display": null,
       "flex": null,
       "flex_flow": null,
       "grid_area": null,
       "grid_auto_columns": null,
       "grid_auto_flow": null,
       "grid_auto_rows": null,
       "grid_column": null,
       "grid_gap": null,
       "grid_row": null,
       "grid_template_areas": null,
       "grid_template_columns": null,
       "grid_template_rows": null,
       "height": null,
       "justify_content": null,
       "justify_items": null,
       "left": null,
       "margin": null,
       "max_height": null,
       "max_width": null,
       "min_height": null,
       "min_width": null,
       "object_fit": null,
       "object_position": null,
       "order": null,
       "overflow": null,
       "overflow_x": null,
       "overflow_y": null,
       "padding": null,
       "right": null,
       "top": null,
       "visibility": null,
       "width": null
      }
     },
     "5d0844b9615e42e1b72e853779ca8eaf": {
      "model_module": "@jupyter-widgets/controls",
      "model_module_version": "1.5.0",
      "model_name": "HBoxModel",
      "state": {
       "_dom_classes": [],
       "_model_module": "@jupyter-widgets/controls",
       "_model_module_version": "1.5.0",
       "_model_name": "HBoxModel",
       "_view_count": null,
       "_view_module": "@jupyter-widgets/controls",
       "_view_module_version": "1.5.0",
       "_view_name": "HBoxView",
       "box_style": "",
       "children": [
        "IPY_MODEL_8cea97bff4eb498789896ab00fc7f9cb",
        "IPY_MODEL_d5a78960702a45d08af1a1451ec4f570",
        "IPY_MODEL_1852c47289b243d5ad987923a0fa4c32"
       ],
       "layout": "IPY_MODEL_97333644f7d94633a1e2f3b58f0bd579"
      }
     },
     "5e8543c1098a41278ca3f0f0b78b452e": {
      "model_module": "@jupyter-widgets/controls",
      "model_module_version": "1.5.0",
      "model_name": "FloatProgressModel",
      "state": {
       "_dom_classes": [],
       "_model_module": "@jupyter-widgets/controls",
       "_model_module_version": "1.5.0",
       "_model_name": "FloatProgressModel",
       "_view_count": null,
       "_view_module": "@jupyter-widgets/controls",
       "_view_module_version": "1.5.0",
       "_view_name": "ProgressView",
       "bar_style": "success",
       "description": "",
       "description_tooltip": null,
       "layout": "IPY_MODEL_95427f19a7e74e59b3ca2a90da9349c2",
       "max": 16,
       "min": 0,
       "orientation": "horizontal",
       "style": "IPY_MODEL_561e4ecc0d0d4641b22d8a7ab1d8951f",
       "value": 16
      }
     },
     "5eb96aa3cf0c4f61adede15ab0fe95d3": {
      "model_module": "@jupyter-widgets/base",
      "model_module_version": "1.2.0",
      "model_name": "LayoutModel",
      "state": {
       "_model_module": "@jupyter-widgets/base",
       "_model_module_version": "1.2.0",
       "_model_name": "LayoutModel",
       "_view_count": null,
       "_view_module": "@jupyter-widgets/base",
       "_view_module_version": "1.2.0",
       "_view_name": "LayoutView",
       "align_content": null,
       "align_items": null,
       "align_self": null,
       "border": null,
       "bottom": null,
       "display": null,
       "flex": null,
       "flex_flow": null,
       "grid_area": null,
       "grid_auto_columns": null,
       "grid_auto_flow": null,
       "grid_auto_rows": null,
       "grid_column": null,
       "grid_gap": null,
       "grid_row": null,
       "grid_template_areas": null,
       "grid_template_columns": null,
       "grid_template_rows": null,
       "height": null,
       "justify_content": null,
       "justify_items": null,
       "left": null,
       "margin": null,
       "max_height": null,
       "max_width": null,
       "min_height": null,
       "min_width": null,
       "object_fit": null,
       "object_position": null,
       "order": null,
       "overflow": null,
       "overflow_x": null,
       "overflow_y": null,
       "padding": null,
       "right": null,
       "top": null,
       "visibility": null,
       "width": null
      }
     },
     "60a7ed067891484a8ba6f55df7c19201": {
      "model_module": "@jupyter-widgets/base",
      "model_module_version": "1.2.0",
      "model_name": "LayoutModel",
      "state": {
       "_model_module": "@jupyter-widgets/base",
       "_model_module_version": "1.2.0",
       "_model_name": "LayoutModel",
       "_view_count": null,
       "_view_module": "@jupyter-widgets/base",
       "_view_module_version": "1.2.0",
       "_view_name": "LayoutView",
       "align_content": null,
       "align_items": null,
       "align_self": null,
       "border": null,
       "bottom": null,
       "display": null,
       "flex": null,
       "flex_flow": null,
       "grid_area": null,
       "grid_auto_columns": null,
       "grid_auto_flow": null,
       "grid_auto_rows": null,
       "grid_column": null,
       "grid_gap": null,
       "grid_row": null,
       "grid_template_areas": null,
       "grid_template_columns": null,
       "grid_template_rows": null,
       "height": null,
       "justify_content": null,
       "justify_items": null,
       "left": null,
       "margin": null,
       "max_height": null,
       "max_width": null,
       "min_height": null,
       "min_width": null,
       "object_fit": null,
       "object_position": null,
       "order": null,
       "overflow": null,
       "overflow_x": null,
       "overflow_y": null,
       "padding": null,
       "right": null,
       "top": null,
       "visibility": null,
       "width": null
      }
     },
     "632a93ebd43141129ab76ee1f55b9e93": {
      "model_module": "@jupyter-widgets/controls",
      "model_module_version": "1.5.0",
      "model_name": "DescriptionStyleModel",
      "state": {
       "_model_module": "@jupyter-widgets/controls",
       "_model_module_version": "1.5.0",
       "_model_name": "DescriptionStyleModel",
       "_view_count": null,
       "_view_module": "@jupyter-widgets/base",
       "_view_module_version": "1.2.0",
       "_view_name": "StyleView",
       "description_width": ""
      }
     },
     "67d58ed5f57b4532bb0024208210491d": {
      "model_module": "@jupyter-widgets/controls",
      "model_module_version": "1.5.0",
      "model_name": "VBoxModel",
      "state": {
       "_dom_classes": [],
       "_model_module": "@jupyter-widgets/controls",
       "_model_module_version": "1.5.0",
       "_model_name": "VBoxModel",
       "_view_count": null,
       "_view_module": "@jupyter-widgets/controls",
       "_view_module_version": "1.5.0",
       "_view_name": "VBoxView",
       "box_style": "",
       "children": [
        "IPY_MODEL_f6ed241bcbb548a1b998c6e10e7c24cd",
        "IPY_MODEL_e63ba6dd159d4166a4d9a86a4815f19d"
       ],
       "layout": "IPY_MODEL_ef65b8b7a3b9486da43c899c3ed39385"
      }
     },
     "6d7f869a4c5143cf934e443a009410ea": {
      "model_module": "@jupyter-widgets/base",
      "model_module_version": "1.2.0",
      "model_name": "LayoutModel",
      "state": {
       "_model_module": "@jupyter-widgets/base",
       "_model_module_version": "1.2.0",
       "_model_name": "LayoutModel",
       "_view_count": null,
       "_view_module": "@jupyter-widgets/base",
       "_view_module_version": "1.2.0",
       "_view_name": "LayoutView",
       "align_content": null,
       "align_items": null,
       "align_self": null,
       "border": null,
       "bottom": null,
       "display": null,
       "flex": null,
       "flex_flow": null,
       "grid_area": null,
       "grid_auto_columns": null,
       "grid_auto_flow": null,
       "grid_auto_rows": null,
       "grid_column": null,
       "grid_gap": null,
       "grid_row": null,
       "grid_template_areas": null,
       "grid_template_columns": null,
       "grid_template_rows": null,
       "height": null,
       "justify_content": null,
       "justify_items": null,
       "left": null,
       "margin": null,
       "max_height": null,
       "max_width": null,
       "min_height": null,
       "min_width": null,
       "object_fit": null,
       "object_position": null,
       "order": null,
       "overflow": null,
       "overflow_x": null,
       "overflow_y": null,
       "padding": null,
       "right": null,
       "top": null,
       "visibility": null,
       "width": null
      }
     },
     "6fcaee88a3794bb3bf027395fb9cc316": {
      "model_module": "@jupyter-widgets/controls",
      "model_module_version": "1.5.0",
      "model_name": "HBoxModel",
      "state": {
       "_dom_classes": [],
       "_model_module": "@jupyter-widgets/controls",
       "_model_module_version": "1.5.0",
       "_model_name": "HBoxModel",
       "_view_count": null,
       "_view_module": "@jupyter-widgets/controls",
       "_view_module_version": "1.5.0",
       "_view_name": "HBoxView",
       "box_style": "",
       "children": [
        "IPY_MODEL_c04187e7c92b492696d9ee91c85466cf",
        "IPY_MODEL_73911fcbad924d18b476b6f37405d8f4",
        "IPY_MODEL_df6dfa5c59a24f21b4a49aaf42005818"
       ],
       "layout": "IPY_MODEL_1be9749b084240abb98e80f413f673bc"
      }
     },
     "721ed21ea7164ca7be3bd8ec394bee1a": {
      "model_module": "@jupyter-widgets/controls",
      "model_module_version": "1.5.0",
      "model_name": "HTMLModel",
      "state": {
       "_dom_classes": [],
       "_model_module": "@jupyter-widgets/controls",
       "_model_module_version": "1.5.0",
       "_model_name": "HTMLModel",
       "_view_count": null,
       "_view_module": "@jupyter-widgets/controls",
       "_view_module_version": "1.5.0",
       "_view_name": "HTMLView",
       "description": "",
       "description_tooltip": null,
       "layout": "IPY_MODEL_c8581b638b1e4e079a564ae59bbeb744",
       "placeholder": "​",
       "style": "IPY_MODEL_632a93ebd43141129ab76ee1f55b9e93",
       "value": " 16/16 [00:03&lt;00:00,  5.17ba/s]"
      }
     },
     "72c0f74894014ac2ac314985b287d923": {
      "model_module": "@jupyter-widgets/base",
      "model_module_version": "1.2.0",
      "model_name": "LayoutModel",
      "state": {
       "_model_module": "@jupyter-widgets/base",
       "_model_module_version": "1.2.0",
       "_model_name": "LayoutModel",
       "_view_count": null,
       "_view_module": "@jupyter-widgets/base",
       "_view_module_version": "1.2.0",
       "_view_name": "LayoutView",
       "align_content": null,
       "align_items": null,
       "align_self": null,
       "border": null,
       "bottom": null,
       "display": null,
       "flex": null,
       "flex_flow": null,
       "grid_area": null,
       "grid_auto_columns": null,
       "grid_auto_flow": null,
       "grid_auto_rows": null,
       "grid_column": null,
       "grid_gap": null,
       "grid_row": null,
       "grid_template_areas": null,
       "grid_template_columns": null,
       "grid_template_rows": null,
       "height": null,
       "justify_content": null,
       "justify_items": null,
       "left": null,
       "margin": null,
       "max_height": null,
       "max_width": null,
       "min_height": null,
       "min_width": null,
       "object_fit": null,
       "object_position": null,
       "order": null,
       "overflow": null,
       "overflow_x": null,
       "overflow_y": null,
       "padding": null,
       "right": null,
       "top": null,
       "visibility": null,
       "width": null
      }
     },
     "73911fcbad924d18b476b6f37405d8f4": {
      "model_module": "@jupyter-widgets/controls",
      "model_module_version": "1.5.0",
      "model_name": "FloatProgressModel",
      "state": {
       "_dom_classes": [],
       "_model_module": "@jupyter-widgets/controls",
       "_model_module_version": "1.5.0",
       "_model_name": "FloatProgressModel",
       "_view_count": null,
       "_view_module": "@jupyter-widgets/controls",
       "_view_module_version": "1.5.0",
       "_view_name": "ProgressView",
       "bar_style": "success",
       "description": "",
       "description_tooltip": null,
       "layout": "IPY_MODEL_29cefce153df488198080c0ff3685e09",
       "max": 231508,
       "min": 0,
       "orientation": "horizontal",
       "style": "IPY_MODEL_7c976fba263f4eb382226168dfffa68f",
       "value": 231508
      }
     },
     "74113e97c7ff45fb811c133564eb6c33": {
      "model_module": "@jupyter-widgets/controls",
      "model_module_version": "1.5.0",
      "model_name": "DescriptionStyleModel",
      "state": {
       "_model_module": "@jupyter-widgets/controls",
       "_model_module_version": "1.5.0",
       "_model_name": "DescriptionStyleModel",
       "_view_count": null,
       "_view_module": "@jupyter-widgets/base",
       "_view_module_version": "1.2.0",
       "_view_name": "StyleView",
       "description_width": ""
      }
     },
     "7c27308cc9b74306ba73fa6b9f4c97e6": {
      "model_module": "@jupyter-widgets/controls",
      "model_module_version": "1.5.0",
      "model_name": "FloatProgressModel",
      "state": {
       "_dom_classes": [],
       "_model_module": "@jupyter-widgets/controls",
       "_model_module_version": "1.5.0",
       "_model_name": "FloatProgressModel",
       "_view_count": null,
       "_view_module": "@jupyter-widgets/controls",
       "_view_module_version": "1.5.0",
       "_view_name": "ProgressView",
       "bar_style": "success",
       "description": "",
       "description_tooltip": null,
       "layout": "IPY_MODEL_7d9629333f2941a4af1320906b83bb86",
       "max": 267967963,
       "min": 0,
       "orientation": "horizontal",
       "style": "IPY_MODEL_8428c3e100724c739c42a9031e383ba9",
       "value": 267967963
      }
     },
     "7c31ae4fd5414ce3a421e8539d62a795": {
      "model_module": "@jupyter-widgets/base",
      "model_module_version": "1.2.0",
      "model_name": "LayoutModel",
      "state": {
       "_model_module": "@jupyter-widgets/base",
       "_model_module_version": "1.2.0",
       "_model_name": "LayoutModel",
       "_view_count": null,
       "_view_module": "@jupyter-widgets/base",
       "_view_module_version": "1.2.0",
       "_view_name": "LayoutView",
       "align_content": null,
       "align_items": null,
       "align_self": null,
       "border": null,
       "bottom": null,
       "display": null,
       "flex": null,
       "flex_flow": null,
       "grid_area": null,
       "grid_auto_columns": null,
       "grid_auto_flow": null,
       "grid_auto_rows": null,
       "grid_column": null,
       "grid_gap": null,
       "grid_row": null,
       "grid_template_areas": null,
       "grid_template_columns": null,
       "grid_template_rows": null,
       "height": null,
       "justify_content": null,
       "justify_items": null,
       "left": null,
       "margin": null,
       "max_height": null,
       "max_width": null,
       "min_height": null,
       "min_width": null,
       "object_fit": null,
       "object_position": null,
       "order": null,
       "overflow": null,
       "overflow_x": null,
       "overflow_y": null,
       "padding": null,
       "right": null,
       "top": null,
       "visibility": null,
       "width": null
      }
     },
     "7c976fba263f4eb382226168dfffa68f": {
      "model_module": "@jupyter-widgets/controls",
      "model_module_version": "1.5.0",
      "model_name": "ProgressStyleModel",
      "state": {
       "_model_module": "@jupyter-widgets/controls",
       "_model_module_version": "1.5.0",
       "_model_name": "ProgressStyleModel",
       "_view_count": null,
       "_view_module": "@jupyter-widgets/base",
       "_view_module_version": "1.2.0",
       "_view_name": "StyleView",
       "bar_color": null,
       "description_width": ""
      }
     },
     "7d9629333f2941a4af1320906b83bb86": {
      "model_module": "@jupyter-widgets/base",
      "model_module_version": "1.2.0",
      "model_name": "LayoutModel",
      "state": {
       "_model_module": "@jupyter-widgets/base",
       "_model_module_version": "1.2.0",
       "_model_name": "LayoutModel",
       "_view_count": null,
       "_view_module": "@jupyter-widgets/base",
       "_view_module_version": "1.2.0",
       "_view_name": "LayoutView",
       "align_content": null,
       "align_items": null,
       "align_self": null,
       "border": null,
       "bottom": null,
       "display": null,
       "flex": null,
       "flex_flow": null,
       "grid_area": null,
       "grid_auto_columns": null,
       "grid_auto_flow": null,
       "grid_auto_rows": null,
       "grid_column": null,
       "grid_gap": null,
       "grid_row": null,
       "grid_template_areas": null,
       "grid_template_columns": null,
       "grid_template_rows": null,
       "height": null,
       "justify_content": null,
       "justify_items": null,
       "left": null,
       "margin": null,
       "max_height": null,
       "max_width": null,
       "min_height": null,
       "min_width": null,
       "object_fit": null,
       "object_position": null,
       "order": null,
       "overflow": null,
       "overflow_x": null,
       "overflow_y": null,
       "padding": null,
       "right": null,
       "top": null,
       "visibility": null,
       "width": null
      }
     },
     "8428c3e100724c739c42a9031e383ba9": {
      "model_module": "@jupyter-widgets/controls",
      "model_module_version": "1.5.0",
      "model_name": "ProgressStyleModel",
      "state": {
       "_model_module": "@jupyter-widgets/controls",
       "_model_module_version": "1.5.0",
       "_model_name": "ProgressStyleModel",
       "_view_count": null,
       "_view_module": "@jupyter-widgets/base",
       "_view_module_version": "1.2.0",
       "_view_name": "StyleView",
       "bar_color": null,
       "description_width": ""
      }
     },
     "847bf52f00604415ad3e5fe09d861693": {
      "model_module": "@jupyter-widgets/controls",
      "model_module_version": "1.5.0",
      "model_name": "HTMLModel",
      "state": {
       "_dom_classes": [],
       "_model_module": "@jupyter-widgets/controls",
       "_model_module_version": "1.5.0",
       "_model_name": "HTMLModel",
       "_view_count": null,
       "_view_module": "@jupyter-widgets/controls",
       "_view_module_version": "1.5.0",
       "_view_name": "HTMLView",
       "description": "",
       "description_tooltip": null,
       "layout": "IPY_MODEL_89a79c77996246e2b3fb8e246b499603",
       "placeholder": "​",
       "style": "IPY_MODEL_f31667b8f70e43d7b1c986768ee55984",
       "value": "Downloading: 100%"
      }
     },
     "86b4a8b37c1a4e868b4425bfcd98102c": {
      "model_module": "@jupyter-widgets/base",
      "model_module_version": "1.2.0",
      "model_name": "LayoutModel",
      "state": {
       "_model_module": "@jupyter-widgets/base",
       "_model_module_version": "1.2.0",
       "_model_name": "LayoutModel",
       "_view_count": null,
       "_view_module": "@jupyter-widgets/base",
       "_view_module_version": "1.2.0",
       "_view_name": "LayoutView",
       "align_content": null,
       "align_items": null,
       "align_self": null,
       "border": null,
       "bottom": null,
       "display": null,
       "flex": null,
       "flex_flow": null,
       "grid_area": null,
       "grid_auto_columns": null,
       "grid_auto_flow": null,
       "grid_auto_rows": null,
       "grid_column": null,
       "grid_gap": null,
       "grid_row": null,
       "grid_template_areas": null,
       "grid_template_columns": null,
       "grid_template_rows": null,
       "height": null,
       "justify_content": null,
       "justify_items": null,
       "left": null,
       "margin": null,
       "max_height": null,
       "max_width": null,
       "min_height": null,
       "min_width": null,
       "object_fit": null,
       "object_position": null,
       "order": null,
       "overflow": null,
       "overflow_x": null,
       "overflow_y": null,
       "padding": null,
       "right": null,
       "top": null,
       "visibility": null,
       "width": null
      }
     },
     "89a79c77996246e2b3fb8e246b499603": {
      "model_module": "@jupyter-widgets/base",
      "model_module_version": "1.2.0",
      "model_name": "LayoutModel",
      "state": {
       "_model_module": "@jupyter-widgets/base",
       "_model_module_version": "1.2.0",
       "_model_name": "LayoutModel",
       "_view_count": null,
       "_view_module": "@jupyter-widgets/base",
       "_view_module_version": "1.2.0",
       "_view_name": "LayoutView",
       "align_content": null,
       "align_items": null,
       "align_self": null,
       "border": null,
       "bottom": null,
       "display": null,
       "flex": null,
       "flex_flow": null,
       "grid_area": null,
       "grid_auto_columns": null,
       "grid_auto_flow": null,
       "grid_auto_rows": null,
       "grid_column": null,
       "grid_gap": null,
       "grid_row": null,
       "grid_template_areas": null,
       "grid_template_columns": null,
       "grid_template_rows": null,
       "height": null,
       "justify_content": null,
       "justify_items": null,
       "left": null,
       "margin": null,
       "max_height": null,
       "max_width": null,
       "min_height": null,
       "min_width": null,
       "object_fit": null,
       "object_position": null,
       "order": null,
       "overflow": null,
       "overflow_x": null,
       "overflow_y": null,
       "padding": null,
       "right": null,
       "top": null,
       "visibility": null,
       "width": null
      }
     },
     "8c6a2790d93245c28722135c081e1c9e": {
      "model_module": "@jupyter-widgets/base",
      "model_module_version": "1.2.0",
      "model_name": "LayoutModel",
      "state": {
       "_model_module": "@jupyter-widgets/base",
       "_model_module_version": "1.2.0",
       "_model_name": "LayoutModel",
       "_view_count": null,
       "_view_module": "@jupyter-widgets/base",
       "_view_module_version": "1.2.0",
       "_view_name": "LayoutView",
       "align_content": null,
       "align_items": null,
       "align_self": null,
       "border": null,
       "bottom": null,
       "display": null,
       "flex": null,
       "flex_flow": null,
       "grid_area": null,
       "grid_auto_columns": null,
       "grid_auto_flow": null,
       "grid_auto_rows": null,
       "grid_column": null,
       "grid_gap": null,
       "grid_row": null,
       "grid_template_areas": null,
       "grid_template_columns": null,
       "grid_template_rows": null,
       "height": null,
       "justify_content": null,
       "justify_items": null,
       "left": null,
       "margin": null,
       "max_height": null,
       "max_width": null,
       "min_height": null,
       "min_width": null,
       "object_fit": null,
       "object_position": null,
       "order": null,
       "overflow": null,
       "overflow_x": null,
       "overflow_y": null,
       "padding": null,
       "right": null,
       "top": null,
       "visibility": null,
       "width": null
      }
     },
     "8cea97bff4eb498789896ab00fc7f9cb": {
      "model_module": "@jupyter-widgets/controls",
      "model_module_version": "1.5.0",
      "model_name": "HTMLModel",
      "state": {
       "_dom_classes": [],
       "_model_module": "@jupyter-widgets/controls",
       "_model_module_version": "1.5.0",
       "_model_name": "HTMLModel",
       "_view_count": null,
       "_view_module": "@jupyter-widgets/controls",
       "_view_module_version": "1.5.0",
       "_view_name": "HTMLView",
       "description": "",
       "description_tooltip": null,
       "layout": "IPY_MODEL_c8c3b8068565476897931dce0a108a6e",
       "placeholder": "​",
       "style": "IPY_MODEL_f6c8a84f410447fdb96bac169c330aa2",
       "value": "100%"
      }
     },
     "95427f19a7e74e59b3ca2a90da9349c2": {
      "model_module": "@jupyter-widgets/base",
      "model_module_version": "1.2.0",
      "model_name": "LayoutModel",
      "state": {
       "_model_module": "@jupyter-widgets/base",
       "_model_module_version": "1.2.0",
       "_model_name": "LayoutModel",
       "_view_count": null,
       "_view_module": "@jupyter-widgets/base",
       "_view_module_version": "1.2.0",
       "_view_name": "LayoutView",
       "align_content": null,
       "align_items": null,
       "align_self": null,
       "border": null,
       "bottom": null,
       "display": null,
       "flex": null,
       "flex_flow": null,
       "grid_area": null,
       "grid_auto_columns": null,
       "grid_auto_flow": null,
       "grid_auto_rows": null,
       "grid_column": null,
       "grid_gap": null,
       "grid_row": null,
       "grid_template_areas": null,
       "grid_template_columns": null,
       "grid_template_rows": null,
       "height": null,
       "justify_content": null,
       "justify_items": null,
       "left": null,
       "margin": null,
       "max_height": null,
       "max_width": null,
       "min_height": null,
       "min_width": null,
       "object_fit": null,
       "object_position": null,
       "order": null,
       "overflow": null,
       "overflow_x": null,
       "overflow_y": null,
       "padding": null,
       "right": null,
       "top": null,
       "visibility": null,
       "width": null
      }
     },
     "97333644f7d94633a1e2f3b58f0bd579": {
      "model_module": "@jupyter-widgets/base",
      "model_module_version": "1.2.0",
      "model_name": "LayoutModel",
      "state": {
       "_model_module": "@jupyter-widgets/base",
       "_model_module_version": "1.2.0",
       "_model_name": "LayoutModel",
       "_view_count": null,
       "_view_module": "@jupyter-widgets/base",
       "_view_module_version": "1.2.0",
       "_view_name": "LayoutView",
       "align_content": null,
       "align_items": null,
       "align_self": null,
       "border": null,
       "bottom": null,
       "display": null,
       "flex": null,
       "flex_flow": null,
       "grid_area": null,
       "grid_auto_columns": null,
       "grid_auto_flow": null,
       "grid_auto_rows": null,
       "grid_column": null,
       "grid_gap": null,
       "grid_row": null,
       "grid_template_areas": null,
       "grid_template_columns": null,
       "grid_template_rows": null,
       "height": null,
       "justify_content": null,
       "justify_items": null,
       "left": null,
       "margin": null,
       "max_height": null,
       "max_width": null,
       "min_height": null,
       "min_width": null,
       "object_fit": null,
       "object_position": null,
       "order": null,
       "overflow": null,
       "overflow_x": null,
       "overflow_y": null,
       "padding": null,
       "right": null,
       "top": null,
       "visibility": null,
       "width": null
      }
     },
     "9755a370c3e6477495305166b7eb3ab7": {
      "model_module": "@jupyter-widgets/controls",
      "model_module_version": "1.5.0",
      "model_name": "DescriptionStyleModel",
      "state": {
       "_model_module": "@jupyter-widgets/controls",
       "_model_module_version": "1.5.0",
       "_model_name": "DescriptionStyleModel",
       "_view_count": null,
       "_view_module": "@jupyter-widgets/base",
       "_view_module_version": "1.2.0",
       "_view_name": "StyleView",
       "description_width": ""
      }
     },
     "9a809fb202bc4634b5144ec645d2cd69": {
      "model_module": "@jupyter-widgets/base",
      "model_module_version": "1.2.0",
      "model_name": "LayoutModel",
      "state": {
       "_model_module": "@jupyter-widgets/base",
       "_model_module_version": "1.2.0",
       "_model_name": "LayoutModel",
       "_view_count": null,
       "_view_module": "@jupyter-widgets/base",
       "_view_module_version": "1.2.0",
       "_view_name": "LayoutView",
       "align_content": null,
       "align_items": null,
       "align_self": null,
       "border": null,
       "bottom": null,
       "display": null,
       "flex": null,
       "flex_flow": null,
       "grid_area": null,
       "grid_auto_columns": null,
       "grid_auto_flow": null,
       "grid_auto_rows": null,
       "grid_column": null,
       "grid_gap": null,
       "grid_row": null,
       "grid_template_areas": null,
       "grid_template_columns": null,
       "grid_template_rows": null,
       "height": null,
       "justify_content": null,
       "justify_items": null,
       "left": null,
       "margin": null,
       "max_height": null,
       "max_width": null,
       "min_height": null,
       "min_width": null,
       "object_fit": null,
       "object_position": null,
       "order": null,
       "overflow": null,
       "overflow_x": null,
       "overflow_y": null,
       "padding": null,
       "right": null,
       "top": null,
       "visibility": null,
       "width": null
      }
     },
     "9e8fbbc6c0fd457c988778eb0aa69c18": {
      "model_module": "@jupyter-widgets/controls",
      "model_module_version": "1.5.0",
      "model_name": "ProgressStyleModel",
      "state": {
       "_model_module": "@jupyter-widgets/controls",
       "_model_module_version": "1.5.0",
       "_model_name": "ProgressStyleModel",
       "_view_count": null,
       "_view_module": "@jupyter-widgets/base",
       "_view_module_version": "1.2.0",
       "_view_name": "StyleView",
       "bar_color": null,
       "description_width": ""
      }
     },
     "a3b6358ba0724b8fb778601f6f1a9367": {
      "model_module": "@jupyter-widgets/base",
      "model_module_version": "1.2.0",
      "model_name": "LayoutModel",
      "state": {
       "_model_module": "@jupyter-widgets/base",
       "_model_module_version": "1.2.0",
       "_model_name": "LayoutModel",
       "_view_count": null,
       "_view_module": "@jupyter-widgets/base",
       "_view_module_version": "1.2.0",
       "_view_name": "LayoutView",
       "align_content": null,
       "align_items": null,
       "align_self": null,
       "border": null,
       "bottom": null,
       "display": null,
       "flex": null,
       "flex_flow": null,
       "grid_area": null,
       "grid_auto_columns": null,
       "grid_auto_flow": null,
       "grid_auto_rows": null,
       "grid_column": null,
       "grid_gap": null,
       "grid_row": null,
       "grid_template_areas": null,
       "grid_template_columns": null,
       "grid_template_rows": null,
       "height": null,
       "justify_content": null,
       "justify_items": null,
       "left": null,
       "margin": null,
       "max_height": null,
       "max_width": null,
       "min_height": null,
       "min_width": null,
       "object_fit": null,
       "object_position": null,
       "order": null,
       "overflow": null,
       "overflow_x": null,
       "overflow_y": null,
       "padding": null,
       "right": null,
       "top": null,
       "visibility": null,
       "width": null
      }
     },
     "a5711029d5dc4e14bc3b32cfbe481ca5": {
      "model_module": "@jupyter-widgets/controls",
      "model_module_version": "1.5.0",
      "model_name": "FloatProgressModel",
      "state": {
       "_dom_classes": [],
       "_model_module": "@jupyter-widgets/controls",
       "_model_module_version": "1.5.0",
       "_model_name": "FloatProgressModel",
       "_view_count": null,
       "_view_module": "@jupyter-widgets/controls",
       "_view_module_version": "1.5.0",
       "_view_name": "ProgressView",
       "bar_style": "success",
       "description": "",
       "description_tooltip": null,
       "layout": "IPY_MODEL_72c0f74894014ac2ac314985b287d923",
       "max": 483,
       "min": 0,
       "orientation": "horizontal",
       "style": "IPY_MODEL_ad18226a8ac947a4818fdad80e4e2ea3",
       "value": 483
      }
     },
     "ad18226a8ac947a4818fdad80e4e2ea3": {
      "model_module": "@jupyter-widgets/controls",
      "model_module_version": "1.5.0",
      "model_name": "ProgressStyleModel",
      "state": {
       "_model_module": "@jupyter-widgets/controls",
       "_model_module_version": "1.5.0",
       "_model_name": "ProgressStyleModel",
       "_view_count": null,
       "_view_module": "@jupyter-widgets/base",
       "_view_module_version": "1.2.0",
       "_view_name": "StyleView",
       "bar_color": null,
       "description_width": ""
      }
     },
     "b2e7f2257eb04a3daad35bb58a98f335": {
      "model_module": "@jupyter-widgets/controls",
      "model_module_version": "1.5.0",
      "model_name": "HTMLModel",
      "state": {
       "_dom_classes": [],
       "_model_module": "@jupyter-widgets/controls",
       "_model_module_version": "1.5.0",
       "_model_name": "HTMLModel",
       "_view_count": null,
       "_view_module": "@jupyter-widgets/controls",
       "_view_module_version": "1.5.0",
       "_view_name": "HTMLView",
       "description": "",
       "description_tooltip": null,
       "layout": "IPY_MODEL_e4f5d2b743f34517a145128245da1fa0",
       "placeholder": "​",
       "style": "IPY_MODEL_0905f65548984940aafd1a1406ed53f4",
       "value": "100%"
      }
     },
     "b8d3fe0129584b0192b8e38879b3e019": {
      "model_module": "@jupyter-widgets/controls",
      "model_module_version": "1.5.0",
      "model_name": "DescriptionStyleModel",
      "state": {
       "_model_module": "@jupyter-widgets/controls",
       "_model_module_version": "1.5.0",
       "_model_name": "DescriptionStyleModel",
       "_view_count": null,
       "_view_module": "@jupyter-widgets/base",
       "_view_module_version": "1.2.0",
       "_view_name": "StyleView",
       "description_width": ""
      }
     },
     "be417858d7ed48a2b34e0877fe182da0": {
      "model_module": "@jupyter-widgets/base",
      "model_module_version": "1.2.0",
      "model_name": "LayoutModel",
      "state": {
       "_model_module": "@jupyter-widgets/base",
       "_model_module_version": "1.2.0",
       "_model_name": "LayoutModel",
       "_view_count": null,
       "_view_module": "@jupyter-widgets/base",
       "_view_module_version": "1.2.0",
       "_view_name": "LayoutView",
       "align_content": null,
       "align_items": null,
       "align_self": null,
       "border": null,
       "bottom": null,
       "display": null,
       "flex": null,
       "flex_flow": null,
       "grid_area": null,
       "grid_auto_columns": null,
       "grid_auto_flow": null,
       "grid_auto_rows": null,
       "grid_column": null,
       "grid_gap": null,
       "grid_row": null,
       "grid_template_areas": null,
       "grid_template_columns": null,
       "grid_template_rows": null,
       "height": null,
       "justify_content": null,
       "justify_items": null,
       "left": null,
       "margin": null,
       "max_height": null,
       "max_width": null,
       "min_height": null,
       "min_width": null,
       "object_fit": null,
       "object_position": null,
       "order": null,
       "overflow": null,
       "overflow_x": null,
       "overflow_y": null,
       "padding": null,
       "right": null,
       "top": null,
       "visibility": null,
       "width": null
      }
     },
     "c04187e7c92b492696d9ee91c85466cf": {
      "model_module": "@jupyter-widgets/controls",
      "model_module_version": "1.5.0",
      "model_name": "HTMLModel",
      "state": {
       "_dom_classes": [],
       "_model_module": "@jupyter-widgets/controls",
       "_model_module_version": "1.5.0",
       "_model_name": "HTMLModel",
       "_view_count": null,
       "_view_module": "@jupyter-widgets/controls",
       "_view_module_version": "1.5.0",
       "_view_name": "HTMLView",
       "description": "",
       "description_tooltip": null,
       "layout": "IPY_MODEL_8c6a2790d93245c28722135c081e1c9e",
       "placeholder": "​",
       "style": "IPY_MODEL_c0f6e217d2c64055b1e808b891e10b8a",
       "value": "Downloading: 100%"
      }
     },
     "c0f6e217d2c64055b1e808b891e10b8a": {
      "model_module": "@jupyter-widgets/controls",
      "model_module_version": "1.5.0",
      "model_name": "DescriptionStyleModel",
      "state": {
       "_model_module": "@jupyter-widgets/controls",
       "_model_module_version": "1.5.0",
       "_model_name": "DescriptionStyleModel",
       "_view_count": null,
       "_view_module": "@jupyter-widgets/base",
       "_view_module_version": "1.2.0",
       "_view_name": "StyleView",
       "description_width": ""
      }
     },
     "c4546d5c81364f69acb028b50147c069": {
      "model_module": "@jupyter-widgets/controls",
      "model_module_version": "1.5.0",
      "model_name": "HTMLModel",
      "state": {
       "_dom_classes": [],
       "_model_module": "@jupyter-widgets/controls",
       "_model_module_version": "1.5.0",
       "_model_name": "HTMLModel",
       "_view_count": null,
       "_view_module": "@jupyter-widgets/controls",
       "_view_module_version": "1.5.0",
       "_view_name": "HTMLView",
       "description": "",
       "description_tooltip": null,
       "layout": "IPY_MODEL_60a7ed067891484a8ba6f55df7c19201",
       "placeholder": "​",
       "style": "IPY_MODEL_1939ea4b7cea4d9b884636eb671730f2",
       "value": "Downloading: 100%"
      }
     },
     "c479c6e1b8c2460c8141ff4801da3b4f": {
      "model_module": "@jupyter-widgets/controls",
      "model_module_version": "1.5.0",
      "model_name": "HBoxModel",
      "state": {
       "_dom_classes": [],
       "_model_module": "@jupyter-widgets/controls",
       "_model_module_version": "1.5.0",
       "_model_name": "HBoxModel",
       "_view_count": null,
       "_view_module": "@jupyter-widgets/controls",
       "_view_module_version": "1.5.0",
       "_view_name": "HBoxView",
       "box_style": "",
       "children": [
        "IPY_MODEL_ec86bd98d2854b54bd179633efe5df1e",
        "IPY_MODEL_3653c719376a40ee8b9747a22b30277b",
        "IPY_MODEL_e472859e14074d71ae00a176e9c6268a"
       ],
       "layout": "IPY_MODEL_86b4a8b37c1a4e868b4425bfcd98102c"
      }
     },
     "c619ad1b0e434823be257c5c0ce510dd": {
      "model_module": "@jupyter-widgets/base",
      "model_module_version": "1.2.0",
      "model_name": "LayoutModel",
      "state": {
       "_model_module": "@jupyter-widgets/base",
       "_model_module_version": "1.2.0",
       "_model_name": "LayoutModel",
       "_view_count": null,
       "_view_module": "@jupyter-widgets/base",
       "_view_module_version": "1.2.0",
       "_view_name": "LayoutView",
       "align_content": null,
       "align_items": null,
       "align_self": null,
       "border": null,
       "bottom": null,
       "display": null,
       "flex": null,
       "flex_flow": null,
       "grid_area": null,
       "grid_auto_columns": null,
       "grid_auto_flow": null,
       "grid_auto_rows": null,
       "grid_column": null,
       "grid_gap": null,
       "grid_row": null,
       "grid_template_areas": null,
       "grid_template_columns": null,
       "grid_template_rows": null,
       "height": null,
       "justify_content": null,
       "justify_items": null,
       "left": null,
       "margin": null,
       "max_height": null,
       "max_width": null,
       "min_height": null,
       "min_width": null,
       "object_fit": null,
       "object_position": null,
       "order": null,
       "overflow": null,
       "overflow_x": null,
       "overflow_y": null,
       "padding": null,
       "right": null,
       "top": null,
       "visibility": null,
       "width": null
      }
     },
     "c7e96ecf4bc3440ba3e5f55418901489": {
      "model_module": "@jupyter-widgets/controls",
      "model_module_version": "1.5.0",
      "model_name": "DescriptionStyleModel",
      "state": {
       "_model_module": "@jupyter-widgets/controls",
       "_model_module_version": "1.5.0",
       "_model_name": "DescriptionStyleModel",
       "_view_count": null,
       "_view_module": "@jupyter-widgets/base",
       "_view_module_version": "1.2.0",
       "_view_name": "StyleView",
       "description_width": ""
      }
     },
     "c8581b638b1e4e079a564ae59bbeb744": {
      "model_module": "@jupyter-widgets/base",
      "model_module_version": "1.2.0",
      "model_name": "LayoutModel",
      "state": {
       "_model_module": "@jupyter-widgets/base",
       "_model_module_version": "1.2.0",
       "_model_name": "LayoutModel",
       "_view_count": null,
       "_view_module": "@jupyter-widgets/base",
       "_view_module_version": "1.2.0",
       "_view_name": "LayoutView",
       "align_content": null,
       "align_items": null,
       "align_self": null,
       "border": null,
       "bottom": null,
       "display": null,
       "flex": null,
       "flex_flow": null,
       "grid_area": null,
       "grid_auto_columns": null,
       "grid_auto_flow": null,
       "grid_auto_rows": null,
       "grid_column": null,
       "grid_gap": null,
       "grid_row": null,
       "grid_template_areas": null,
       "grid_template_columns": null,
       "grid_template_rows": null,
       "height": null,
       "justify_content": null,
       "justify_items": null,
       "left": null,
       "margin": null,
       "max_height": null,
       "max_width": null,
       "min_height": null,
       "min_width": null,
       "object_fit": null,
       "object_position": null,
       "order": null,
       "overflow": null,
       "overflow_x": null,
       "overflow_y": null,
       "padding": null,
       "right": null,
       "top": null,
       "visibility": null,
       "width": null
      }
     },
     "c8ac4defdf734ccc84c305c0f884e98a": {
      "model_module": "@jupyter-widgets/controls",
      "model_module_version": "1.5.0",
      "model_name": "ProgressStyleModel",
      "state": {
       "_model_module": "@jupyter-widgets/controls",
       "_model_module_version": "1.5.0",
       "_model_name": "ProgressStyleModel",
       "_view_count": null,
       "_view_module": "@jupyter-widgets/base",
       "_view_module_version": "1.2.0",
       "_view_name": "StyleView",
       "bar_color": null,
       "description_width": ""
      }
     },
     "c8c3b8068565476897931dce0a108a6e": {
      "model_module": "@jupyter-widgets/base",
      "model_module_version": "1.2.0",
      "model_name": "LayoutModel",
      "state": {
       "_model_module": "@jupyter-widgets/base",
       "_model_module_version": "1.2.0",
       "_model_name": "LayoutModel",
       "_view_count": null,
       "_view_module": "@jupyter-widgets/base",
       "_view_module_version": "1.2.0",
       "_view_name": "LayoutView",
       "align_content": null,
       "align_items": null,
       "align_self": null,
       "border": null,
       "bottom": null,
       "display": null,
       "flex": null,
       "flex_flow": null,
       "grid_area": null,
       "grid_auto_columns": null,
       "grid_auto_flow": null,
       "grid_auto_rows": null,
       "grid_column": null,
       "grid_gap": null,
       "grid_row": null,
       "grid_template_areas": null,
       "grid_template_columns": null,
       "grid_template_rows": null,
       "height": null,
       "justify_content": null,
       "justify_items": null,
       "left": null,
       "margin": null,
       "max_height": null,
       "max_width": null,
       "min_height": null,
       "min_width": null,
       "object_fit": null,
       "object_position": null,
       "order": null,
       "overflow": null,
       "overflow_x": null,
       "overflow_y": null,
       "padding": null,
       "right": null,
       "top": null,
       "visibility": null,
       "width": null
      }
     },
     "ce68856dbfca4ed58739ec39fbd0980a": {
      "model_module": "@jupyter-widgets/base",
      "model_module_version": "1.2.0",
      "model_name": "LayoutModel",
      "state": {
       "_model_module": "@jupyter-widgets/base",
       "_model_module_version": "1.2.0",
       "_model_name": "LayoutModel",
       "_view_count": null,
       "_view_module": "@jupyter-widgets/base",
       "_view_module_version": "1.2.0",
       "_view_name": "LayoutView",
       "align_content": null,
       "align_items": null,
       "align_self": null,
       "border": null,
       "bottom": null,
       "display": null,
       "flex": null,
       "flex_flow": null,
       "grid_area": null,
       "grid_auto_columns": null,
       "grid_auto_flow": null,
       "grid_auto_rows": null,
       "grid_column": null,
       "grid_gap": null,
       "grid_row": null,
       "grid_template_areas": null,
       "grid_template_columns": null,
       "grid_template_rows": null,
       "height": null,
       "justify_content": null,
       "justify_items": null,
       "left": null,
       "margin": null,
       "max_height": null,
       "max_width": null,
       "min_height": null,
       "min_width": null,
       "object_fit": null,
       "object_position": null,
       "order": null,
       "overflow": null,
       "overflow_x": null,
       "overflow_y": null,
       "padding": null,
       "right": null,
       "top": null,
       "visibility": null,
       "width": null
      }
     },
     "cf4af77a8f2440e0bcf8fb86fdd86939": {
      "model_module": "@jupyter-widgets/base",
      "model_module_version": "1.2.0",
      "model_name": "LayoutModel",
      "state": {
       "_model_module": "@jupyter-widgets/base",
       "_model_module_version": "1.2.0",
       "_model_name": "LayoutModel",
       "_view_count": null,
       "_view_module": "@jupyter-widgets/base",
       "_view_module_version": "1.2.0",
       "_view_name": "LayoutView",
       "align_content": null,
       "align_items": null,
       "align_self": null,
       "border": null,
       "bottom": null,
       "display": null,
       "flex": null,
       "flex_flow": null,
       "grid_area": null,
       "grid_auto_columns": null,
       "grid_auto_flow": null,
       "grid_auto_rows": null,
       "grid_column": null,
       "grid_gap": null,
       "grid_row": null,
       "grid_template_areas": null,
       "grid_template_columns": null,
       "grid_template_rows": null,
       "height": null,
       "justify_content": null,
       "justify_items": null,
       "left": null,
       "margin": null,
       "max_height": null,
       "max_width": null,
       "min_height": null,
       "min_width": null,
       "object_fit": null,
       "object_position": null,
       "order": null,
       "overflow": null,
       "overflow_x": null,
       "overflow_y": null,
       "padding": null,
       "right": null,
       "top": null,
       "visibility": null,
       "width": null
      }
     },
     "cffdf76188704c87a1a34e827c11ec22": {
      "model_module": "@jupyter-widgets/controls",
      "model_module_version": "1.5.0",
      "model_name": "HBoxModel",
      "state": {
       "_dom_classes": [],
       "_model_module": "@jupyter-widgets/controls",
       "_model_module_version": "1.5.0",
       "_model_name": "HBoxModel",
       "_view_count": null,
       "_view_module": "@jupyter-widgets/controls",
       "_view_module_version": "1.5.0",
       "_view_name": "HBoxView",
       "box_style": "",
       "children": [
        "IPY_MODEL_c4546d5c81364f69acb028b50147c069",
        "IPY_MODEL_f9fbf036da604a19b3acfd52edb767fb",
        "IPY_MODEL_3d943d2d49954fdf9a188d18dea6c5d8"
       ],
       "layout": "IPY_MODEL_cf4af77a8f2440e0bcf8fb86fdd86939"
      }
     },
     "d1db4680e8f94093a8701a083f974471": {
      "model_module": "@jupyter-widgets/controls",
      "model_module_version": "1.5.0",
      "model_name": "HTMLModel",
      "state": {
       "_dom_classes": [],
       "_model_module": "@jupyter-widgets/controls",
       "_model_module_version": "1.5.0",
       "_model_name": "HTMLModel",
       "_view_count": null,
       "_view_module": "@jupyter-widgets/controls",
       "_view_module_version": "1.5.0",
       "_view_name": "HTMLView",
       "description": "",
       "description_tooltip": null,
       "layout": "IPY_MODEL_7c31ae4fd5414ce3a421e8539d62a795",
       "placeholder": "​",
       "style": "IPY_MODEL_2f640d505fc04a42ad383f2882ccdd31",
       "value": "Downloading: 100%"
      }
     },
     "d5a78960702a45d08af1a1451ec4f570": {
      "model_module": "@jupyter-widgets/controls",
      "model_module_version": "1.5.0",
      "model_name": "FloatProgressModel",
      "state": {
       "_dom_classes": [],
       "_model_module": "@jupyter-widgets/controls",
       "_model_module_version": "1.5.0",
       "_model_name": "FloatProgressModel",
       "_view_count": null,
       "_view_module": "@jupyter-widgets/controls",
       "_view_module_version": "1.5.0",
       "_view_name": "ProgressView",
       "bar_style": "success",
       "description": "",
       "description_tooltip": null,
       "layout": "IPY_MODEL_a3b6358ba0724b8fb778601f6f1a9367",
       "max": 55,
       "min": 0,
       "orientation": "horizontal",
       "style": "IPY_MODEL_3181268d3b204c8281cb03896c87a89f",
       "value": 55
      }
     },
     "df6dfa5c59a24f21b4a49aaf42005818": {
      "model_module": "@jupyter-widgets/controls",
      "model_module_version": "1.5.0",
      "model_name": "HTMLModel",
      "state": {
       "_dom_classes": [],
       "_model_module": "@jupyter-widgets/controls",
       "_model_module_version": "1.5.0",
       "_model_name": "HTMLModel",
       "_view_count": null,
       "_view_module": "@jupyter-widgets/controls",
       "_view_module_version": "1.5.0",
       "_view_name": "HTMLView",
       "description": "",
       "description_tooltip": null,
       "layout": "IPY_MODEL_fa873bd79480402587b75e8c686ef977",
       "placeholder": "​",
       "style": "IPY_MODEL_c7e96ecf4bc3440ba3e5f55418901489",
       "value": " 226k/226k [00:00&lt;00:00, 690kB/s]"
      }
     },
     "e021910227f841a7a3a7e429b6b206cf": {
      "model_module": "@jupyter-widgets/base",
      "model_module_version": "1.2.0",
      "model_name": "LayoutModel",
      "state": {
       "_model_module": "@jupyter-widgets/base",
       "_model_module_version": "1.2.0",
       "_model_name": "LayoutModel",
       "_view_count": null,
       "_view_module": "@jupyter-widgets/base",
       "_view_module_version": "1.2.0",
       "_view_name": "LayoutView",
       "align_content": null,
       "align_items": null,
       "align_self": null,
       "border": null,
       "bottom": null,
       "display": null,
       "flex": null,
       "flex_flow": null,
       "grid_area": null,
       "grid_auto_columns": null,
       "grid_auto_flow": null,
       "grid_auto_rows": null,
       "grid_column": null,
       "grid_gap": null,
       "grid_row": null,
       "grid_template_areas": null,
       "grid_template_columns": null,
       "grid_template_rows": null,
       "height": null,
       "justify_content": null,
       "justify_items": null,
       "left": null,
       "margin": null,
       "max_height": null,
       "max_width": null,
       "min_height": null,
       "min_width": null,
       "object_fit": null,
       "object_position": null,
       "order": null,
       "overflow": null,
       "overflow_x": null,
       "overflow_y": null,
       "padding": null,
       "right": null,
       "top": null,
       "visibility": null,
       "width": null
      }
     },
     "e04a201d24c748e9a2bfa6e8d49e8a48": {
      "model_module": "@jupyter-widgets/controls",
      "model_module_version": "1.5.0",
      "model_name": "DescriptionStyleModel",
      "state": {
       "_model_module": "@jupyter-widgets/controls",
       "_model_module_version": "1.5.0",
       "_model_name": "DescriptionStyleModel",
       "_view_count": null,
       "_view_module": "@jupyter-widgets/base",
       "_view_module_version": "1.2.0",
       "_view_name": "StyleView",
       "description_width": ""
      }
     },
     "e472859e14074d71ae00a176e9c6268a": {
      "model_module": "@jupyter-widgets/controls",
      "model_module_version": "1.5.0",
      "model_name": "HTMLModel",
      "state": {
       "_dom_classes": [],
       "_model_module": "@jupyter-widgets/controls",
       "_model_module_version": "1.5.0",
       "_model_name": "HTMLModel",
       "_view_count": null,
       "_view_module": "@jupyter-widgets/controls",
       "_view_module_version": "1.5.0",
       "_view_name": "HTMLView",
       "description": "",
       "description_tooltip": null,
       "layout": "IPY_MODEL_6d7f869a4c5143cf934e443a009410ea",
       "placeholder": "​",
       "style": "IPY_MODEL_e04a201d24c748e9a2bfa6e8d49e8a48",
       "value": " 28.0/28.0 [00:00&lt;00:00, 877B/s]"
      }
     },
     "e4f5d2b743f34517a145128245da1fa0": {
      "model_module": "@jupyter-widgets/base",
      "model_module_version": "1.2.0",
      "model_name": "LayoutModel",
      "state": {
       "_model_module": "@jupyter-widgets/base",
       "_model_module_version": "1.2.0",
       "_model_name": "LayoutModel",
       "_view_count": null,
       "_view_module": "@jupyter-widgets/base",
       "_view_module_version": "1.2.0",
       "_view_name": "LayoutView",
       "align_content": null,
       "align_items": null,
       "align_self": null,
       "border": null,
       "bottom": null,
       "display": null,
       "flex": null,
       "flex_flow": null,
       "grid_area": null,
       "grid_auto_columns": null,
       "grid_auto_flow": null,
       "grid_auto_rows": null,
       "grid_column": null,
       "grid_gap": null,
       "grid_row": null,
       "grid_template_areas": null,
       "grid_template_columns": null,
       "grid_template_rows": null,
       "height": null,
       "justify_content": null,
       "justify_items": null,
       "left": null,
       "margin": null,
       "max_height": null,
       "max_width": null,
       "min_height": null,
       "min_width": null,
       "object_fit": null,
       "object_position": null,
       "order": null,
       "overflow": null,
       "overflow_x": null,
       "overflow_y": null,
       "padding": null,
       "right": null,
       "top": null,
       "visibility": null,
       "width": null
      }
     },
     "e63ba6dd159d4166a4d9a86a4815f19d": {
      "model_module": "@jupyter-widgets/controls",
      "model_module_version": "1.5.0",
      "model_name": "FloatProgressModel",
      "state": {
       "_dom_classes": [],
       "_model_module": "@jupyter-widgets/controls",
       "_model_module_version": "1.5.0",
       "_model_name": "FloatProgressModel",
       "_view_count": null,
       "_view_module": "@jupyter-widgets/controls",
       "_view_module_version": "1.5.0",
       "_view_name": "ProgressView",
       "bar_style": "",
       "description": "",
       "description_tooltip": null,
       "layout": "IPY_MODEL_5ac659677826442d9a8ba784c6624f23",
       "max": 1,
       "min": 0,
       "orientation": "horizontal",
       "style": "IPY_MODEL_1c82e1ef55924b59a4c7132d00d96424",
       "value": 0
      }
     },
     "e72c4976a9844a649538b5eef8a3129a": {
      "model_module": "@jupyter-widgets/base",
      "model_module_version": "1.2.0",
      "model_name": "LayoutModel",
      "state": {
       "_model_module": "@jupyter-widgets/base",
       "_model_module_version": "1.2.0",
       "_model_name": "LayoutModel",
       "_view_count": null,
       "_view_module": "@jupyter-widgets/base",
       "_view_module_version": "1.2.0",
       "_view_name": "LayoutView",
       "align_content": null,
       "align_items": null,
       "align_self": null,
       "border": null,
       "bottom": null,
       "display": null,
       "flex": null,
       "flex_flow": null,
       "grid_area": null,
       "grid_auto_columns": null,
       "grid_auto_flow": null,
       "grid_auto_rows": null,
       "grid_column": null,
       "grid_gap": null,
       "grid_row": null,
       "grid_template_areas": null,
       "grid_template_columns": null,
       "grid_template_rows": null,
       "height": null,
       "justify_content": null,
       "justify_items": null,
       "left": null,
       "margin": null,
       "max_height": null,
       "max_width": null,
       "min_height": null,
       "min_width": null,
       "object_fit": null,
       "object_position": null,
       "order": null,
       "overflow": null,
       "overflow_x": null,
       "overflow_y": null,
       "padding": null,
       "right": null,
       "top": null,
       "visibility": null,
       "width": null
      }
     },
     "e75234e240e3405ea52beaa88711e57b": {
      "model_module": "@jupyter-widgets/controls",
      "model_module_version": "1.5.0",
      "model_name": "HTMLModel",
      "state": {
       "_dom_classes": [],
       "_model_module": "@jupyter-widgets/controls",
       "_model_module_version": "1.5.0",
       "_model_name": "HTMLModel",
       "_view_count": null,
       "_view_module": "@jupyter-widgets/controls",
       "_view_module_version": "1.5.0",
       "_view_name": "HTMLView",
       "description": "",
       "description_tooltip": null,
       "layout": "IPY_MODEL_5eb96aa3cf0c4f61adede15ab0fe95d3",
       "placeholder": "​",
       "style": "IPY_MODEL_b8d3fe0129584b0192b8e38879b3e019",
       "value": " 483/483 [00:00&lt;00:00, 18.8kB/s]"
      }
     },
     "e98432266e8142f89f9fa8ea9a67b512": {
      "model_module": "@jupyter-widgets/base",
      "model_module_version": "1.2.0",
      "model_name": "LayoutModel",
      "state": {
       "_model_module": "@jupyter-widgets/base",
       "_model_module_version": "1.2.0",
       "_model_name": "LayoutModel",
       "_view_count": null,
       "_view_module": "@jupyter-widgets/base",
       "_view_module_version": "1.2.0",
       "_view_name": "LayoutView",
       "align_content": null,
       "align_items": null,
       "align_self": null,
       "border": null,
       "bottom": null,
       "display": null,
       "flex": null,
       "flex_flow": null,
       "grid_area": null,
       "grid_auto_columns": null,
       "grid_auto_flow": null,
       "grid_auto_rows": null,
       "grid_column": null,
       "grid_gap": null,
       "grid_row": null,
       "grid_template_areas": null,
       "grid_template_columns": null,
       "grid_template_rows": null,
       "height": null,
       "justify_content": null,
       "justify_items": null,
       "left": null,
       "margin": null,
       "max_height": null,
       "max_width": null,
       "min_height": null,
       "min_width": null,
       "object_fit": null,
       "object_position": null,
       "order": null,
       "overflow": null,
       "overflow_x": null,
       "overflow_y": null,
       "padding": null,
       "right": null,
       "top": null,
       "visibility": null,
       "width": null
      }
     },
     "ec86bd98d2854b54bd179633efe5df1e": {
      "model_module": "@jupyter-widgets/controls",
      "model_module_version": "1.5.0",
      "model_name": "HTMLModel",
      "state": {
       "_dom_classes": [],
       "_model_module": "@jupyter-widgets/controls",
       "_model_module_version": "1.5.0",
       "_model_name": "HTMLModel",
       "_view_count": null,
       "_view_module": "@jupyter-widgets/controls",
       "_view_module_version": "1.5.0",
       "_view_name": "HTMLView",
       "description": "",
       "description_tooltip": null,
       "layout": "IPY_MODEL_022da592a16d4d6b81e1ca9e24ae6f20",
       "placeholder": "​",
       "style": "IPY_MODEL_058f9362bd8e4a878012987051ac6c75",
       "value": "Downloading: 100%"
      }
     },
     "ef65b8b7a3b9486da43c899c3ed39385": {
      "model_module": "@jupyter-widgets/base",
      "model_module_version": "1.2.0",
      "model_name": "LayoutModel",
      "state": {
       "_model_module": "@jupyter-widgets/base",
       "_model_module_version": "1.2.0",
       "_model_name": "LayoutModel",
       "_view_count": null,
       "_view_module": "@jupyter-widgets/base",
       "_view_module_version": "1.2.0",
       "_view_name": "LayoutView",
       "align_content": null,
       "align_items": null,
       "align_self": null,
       "border": null,
       "bottom": null,
       "display": null,
       "flex": null,
       "flex_flow": null,
       "grid_area": null,
       "grid_auto_columns": null,
       "grid_auto_flow": null,
       "grid_auto_rows": null,
       "grid_column": null,
       "grid_gap": null,
       "grid_row": null,
       "grid_template_areas": null,
       "grid_template_columns": null,
       "grid_template_rows": null,
       "height": null,
       "justify_content": null,
       "justify_items": null,
       "left": null,
       "margin": null,
       "max_height": null,
       "max_width": null,
       "min_height": null,
       "min_width": null,
       "object_fit": null,
       "object_position": null,
       "order": null,
       "overflow": null,
       "overflow_x": null,
       "overflow_y": null,
       "padding": null,
       "right": null,
       "top": null,
       "visibility": null,
       "width": null
      }
     },
     "f31667b8f70e43d7b1c986768ee55984": {
      "model_module": "@jupyter-widgets/controls",
      "model_module_version": "1.5.0",
      "model_name": "DescriptionStyleModel",
      "state": {
       "_model_module": "@jupyter-widgets/controls",
       "_model_module_version": "1.5.0",
       "_model_name": "DescriptionStyleModel",
       "_view_count": null,
       "_view_module": "@jupyter-widgets/base",
       "_view_module_version": "1.2.0",
       "_view_name": "StyleView",
       "description_width": ""
      }
     },
     "f601a281a6474c8d99dcaeb98bce8efe": {
      "model_module": "@jupyter-widgets/controls",
      "model_module_version": "1.5.0",
      "model_name": "HTMLModel",
      "state": {
       "_dom_classes": [],
       "_model_module": "@jupyter-widgets/controls",
       "_model_module_version": "1.5.0",
       "_model_name": "HTMLModel",
       "_view_count": null,
       "_view_module": "@jupyter-widgets/controls",
       "_view_module_version": "1.5.0",
       "_view_name": "HTMLView",
       "description": "",
       "description_tooltip": null,
       "layout": "IPY_MODEL_1b24d9cd7c9c4539bdf4363729c369b5",
       "placeholder": "​",
       "style": "IPY_MODEL_9755a370c3e6477495305166b7eb3ab7",
       "value": " 256M/256M [00:04&lt;00:00, 35.9MB/s]"
      }
     },
     "f6754dc5721f4c14b4d9166763762138": {
      "model_module": "@jupyter-widgets/controls",
      "model_module_version": "1.5.0",
      "model_name": "DescriptionStyleModel",
      "state": {
       "_model_module": "@jupyter-widgets/controls",
       "_model_module_version": "1.5.0",
       "_model_name": "DescriptionStyleModel",
       "_view_count": null,
       "_view_module": "@jupyter-widgets/base",
       "_view_module_version": "1.2.0",
       "_view_name": "StyleView",
       "description_width": ""
      }
     },
     "f6c8a84f410447fdb96bac169c330aa2": {
      "model_module": "@jupyter-widgets/controls",
      "model_module_version": "1.5.0",
      "model_name": "DescriptionStyleModel",
      "state": {
       "_model_module": "@jupyter-widgets/controls",
       "_model_module_version": "1.5.0",
       "_model_name": "DescriptionStyleModel",
       "_view_count": null,
       "_view_module": "@jupyter-widgets/base",
       "_view_module_version": "1.2.0",
       "_view_name": "StyleView",
       "description_width": ""
      }
     },
     "f6ed241bcbb548a1b998c6e10e7c24cd": {
      "model_module": "@jupyter-widgets/controls",
      "model_module_version": "1.5.0",
      "model_name": "LabelModel",
      "state": {
       "_dom_classes": [],
       "_model_module": "@jupyter-widgets/controls",
       "_model_module_version": "1.5.0",
       "_model_name": "LabelModel",
       "_view_count": null,
       "_view_module": "@jupyter-widgets/controls",
       "_view_module_version": "1.5.0",
       "_view_name": "LabelView",
       "description": "",
       "description_tooltip": null,
       "layout": "IPY_MODEL_be417858d7ed48a2b34e0877fe182da0",
       "placeholder": "​",
       "style": "IPY_MODEL_74113e97c7ff45fb811c133564eb6c33",
       "value": ""
      }
     },
     "f9fbf036da604a19b3acfd52edb767fb": {
      "model_module": "@jupyter-widgets/controls",
      "model_module_version": "1.5.0",
      "model_name": "FloatProgressModel",
      "state": {
       "_dom_classes": [],
       "_model_module": "@jupyter-widgets/controls",
       "_model_module_version": "1.5.0",
       "_model_name": "FloatProgressModel",
       "_view_count": null,
       "_view_module": "@jupyter-widgets/controls",
       "_view_module_version": "1.5.0",
       "_view_name": "ProgressView",
       "bar_style": "success",
       "description": "",
       "description_tooltip": null,
       "layout": "IPY_MODEL_e72c4976a9844a649538b5eef8a3129a",
       "max": 466062,
       "min": 0,
       "orientation": "horizontal",
       "style": "IPY_MODEL_9e8fbbc6c0fd457c988778eb0aa69c18",
       "value": 466062
      }
     },
     "fa873bd79480402587b75e8c686ef977": {
      "model_module": "@jupyter-widgets/base",
      "model_module_version": "1.2.0",
      "model_name": "LayoutModel",
      "state": {
       "_model_module": "@jupyter-widgets/base",
       "_model_module_version": "1.2.0",
       "_model_name": "LayoutModel",
       "_view_count": null,
       "_view_module": "@jupyter-widgets/base",
       "_view_module_version": "1.2.0",
       "_view_name": "LayoutView",
       "align_content": null,
       "align_items": null,
       "align_self": null,
       "border": null,
       "bottom": null,
       "display": null,
       "flex": null,
       "flex_flow": null,
       "grid_area": null,
       "grid_auto_columns": null,
       "grid_auto_flow": null,
       "grid_auto_rows": null,
       "grid_column": null,
       "grid_gap": null,
       "grid_row": null,
       "grid_template_areas": null,
       "grid_template_columns": null,
       "grid_template_rows": null,
       "height": null,
       "justify_content": null,
       "justify_items": null,
       "left": null,
       "margin": null,
       "max_height": null,
       "max_width": null,
       "min_height": null,
       "min_width": null,
       "object_fit": null,
       "object_position": null,
       "order": null,
       "overflow": null,
       "overflow_x": null,
       "overflow_y": null,
       "padding": null,
       "right": null,
       "top": null,
       "visibility": null,
       "width": null
      }
     }
    },
    "version_major": 2,
    "version_minor": 0
   }
  }
 },
 "nbformat": 4,
 "nbformat_minor": 5
}
