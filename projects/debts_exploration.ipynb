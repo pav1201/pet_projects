{
 "cells": [
  {
   "cell_type": "markdown",
   "id": "fb6ae623",
   "metadata": {},
   "source": [
    "# Исследование надежности заемщиков."
   ]
  },
  {
   "cell_type": "markdown",
   "id": "ab3bf8eb",
   "metadata": {},
   "source": [
    "# Описание проекта\n",
    "Заказчик — кредитный отдел банка. Нужно разобраться, влияет ли семейное положение и количество детей клиента на факт погашения кредита в срок. Входные данные от банка — статистика о платёжеспособности клиентов.\n",
    "Результаты исследования будут учтены при построении модели кредитного скоринга — специальной системы, которая оценивает способность потенциального заёмщика вернуть кредит банку.\n",
    "\n",
    "Необходимо ответить на вопросы:\n",
    "\n",
    "* Есть ли зависимость между количеством детей и возвратом кредита в срок?\n",
    "* Есть ли зависимость между семейным положением и возвратом кредита в срок?\n",
    "* Как разные цели кредита влияют на его возврат в срок?"
   ]
  },
  {
   "cell_type": "markdown",
   "id": "9a86c9f7",
   "metadata": {},
   "source": [
    "## Обзор данных"
   ]
  },
  {
   "cell_type": "code",
   "execution_count": 1,
   "id": "c3e1fbea",
   "metadata": {},
   "outputs": [],
   "source": [
    "import pandas as pd\n",
    "import matplotlib.pyplot as plt\n",
    "import seaborn as sns\n",
    "sns.set_theme()\n",
    "\n",
    "import warnings\n",
    "warnings.filterwarnings(\"ignore\")"
   ]
  },
  {
   "cell_type": "code",
   "execution_count": 2,
   "id": "b1f235a7",
   "metadata": {},
   "outputs": [
    {
     "data": {
      "text/html": [
       "<div>\n",
       "<style scoped>\n",
       "    .dataframe tbody tr th:only-of-type {\n",
       "        vertical-align: middle;\n",
       "    }\n",
       "\n",
       "    .dataframe tbody tr th {\n",
       "        vertical-align: top;\n",
       "    }\n",
       "\n",
       "    .dataframe thead th {\n",
       "        text-align: right;\n",
       "    }\n",
       "</style>\n",
       "<table border=\"1\" class=\"dataframe\">\n",
       "  <thead>\n",
       "    <tr style=\"text-align: right;\">\n",
       "      <th></th>\n",
       "      <th>children</th>\n",
       "      <th>days_employed</th>\n",
       "      <th>dob_years</th>\n",
       "      <th>education</th>\n",
       "      <th>education_id</th>\n",
       "      <th>family_status</th>\n",
       "      <th>family_status_id</th>\n",
       "      <th>gender</th>\n",
       "      <th>income_type</th>\n",
       "      <th>debt</th>\n",
       "      <th>total_income</th>\n",
       "      <th>purpose</th>\n",
       "    </tr>\n",
       "  </thead>\n",
       "  <tbody>\n",
       "    <tr>\n",
       "      <th>0</th>\n",
       "      <td>1</td>\n",
       "      <td>-8437.673028</td>\n",
       "      <td>42</td>\n",
       "      <td>высшее</td>\n",
       "      <td>0</td>\n",
       "      <td>женат / замужем</td>\n",
       "      <td>0</td>\n",
       "      <td>F</td>\n",
       "      <td>сотрудник</td>\n",
       "      <td>0</td>\n",
       "      <td>253875.639453</td>\n",
       "      <td>покупка жилья</td>\n",
       "    </tr>\n",
       "    <tr>\n",
       "      <th>1</th>\n",
       "      <td>1</td>\n",
       "      <td>-4024.803754</td>\n",
       "      <td>36</td>\n",
       "      <td>среднее</td>\n",
       "      <td>1</td>\n",
       "      <td>женат / замужем</td>\n",
       "      <td>0</td>\n",
       "      <td>F</td>\n",
       "      <td>сотрудник</td>\n",
       "      <td>0</td>\n",
       "      <td>112080.014102</td>\n",
       "      <td>приобретение автомобиля</td>\n",
       "    </tr>\n",
       "    <tr>\n",
       "      <th>2</th>\n",
       "      <td>0</td>\n",
       "      <td>-5623.422610</td>\n",
       "      <td>33</td>\n",
       "      <td>Среднее</td>\n",
       "      <td>1</td>\n",
       "      <td>женат / замужем</td>\n",
       "      <td>0</td>\n",
       "      <td>M</td>\n",
       "      <td>сотрудник</td>\n",
       "      <td>0</td>\n",
       "      <td>145885.952297</td>\n",
       "      <td>покупка жилья</td>\n",
       "    </tr>\n",
       "    <tr>\n",
       "      <th>3</th>\n",
       "      <td>3</td>\n",
       "      <td>-4124.747207</td>\n",
       "      <td>32</td>\n",
       "      <td>среднее</td>\n",
       "      <td>1</td>\n",
       "      <td>женат / замужем</td>\n",
       "      <td>0</td>\n",
       "      <td>M</td>\n",
       "      <td>сотрудник</td>\n",
       "      <td>0</td>\n",
       "      <td>267628.550329</td>\n",
       "      <td>дополнительное образование</td>\n",
       "    </tr>\n",
       "    <tr>\n",
       "      <th>4</th>\n",
       "      <td>0</td>\n",
       "      <td>340266.072047</td>\n",
       "      <td>53</td>\n",
       "      <td>среднее</td>\n",
       "      <td>1</td>\n",
       "      <td>гражданский брак</td>\n",
       "      <td>1</td>\n",
       "      <td>F</td>\n",
       "      <td>пенсионер</td>\n",
       "      <td>0</td>\n",
       "      <td>158616.077870</td>\n",
       "      <td>сыграть свадьбу</td>\n",
       "    </tr>\n",
       "  </tbody>\n",
       "</table>\n",
       "</div>"
      ],
      "text/plain": [
       "   children  days_employed  dob_years education  education_id  \\\n",
       "0         1   -8437.673028         42    высшее             0   \n",
       "1         1   -4024.803754         36   среднее             1   \n",
       "2         0   -5623.422610         33   Среднее             1   \n",
       "3         3   -4124.747207         32   среднее             1   \n",
       "4         0  340266.072047         53   среднее             1   \n",
       "\n",
       "      family_status  family_status_id gender income_type  debt   total_income  \\\n",
       "0   женат / замужем                 0      F   сотрудник     0  253875.639453   \n",
       "1   женат / замужем                 0      F   сотрудник     0  112080.014102   \n",
       "2   женат / замужем                 0      M   сотрудник     0  145885.952297   \n",
       "3   женат / замужем                 0      M   сотрудник     0  267628.550329   \n",
       "4  гражданский брак                 1      F   пенсионер     0  158616.077870   \n",
       "\n",
       "                      purpose  \n",
       "0               покупка жилья  \n",
       "1     приобретение автомобиля  \n",
       "2               покупка жилья  \n",
       "3  дополнительное образование  \n",
       "4             сыграть свадьбу  "
      ]
     },
     "metadata": {},
     "output_type": "display_data"
    },
    {
     "name": "stdout",
     "output_type": "stream",
     "text": [
      "<class 'pandas.core.frame.DataFrame'>\n",
      "RangeIndex: 21525 entries, 0 to 21524\n",
      "Data columns (total 12 columns):\n",
      " #   Column            Non-Null Count  Dtype  \n",
      "---  ------            --------------  -----  \n",
      " 0   children          21525 non-null  int64  \n",
      " 1   days_employed     19351 non-null  float64\n",
      " 2   dob_years         21525 non-null  int64  \n",
      " 3   education         21525 non-null  object \n",
      " 4   education_id      21525 non-null  int64  \n",
      " 5   family_status     21525 non-null  object \n",
      " 6   family_status_id  21525 non-null  int64  \n",
      " 7   gender            21525 non-null  object \n",
      " 8   income_type       21525 non-null  object \n",
      " 9   debt              21525 non-null  int64  \n",
      " 10  total_income      19351 non-null  float64\n",
      " 11  purpose           21525 non-null  object \n",
      "dtypes: float64(2), int64(5), object(5)\n",
      "memory usage: 2.0+ MB\n"
     ]
    },
    {
     "data": {
      "text/plain": [
       "None"
      ]
     },
     "metadata": {},
     "output_type": "display_data"
    }
   ],
   "source": [
    "try:\n",
    "    df = pd.read_csv('data.csv')\n",
    "except:\n",
    "    df = pd.read_csv('/datasets/data.csv')\n",
    "\n",
    "display(df.head())\n",
    "display(df.info())"
   ]
  },
  {
   "cell_type": "markdown",
   "id": "751299d8",
   "metadata": {},
   "source": [
    "## Заполнение пропусков"
   ]
  },
  {
   "cell_type": "markdown",
   "id": "d19372f3",
   "metadata": {},
   "source": [
    "### Заполнение пропусков"
   ]
  },
  {
   "cell_type": "code",
   "execution_count": 3,
   "id": "e3f6acc9",
   "metadata": {},
   "outputs": [
    {
     "data": {
      "text/html": [
       "<style type=\"text/css\">\n",
       "#T_24b78_row0_col0, #T_24b78_row2_col0, #T_24b78_row3_col0, #T_24b78_row4_col0, #T_24b78_row5_col0, #T_24b78_row6_col0, #T_24b78_row7_col0, #T_24b78_row8_col0, #T_24b78_row9_col0, #T_24b78_row11_col0 {\n",
       "  background-color: #3b4cc0;\n",
       "  color: #f1f1f1;\n",
       "}\n",
       "#T_24b78_row1_col0, #T_24b78_row10_col0 {\n",
       "  background-color: #b40426;\n",
       "  color: #f1f1f1;\n",
       "}\n",
       "</style>\n",
       "<table id=\"T_24b78\">\n",
       "  <thead>\n",
       "    <tr>\n",
       "      <th class=\"blank level0\" >&nbsp;</th>\n",
       "      <th id=\"T_24b78_level0_col0\" class=\"col_heading level0 col0\" >NaNs, %</th>\n",
       "    </tr>\n",
       "  </thead>\n",
       "  <tbody>\n",
       "    <tr>\n",
       "      <th id=\"T_24b78_level0_row0\" class=\"row_heading level0 row0\" >children</th>\n",
       "      <td id=\"T_24b78_row0_col0\" class=\"data row0 col0\" >0.00</td>\n",
       "    </tr>\n",
       "    <tr>\n",
       "      <th id=\"T_24b78_level0_row1\" class=\"row_heading level0 row1\" >days_employed</th>\n",
       "      <td id=\"T_24b78_row1_col0\" class=\"data row1 col0\" >10.10</td>\n",
       "    </tr>\n",
       "    <tr>\n",
       "      <th id=\"T_24b78_level0_row2\" class=\"row_heading level0 row2\" >dob_years</th>\n",
       "      <td id=\"T_24b78_row2_col0\" class=\"data row2 col0\" >0.00</td>\n",
       "    </tr>\n",
       "    <tr>\n",
       "      <th id=\"T_24b78_level0_row3\" class=\"row_heading level0 row3\" >education</th>\n",
       "      <td id=\"T_24b78_row3_col0\" class=\"data row3 col0\" >0.00</td>\n",
       "    </tr>\n",
       "    <tr>\n",
       "      <th id=\"T_24b78_level0_row4\" class=\"row_heading level0 row4\" >education_id</th>\n",
       "      <td id=\"T_24b78_row4_col0\" class=\"data row4 col0\" >0.00</td>\n",
       "    </tr>\n",
       "    <tr>\n",
       "      <th id=\"T_24b78_level0_row5\" class=\"row_heading level0 row5\" >family_status</th>\n",
       "      <td id=\"T_24b78_row5_col0\" class=\"data row5 col0\" >0.00</td>\n",
       "    </tr>\n",
       "    <tr>\n",
       "      <th id=\"T_24b78_level0_row6\" class=\"row_heading level0 row6\" >family_status_id</th>\n",
       "      <td id=\"T_24b78_row6_col0\" class=\"data row6 col0\" >0.00</td>\n",
       "    </tr>\n",
       "    <tr>\n",
       "      <th id=\"T_24b78_level0_row7\" class=\"row_heading level0 row7\" >gender</th>\n",
       "      <td id=\"T_24b78_row7_col0\" class=\"data row7 col0\" >0.00</td>\n",
       "    </tr>\n",
       "    <tr>\n",
       "      <th id=\"T_24b78_level0_row8\" class=\"row_heading level0 row8\" >income_type</th>\n",
       "      <td id=\"T_24b78_row8_col0\" class=\"data row8 col0\" >0.00</td>\n",
       "    </tr>\n",
       "    <tr>\n",
       "      <th id=\"T_24b78_level0_row9\" class=\"row_heading level0 row9\" >debt</th>\n",
       "      <td id=\"T_24b78_row9_col0\" class=\"data row9 col0\" >0.00</td>\n",
       "    </tr>\n",
       "    <tr>\n",
       "      <th id=\"T_24b78_level0_row10\" class=\"row_heading level0 row10\" >total_income</th>\n",
       "      <td id=\"T_24b78_row10_col0\" class=\"data row10 col0\" >10.10</td>\n",
       "    </tr>\n",
       "    <tr>\n",
       "      <th id=\"T_24b78_level0_row11\" class=\"row_heading level0 row11\" >purpose</th>\n",
       "      <td id=\"T_24b78_row11_col0\" class=\"data row11 col0\" >0.00</td>\n",
       "    </tr>\n",
       "  </tbody>\n",
       "</table>\n"
      ],
      "text/plain": [
       "<pandas.io.formats.style.Styler at 0x7fa4df427c50>"
      ]
     },
     "metadata": {},
     "output_type": "display_data"
    }
   ],
   "source": [
    "display(pd.DataFrame(round((df.isna().mean()*100),2), columns=['NaNs, %']).style.format(\n",
    "    '{:.2f}').background_gradient('coolwarm'))"
   ]
  },
  {
   "cell_type": "markdown",
   "id": "a430fb23-1fa5-4883-85b5-d57a417d1efe",
   "metadata": {},
   "source": [
    "Сколько значений пропущено в столбцах `days_employed` и `total_income`"
   ]
  },
  {
   "cell_type": "code",
   "execution_count": 4,
   "id": "585d7e9f",
   "metadata": {},
   "outputs": [
    {
     "name": "stdout",
     "output_type": "stream",
     "text": [
      "Количество пропущенных значений в total_income: 2174 \n",
      "Количество пропущенных значений в days_employed:2174\n"
     ]
    }
   ],
   "source": [
    "print(f\"Количество пропущенных значений в total_income: {df['total_income'].isna().sum()} \\n\\\n",
    "Количество пропущенных значений в days_employed:{df['days_employed'].isna().sum()}\")"
   ]
  },
  {
   "cell_type": "markdown",
   "id": "f81bbbcd-7d49-4122-b13c-0869ca93aa4d",
   "metadata": {},
   "source": [
    "Проверим, что пропуски в столбцах совпадают по строкам"
   ]
  },
  {
   "cell_type": "code",
   "execution_count": 5,
   "id": "5bca53c8-7020-42cb-9bd5-970594a52a8d",
   "metadata": {},
   "outputs": [
    {
     "name": "stdout",
     "output_type": "stream",
     "text": [
      "Пропуски совпадают: True\n"
     ]
    }
   ],
   "source": [
    "print(f\"Пропуски совпадают: {(df['days_employed'].isna() == df['total_income'].isna()).sum() == df.shape[0]}\")"
   ]
  },
  {
   "cell_type": "markdown",
   "id": "162dc635-f0f4-402d-bd97-93a9730381b4",
   "metadata": {},
   "source": [
    "В каких группах `income_type` пропущены значения"
   ]
  },
  {
   "cell_type": "code",
   "execution_count": 6,
   "id": "04a5fe8c",
   "metadata": {},
   "outputs": [
    {
     "data": {
      "text/plain": [
       "income_type\n",
       "сотрудник          1105\n",
       "компаньон           508\n",
       "пенсионер           413\n",
       "госслужащий         147\n",
       "предприниматель       1\n",
       "Name: count, dtype: int64"
      ]
     },
     "execution_count": 6,
     "metadata": {},
     "output_type": "execute_result"
    }
   ],
   "source": [
    "df[df['total_income'].isna()]['income_type'].value_counts()"
   ]
  },
  {
   "cell_type": "markdown",
   "id": "d222c1b6",
   "metadata": {},
   "source": [
    "#### Пропущенные значения\n",
    "* Значения пропущены в столбцах days_employed и total_income\n",
    "* Доля пропущенных значений составляет 10.1% для каждого столбца\n",
    "* Пропущенные строки в total_income совпадают с пустыми строками в days_employed\n",
    "* Данные могут быть пропущены из-за того, что их не предоставил заемщик, либо заемщик не работает официально. Также пропуски могли случиться из-за некорректной работы базы данных\n",
    "* Заменить пропущенные значения на медианы лучше, чем на средние, так как на медиану не влияют сильные выбросы значений"
   ]
  },
  {
   "cell_type": "markdown",
   "id": "8a472cc6-0eea-4d71-822e-079ec0a2c109",
   "metadata": {},
   "source": [
    "Заполним пропущенные значения `total_income` медианными для каждой группы в `income_type`."
   ]
  },
  {
   "cell_type": "code",
   "execution_count": 7,
   "id": "3a081c14",
   "metadata": {},
   "outputs": [
    {
     "data": {
      "text/html": [
       "<div>\n",
       "<style scoped>\n",
       "    .dataframe tbody tr th:only-of-type {\n",
       "        vertical-align: middle;\n",
       "    }\n",
       "\n",
       "    .dataframe tbody tr th {\n",
       "        vertical-align: top;\n",
       "    }\n",
       "\n",
       "    .dataframe thead th {\n",
       "        text-align: right;\n",
       "    }\n",
       "</style>\n",
       "<table border=\"1\" class=\"dataframe\">\n",
       "  <thead>\n",
       "    <tr style=\"text-align: right;\">\n",
       "      <th></th>\n",
       "      <th>children</th>\n",
       "      <th>days_employed</th>\n",
       "      <th>dob_years</th>\n",
       "      <th>education_id</th>\n",
       "      <th>family_status_id</th>\n",
       "      <th>debt</th>\n",
       "      <th>total_income</th>\n",
       "    </tr>\n",
       "  </thead>\n",
       "  <tbody>\n",
       "    <tr>\n",
       "      <th>count</th>\n",
       "      <td>21525.000000</td>\n",
       "      <td>19351.000000</td>\n",
       "      <td>21525.000000</td>\n",
       "      <td>21525.000000</td>\n",
       "      <td>21525.000000</td>\n",
       "      <td>21525.000000</td>\n",
       "      <td>2.152500e+04</td>\n",
       "    </tr>\n",
       "    <tr>\n",
       "      <th>mean</th>\n",
       "      <td>0.538908</td>\n",
       "      <td>63046.497661</td>\n",
       "      <td>43.293380</td>\n",
       "      <td>0.817236</td>\n",
       "      <td>0.972544</td>\n",
       "      <td>0.080883</td>\n",
       "      <td>1.652253e+05</td>\n",
       "    </tr>\n",
       "    <tr>\n",
       "      <th>std</th>\n",
       "      <td>1.381587</td>\n",
       "      <td>140827.311974</td>\n",
       "      <td>12.574584</td>\n",
       "      <td>0.548138</td>\n",
       "      <td>1.420324</td>\n",
       "      <td>0.272661</td>\n",
       "      <td>9.804367e+04</td>\n",
       "    </tr>\n",
       "    <tr>\n",
       "      <th>min</th>\n",
       "      <td>-1.000000</td>\n",
       "      <td>-18388.949901</td>\n",
       "      <td>0.000000</td>\n",
       "      <td>0.000000</td>\n",
       "      <td>0.000000</td>\n",
       "      <td>0.000000</td>\n",
       "      <td>2.066726e+04</td>\n",
       "    </tr>\n",
       "    <tr>\n",
       "      <th>25%</th>\n",
       "      <td>0.000000</td>\n",
       "      <td>-2747.423625</td>\n",
       "      <td>33.000000</td>\n",
       "      <td>1.000000</td>\n",
       "      <td>0.000000</td>\n",
       "      <td>0.000000</td>\n",
       "      <td>1.077982e+05</td>\n",
       "    </tr>\n",
       "    <tr>\n",
       "      <th>50%</th>\n",
       "      <td>0.000000</td>\n",
       "      <td>-1203.369529</td>\n",
       "      <td>42.000000</td>\n",
       "      <td>1.000000</td>\n",
       "      <td>0.000000</td>\n",
       "      <td>0.000000</td>\n",
       "      <td>1.425944e+05</td>\n",
       "    </tr>\n",
       "    <tr>\n",
       "      <th>75%</th>\n",
       "      <td>1.000000</td>\n",
       "      <td>-291.095954</td>\n",
       "      <td>53.000000</td>\n",
       "      <td>1.000000</td>\n",
       "      <td>1.000000</td>\n",
       "      <td>0.000000</td>\n",
       "      <td>1.955499e+05</td>\n",
       "    </tr>\n",
       "    <tr>\n",
       "      <th>max</th>\n",
       "      <td>20.000000</td>\n",
       "      <td>401755.400475</td>\n",
       "      <td>75.000000</td>\n",
       "      <td>4.000000</td>\n",
       "      <td>4.000000</td>\n",
       "      <td>1.000000</td>\n",
       "      <td>2.265604e+06</td>\n",
       "    </tr>\n",
       "  </tbody>\n",
       "</table>\n",
       "</div>"
      ],
      "text/plain": [
       "           children  days_employed     dob_years  education_id  \\\n",
       "count  21525.000000   19351.000000  21525.000000  21525.000000   \n",
       "mean       0.538908   63046.497661     43.293380      0.817236   \n",
       "std        1.381587  140827.311974     12.574584      0.548138   \n",
       "min       -1.000000  -18388.949901      0.000000      0.000000   \n",
       "25%        0.000000   -2747.423625     33.000000      1.000000   \n",
       "50%        0.000000   -1203.369529     42.000000      1.000000   \n",
       "75%        1.000000    -291.095954     53.000000      1.000000   \n",
       "max       20.000000  401755.400475     75.000000      4.000000   \n",
       "\n",
       "       family_status_id          debt  total_income  \n",
       "count      21525.000000  21525.000000  2.152500e+04  \n",
       "mean           0.972544      0.080883  1.652253e+05  \n",
       "std            1.420324      0.272661  9.804367e+04  \n",
       "min            0.000000      0.000000  2.066726e+04  \n",
       "25%            0.000000      0.000000  1.077982e+05  \n",
       "50%            0.000000      0.000000  1.425944e+05  \n",
       "75%            1.000000      0.000000  1.955499e+05  \n",
       "max            4.000000      1.000000  2.265604e+06  "
      ]
     },
     "execution_count": 7,
     "metadata": {},
     "output_type": "execute_result"
    }
   ],
   "source": [
    "df['total_income'] = df['total_income'].fillna(df.groupby('income_type')['total_income'].transform('median'))\n",
    "df.describe()"
   ]
  },
  {
   "cell_type": "markdown",
   "id": "be1b7440",
   "metadata": {},
   "source": [
    "### Проверка данных на аномалии и исправления."
   ]
  },
  {
   "cell_type": "markdown",
   "id": "284032b6",
   "metadata": {},
   "source": [
    "Работа со столбцом days_employed"
   ]
  },
  {
   "cell_type": "code",
   "execution_count": 8,
   "id": "f2b1babb",
   "metadata": {},
   "outputs": [
    {
     "name": "stdout",
     "output_type": "stream",
     "text": [
      "Количество отрицательных значений в days_employed: 15906\n",
      "Количество положительных значений в days_employed: 3445\n"
     ]
    }
   ],
   "source": [
    "print(f\"Количество отрицательных значений в days_employed: {len(df[df['days_employed'] < 0]['days_employed'])}\")\n",
    "print(f\"Количество положительных значений в days_employed: {len(df[df['days_employed'] > 0]['days_employed'])}\")"
   ]
  },
  {
   "cell_type": "code",
   "execution_count": 9,
   "id": "1fdc1f55",
   "metadata": {
    "scrolled": true
   },
   "outputs": [
    {
     "data": {
      "image/png": "[encoded data removed]",
      "text/plain": [
       "<Figure size 640x480 with 1 Axes>"
      ]
     },
     "metadata": {},
     "output_type": "display_data"
    }
   ],
   "source": [
    "df.groupby('income_type')['days_employed'].apply(lambda x: sns.kdeplot(x, label = x.name))\n",
    "plt.legend()\n",
    "plt.xlabel('days_employed')\n",
    "plt.show()"
   ]
  },
  {
   "cell_type": "markdown",
   "id": "b7309d5a",
   "metadata": {},
   "source": [
    "Большинство значений в столбце days_employed являются отрицательными. Исключениями являются группа пенсионеров и безработных. В данных группах значения можно поменять на 0, а в остальных заменить на значения по модулю."
   ]
  },
  {
   "cell_type": "code",
   "execution_count": 10,
   "id": "8a632514-7539-4ca9-a0ba-24395a8d86c6",
   "metadata": {},
   "outputs": [],
   "source": [
    "df['days_employed'] = abs(df['days_employed'])"
   ]
  },
  {
   "cell_type": "code",
   "execution_count": 11,
   "id": "f33c7ab6-1510-469a-b37a-a99b5a69f2af",
   "metadata": {},
   "outputs": [
    {
     "data": {
      "text/plain": [
       "count     19351.000000\n",
       "mean      66914.728907\n",
       "std      139030.880527\n",
       "min          24.141633\n",
       "25%         927.009265\n",
       "50%        2194.220567\n",
       "75%        5537.882441\n",
       "max      401755.400475\n",
       "Name: days_employed, dtype: float64"
      ]
     },
     "execution_count": 11,
     "metadata": {},
     "output_type": "execute_result"
    }
   ],
   "source": [
    "df['days_employed'].describe()"
   ]
  },
  {
   "cell_type": "markdown",
   "id": "63e87b73-e195-4c9b-93ea-f67826543f9b",
   "metadata": {},
   "source": [
    "Чтобы заполнить пропуски в столбце `days_employed`, сгруппируем людей по возрастам и заполним пропуки медиааными значениями стажа по возрасту.\n",
    "\n",
    "Добавим группы по возрастам"
   ]
  },
  {
   "cell_type": "code",
   "execution_count": 12,
   "id": "4a90a839-724d-48f7-8508-b86622b0c2c6",
   "metadata": {},
   "outputs": [
    {
     "data": {
      "text/plain": [
       "0"
      ]
     },
     "execution_count": 12,
     "metadata": {},
     "output_type": "execute_result"
    }
   ],
   "source": [
    "df['dob_years'].min()"
   ]
  },
  {
   "cell_type": "code",
   "execution_count": 13,
   "id": "23ccff6e-5563-4954-a917-5749e8207baf",
   "metadata": {},
   "outputs": [],
   "source": [
    "age_labels = ['yong', 'middle', 'old', 'retired']\n",
    "age_bins = [df['dob_years'].min()-1, 30, 45, 63, df['dob_years'].max()]\n",
    "\n",
    "df['age_groups'] = pd.cut(df['dob_years'],\n",
    "                       bins=age_bins,\n",
    "                       labels=age_labels)"
   ]
  },
  {
   "cell_type": "markdown",
   "id": "25409a76-b2d2-424c-9f2e-4ae37c6bda37",
   "metadata": {},
   "source": [
    "Заполним пропущенные значения"
   ]
  },
  {
   "cell_type": "code",
   "execution_count": 14,
   "id": "b5dc33b0",
   "metadata": {},
   "outputs": [],
   "source": [
    "df['days_employed'] = df['days_employed'].fillna(df.groupby('age_groups')['days_employed'].transform('median'))"
   ]
  },
  {
   "cell_type": "markdown",
   "id": "341c521b-7d5f-428c-97a5-8ea1de704d96",
   "metadata": {},
   "source": [
    "Посмотрим на результат преобразований таблицы"
   ]
  },
  {
   "cell_type": "code",
   "execution_count": 15,
   "id": "4878b805-5afe-4c93-aec9-182782bc8493",
   "metadata": {},
   "outputs": [
    {
     "data": {
      "text/html": [
       "<div>\n",
       "<style scoped>\n",
       "    .dataframe tbody tr th:only-of-type {\n",
       "        vertical-align: middle;\n",
       "    }\n",
       "\n",
       "    .dataframe tbody tr th {\n",
       "        vertical-align: top;\n",
       "    }\n",
       "\n",
       "    .dataframe thead th {\n",
       "        text-align: right;\n",
       "    }\n",
       "</style>\n",
       "<table border=\"1\" class=\"dataframe\">\n",
       "  <thead>\n",
       "    <tr style=\"text-align: right;\">\n",
       "      <th></th>\n",
       "      <th>children</th>\n",
       "      <th>days_employed</th>\n",
       "      <th>dob_years</th>\n",
       "      <th>education</th>\n",
       "      <th>education_id</th>\n",
       "      <th>family_status</th>\n",
       "      <th>family_status_id</th>\n",
       "      <th>gender</th>\n",
       "      <th>income_type</th>\n",
       "      <th>debt</th>\n",
       "      <th>total_income</th>\n",
       "      <th>purpose</th>\n",
       "      <th>age_groups</th>\n",
       "    </tr>\n",
       "  </thead>\n",
       "  <tbody>\n",
       "    <tr>\n",
       "      <th>0</th>\n",
       "      <td>1</td>\n",
       "      <td>8437.673028</td>\n",
       "      <td>42</td>\n",
       "      <td>высшее</td>\n",
       "      <td>0</td>\n",
       "      <td>женат / замужем</td>\n",
       "      <td>0</td>\n",
       "      <td>F</td>\n",
       "      <td>сотрудник</td>\n",
       "      <td>0</td>\n",
       "      <td>253875.639453</td>\n",
       "      <td>покупка жилья</td>\n",
       "      <td>middle</td>\n",
       "    </tr>\n",
       "    <tr>\n",
       "      <th>1</th>\n",
       "      <td>1</td>\n",
       "      <td>4024.803754</td>\n",
       "      <td>36</td>\n",
       "      <td>среднее</td>\n",
       "      <td>1</td>\n",
       "      <td>женат / замужем</td>\n",
       "      <td>0</td>\n",
       "      <td>F</td>\n",
       "      <td>сотрудник</td>\n",
       "      <td>0</td>\n",
       "      <td>112080.014102</td>\n",
       "      <td>приобретение автомобиля</td>\n",
       "      <td>middle</td>\n",
       "    </tr>\n",
       "    <tr>\n",
       "      <th>2</th>\n",
       "      <td>0</td>\n",
       "      <td>5623.422610</td>\n",
       "      <td>33</td>\n",
       "      <td>Среднее</td>\n",
       "      <td>1</td>\n",
       "      <td>женат / замужем</td>\n",
       "      <td>0</td>\n",
       "      <td>M</td>\n",
       "      <td>сотрудник</td>\n",
       "      <td>0</td>\n",
       "      <td>145885.952297</td>\n",
       "      <td>покупка жилья</td>\n",
       "      <td>middle</td>\n",
       "    </tr>\n",
       "    <tr>\n",
       "      <th>3</th>\n",
       "      <td>3</td>\n",
       "      <td>4124.747207</td>\n",
       "      <td>32</td>\n",
       "      <td>среднее</td>\n",
       "      <td>1</td>\n",
       "      <td>женат / замужем</td>\n",
       "      <td>0</td>\n",
       "      <td>M</td>\n",
       "      <td>сотрудник</td>\n",
       "      <td>0</td>\n",
       "      <td>267628.550329</td>\n",
       "      <td>дополнительное образование</td>\n",
       "      <td>middle</td>\n",
       "    </tr>\n",
       "    <tr>\n",
       "      <th>4</th>\n",
       "      <td>0</td>\n",
       "      <td>340266.072047</td>\n",
       "      <td>53</td>\n",
       "      <td>среднее</td>\n",
       "      <td>1</td>\n",
       "      <td>гражданский брак</td>\n",
       "      <td>1</td>\n",
       "      <td>F</td>\n",
       "      <td>пенсионер</td>\n",
       "      <td>0</td>\n",
       "      <td>158616.077870</td>\n",
       "      <td>сыграть свадьбу</td>\n",
       "      <td>old</td>\n",
       "    </tr>\n",
       "  </tbody>\n",
       "</table>\n",
       "</div>"
      ],
      "text/plain": [
       "   children  days_employed  dob_years education  education_id  \\\n",
       "0         1    8437.673028         42    высшее             0   \n",
       "1         1    4024.803754         36   среднее             1   \n",
       "2         0    5623.422610         33   Среднее             1   \n",
       "3         3    4124.747207         32   среднее             1   \n",
       "4         0  340266.072047         53   среднее             1   \n",
       "\n",
       "      family_status  family_status_id gender income_type  debt   total_income  \\\n",
       "0   женат / замужем                 0      F   сотрудник     0  253875.639453   \n",
       "1   женат / замужем                 0      F   сотрудник     0  112080.014102   \n",
       "2   женат / замужем                 0      M   сотрудник     0  145885.952297   \n",
       "3   женат / замужем                 0      M   сотрудник     0  267628.550329   \n",
       "4  гражданский брак                 1      F   пенсионер     0  158616.077870   \n",
       "\n",
       "                      purpose age_groups  \n",
       "0               покупка жилья     middle  \n",
       "1     приобретение автомобиля     middle  \n",
       "2               покупка жилья     middle  \n",
       "3  дополнительное образование     middle  \n",
       "4             сыграть свадьбу        old  "
      ]
     },
     "execution_count": 15,
     "metadata": {},
     "output_type": "execute_result"
    }
   ],
   "source": [
    "df.head()"
   ]
  },
  {
   "cell_type": "code",
   "execution_count": 16,
   "id": "50976888",
   "metadata": {},
   "outputs": [
    {
     "data": {
      "image/png": "[encoded data removed]",
      "text/plain": [
       "<Figure size 640x480 with 1 Axes>"
      ]
     },
     "metadata": {},
     "output_type": "display_data"
    }
   ],
   "source": [
    "sns.kdeplot(x=df['days_employed'], hue=df['age_groups'], log_scale=True)\n",
    "plt.xlabel('days_employed')\n",
    "plt.show()"
   ]
  },
  {
   "cell_type": "markdown",
   "id": "a777eb42-a286-4301-8d06-f31756e5fd1d",
   "metadata": {},
   "source": [
    "Стаж заполнен верно. Но существуют странные записи, которые говорят о том, что есть люди всех возрастов, которые работали больше 270 лет."
   ]
  },
  {
   "cell_type": "markdown",
   "id": "c1fec705",
   "metadata": {},
   "source": [
    "### Изменение типов данных."
   ]
  },
  {
   "cell_type": "code",
   "execution_count": 17,
   "id": "9cee5915",
   "metadata": {},
   "outputs": [],
   "source": [
    "# Замените вещественный тип данных в столбце total_income на целочисленный\n",
    "df['total_income'] = df['total_income'].astype('int')\n",
    "df['days_employed'] = df['days_employed'].astype('int')"
   ]
  },
  {
   "cell_type": "code",
   "execution_count": 18,
   "id": "9879fb76",
   "metadata": {},
   "outputs": [
    {
     "name": "stdout",
     "output_type": "stream",
     "text": [
      "<class 'pandas.core.frame.DataFrame'>\n",
      "RangeIndex: 21525 entries, 0 to 21524\n",
      "Data columns (total 13 columns):\n",
      " #   Column            Non-Null Count  Dtype   \n",
      "---  ------            --------------  -----   \n",
      " 0   children          21525 non-null  int64   \n",
      " 1   days_employed     21525 non-null  int64   \n",
      " 2   dob_years         21525 non-null  int64   \n",
      " 3   education         21525 non-null  object  \n",
      " 4   education_id      21525 non-null  int64   \n",
      " 5   family_status     21525 non-null  object  \n",
      " 6   family_status_id  21525 non-null  int64   \n",
      " 7   gender            21525 non-null  object  \n",
      " 8   income_type       21525 non-null  object  \n",
      " 9   debt              21525 non-null  int64   \n",
      " 10  total_income      21525 non-null  int64   \n",
      " 11  purpose           21525 non-null  object  \n",
      " 12  age_groups        21525 non-null  category\n",
      "dtypes: category(1), int64(7), object(5)\n",
      "memory usage: 2.0+ MB\n"
     ]
    }
   ],
   "source": [
    "df.info()"
   ]
  },
  {
   "cell_type": "markdown",
   "id": "4d2a9fb0-ac52-4440-91a1-ea26f7c5b54c",
   "metadata": {},
   "source": [
    "### Поиск аномалий в данных"
   ]
  },
  {
   "cell_type": "code",
   "execution_count": 19,
   "id": "0e71ddf1",
   "metadata": {},
   "outputs": [
    {
     "data": {
      "image/png": "[encoded data removed]",
      "text/plain": [
       "<Figure size 640x480 with 1 Axes>"
      ]
     },
     "metadata": {},
     "output_type": "display_data"
    }
   ],
   "source": [
    "# посмотрим на данные во всех столбцах\n",
    "df['children'].value_counts().plot(kind='bar')\n",
    "plt.title('Количество детей')\n",
    "plt.show()"
   ]
  },
  {
   "cell_type": "markdown",
   "id": "d19f0521-5b27-4f04-818c-4c109c5d8bde",
   "metadata": {},
   "source": [
    "Существуют анкеты с -1 ребенком, 20 детей тоже очень большая цифра"
   ]
  },
  {
   "cell_type": "code",
   "execution_count": 20,
   "id": "d2e4ee8d-13ae-440f-9f49-41ca32625037",
   "metadata": {},
   "outputs": [
    {
     "data": {
      "image/png": "[encoded data removed]",
      "text/plain": [
       "<Figure size 640x480 with 1 Axes>"
      ]
     },
     "metadata": {},
     "output_type": "display_data"
    }
   ],
   "source": [
    "df['gender'].value_counts().plot(kind='bar')\n",
    "plt.title('Гендер')\n",
    "plt.show()"
   ]
  },
  {
   "cell_type": "markdown",
   "id": "b5848a1f-5ef6-4c3d-bcb1-0d8d67912a29",
   "metadata": {},
   "source": [
    "В данных есть анкеты с гендером XNA"
   ]
  },
  {
   "cell_type": "code",
   "execution_count": 21,
   "id": "e4f493fa-4442-489d-a0ab-dc7a8a5690fe",
   "metadata": {},
   "outputs": [
    {
     "data": {
      "image/png": "[encoded data removed]",
      "text/plain": [
       "<Figure size 640x480 with 1 Axes>"
      ]
     },
     "metadata": {},
     "output_type": "display_data"
    }
   ],
   "source": [
    "sns.violinplot(df['dob_years'])\n",
    "plt.title('Возраст')\n",
    "plt.show()"
   ]
  },
  {
   "cell_type": "markdown",
   "id": "aa2ad867-cc71-413b-aedc-8bb070472ebe",
   "metadata": {},
   "source": [
    "Существуют анкеты с возрастом 0 лет"
   ]
  },
  {
   "cell_type": "code",
   "execution_count": 22,
   "id": "bcd18c6d",
   "metadata": {},
   "outputs": [
    {
     "name": "stdout",
     "output_type": "stream",
     "text": [
      "Значения количества детей: children\n",
      " 5         9\n",
      " 4        41\n",
      "-1        47\n",
      " 20       76\n",
      " 3       330\n",
      " 2      2055\n",
      " 1      4818\n",
      " 0     14149\n",
      "Name: count, dtype: int64\n",
      "\n",
      "Значения количества гендеров: gender\n",
      "XNA        1\n",
      "M       7288\n",
      "F      14236\n",
      "Name: count, dtype: int64\n",
      "\n",
      "Кол-во анкет с возрастом 0: 101\n"
     ]
    }
   ],
   "source": [
    "# посчитаем уникальные значения в столбцах с аномалиями\n",
    "print(f\"Значения количества детей: {df['children'].value_counts().sort_values()}\")\n",
    "print()\n",
    "print(f\"Значения количества гендеров: {df['gender'].value_counts().sort_values()}\")\n",
    "print()\n",
    "print(f\"Кол-во анкет с возрастом 0: {df.query(\"dob_years < 1\").shape[0]}\")"
   ]
  },
  {
   "cell_type": "markdown",
   "id": "d79c856c-6308-45ab-88ee-5e249c4cc33c",
   "metadata": {},
   "source": [
    "Уберем из анализа анкеты с аномальным количеством детей, непонятным гендером и возрастом равным 0."
   ]
  },
  {
   "cell_type": "code",
   "execution_count": 23,
   "id": "c6acc56f",
   "metadata": {},
   "outputs": [],
   "source": [
    "df = df.query(\"(children>=0)&(children<6)&(gender != 'XNA')&(dob_years!=0)\").reset_index(drop=True)"
   ]
  },
  {
   "cell_type": "markdown",
   "id": "dff251aa",
   "metadata": {},
   "source": [
    "### Удаление дубликатов."
   ]
  },
  {
   "cell_type": "code",
   "execution_count": 24,
   "id": "1da4bd1d",
   "metadata": {
    "scrolled": true
   },
   "outputs": [
    {
     "name": "stdout",
     "output_type": "stream",
     "text": [
      "Значения в столбце education\n"
     ]
    },
    {
     "data": {
      "text/plain": [
       "education\n",
       "среднее                13609\n",
       "высшее                  4666\n",
       "СРЕДНЕЕ                  764\n",
       "Среднее                  700\n",
       "неоконченное высшее      662\n",
       "ВЫСШЕЕ                   270\n",
       "Высшее                   266\n",
       "начальное                250\n",
       "Неоконченное высшее       47\n",
       "НЕОКОНЧЕННОЕ ВЫСШЕЕ       29\n",
       "НАЧАЛЬНОЕ                 17\n",
       "Начальное                 15\n",
       "ученая степень             4\n",
       "Ученая степень             1\n",
       "УЧЕНАЯ СТЕПЕНЬ             1\n",
       "Name: count, dtype: int64"
      ]
     },
     "metadata": {},
     "output_type": "display_data"
    },
    {
     "name": "stdout",
     "output_type": "stream",
     "text": [
      "Значения в столбце family_status\n"
     ]
    },
    {
     "data": {
      "text/plain": [
       "family_status\n",
       "женат / замужем          12254\n",
       "гражданский брак          4138\n",
       "Не женат / не замужем     2783\n",
       "в разводе                 1179\n",
       "вдовец / вдова             947\n",
       "Name: count, dtype: int64"
      ]
     },
     "metadata": {},
     "output_type": "display_data"
    },
    {
     "name": "stdout",
     "output_type": "stream",
     "text": [
      "Значения в столбце income_type\n"
     ]
    },
    {
     "data": {
      "text/plain": [
       "income_type\n",
       "сотрудник          10996\n",
       "компаньон           5033\n",
       "пенсионер           3819\n",
       "госслужащий         1447\n",
       "безработный            2\n",
       "предприниматель        2\n",
       "студент                1\n",
       "в декрете              1\n",
       "Name: count, dtype: int64"
      ]
     },
     "metadata": {},
     "output_type": "display_data"
    },
    {
     "name": "stdout",
     "output_type": "stream",
     "text": [
      "Значения в столбце purpose\n"
     ]
    },
    {
     "data": {
      "text/plain": [
       "purpose\n",
       "свадьба                                   791\n",
       "на проведение свадьбы                     768\n",
       "сыграть свадьбу                           764\n",
       "операции с недвижимостью                  670\n",
       "покупка коммерческой недвижимости         658\n",
       "покупка жилья для сдачи                   649\n",
       "операции с коммерческой недвижимостью     644\n",
       "операции с жильем                         642\n",
       "покупка жилья для семьи                   639\n",
       "жилье                                     636\n",
       "покупка жилья                             635\n",
       "недвижимость                              628\n",
       "операции со своей недвижимостью           626\n",
       "строительство собственной недвижимости    626\n",
       "строительство недвижимости                620\n",
       "строительство жилой недвижимости          619\n",
       "покупка своего жилья                      618\n",
       "покупка недвижимости                      615\n",
       "ремонт жилью                              607\n",
       "покупка жилой недвижимости                600\n",
       "на покупку своего автомобиля              501\n",
       "заняться высшим образованием              493\n",
       "автомобиль                                488\n",
       "сделка с подержанным автомобилем          482\n",
       "автомобили                                474\n",
       "на покупку подержанного автомобиля        472\n",
       "свой автомобиль                           472\n",
       "на покупку автомобиля                     466\n",
       "приобретение автомобиля                   458\n",
       "дополнительное образование                455\n",
       "сделка с автомобилем                      454\n",
       "высшее образование                        444\n",
       "получение дополнительного образования     443\n",
       "получение образования                     440\n",
       "образование                               439\n",
       "профильное образование                    431\n",
       "получение высшего образования             423\n",
       "заняться образованием                     411\n",
       "Name: count, dtype: int64"
      ]
     },
     "metadata": {},
     "output_type": "display_data"
    }
   ],
   "source": [
    "# дубликаты могут оказаться в столбцах education, family_status, income_type, purpose\n",
    "def print_potential_duplicates():\n",
    "    print('Значения в столбце education')\n",
    "    display(df['education'].value_counts())\n",
    "    print('Значения в столбце family_status')\n",
    "    display(df['family_status'].value_counts())\n",
    "    print('Значения в столбце income_type')\n",
    "    display(df['income_type'].value_counts())\n",
    "    print('Значения в столбце purpose')\n",
    "    display(df['purpose'].value_counts())\n",
    "\n",
    "print_potential_duplicates()   "
   ]
  },
  {
   "cell_type": "code",
   "execution_count": 25,
   "id": "c6b9014d",
   "metadata": {},
   "outputs": [
    {
     "name": "stdout",
     "output_type": "stream",
     "text": [
      "Значения в столбце education\n"
     ]
    },
    {
     "data": {
      "text/plain": [
       "education\n",
       "среднее                15073\n",
       "высшее                  5202\n",
       "неоконченное высшее      738\n",
       "начальное                282\n",
       "ученая степень             6\n",
       "Name: count, dtype: int64"
      ]
     },
     "metadata": {},
     "output_type": "display_data"
    },
    {
     "name": "stdout",
     "output_type": "stream",
     "text": [
      "Значения в столбце family_status\n"
     ]
    },
    {
     "data": {
      "text/plain": [
       "family_status\n",
       "женат / замужем          12254\n",
       "гражданский брак          4138\n",
       "не женат / не замужем     2783\n",
       "в разводе                 1179\n",
       "вдовец / вдова             947\n",
       "Name: count, dtype: int64"
      ]
     },
     "metadata": {},
     "output_type": "display_data"
    },
    {
     "name": "stdout",
     "output_type": "stream",
     "text": [
      "Значения в столбце income_type\n"
     ]
    },
    {
     "data": {
      "text/plain": [
       "income_type\n",
       "сотрудник          10996\n",
       "компаньон           5033\n",
       "пенсионер           3819\n",
       "госслужащий         1447\n",
       "безработный            2\n",
       "предприниматель        2\n",
       "студент                1\n",
       "в декрете              1\n",
       "Name: count, dtype: int64"
      ]
     },
     "metadata": {},
     "output_type": "display_data"
    },
    {
     "name": "stdout",
     "output_type": "stream",
     "text": [
      "Значения в столбце purpose\n"
     ]
    },
    {
     "data": {
      "text/plain": [
       "purpose\n",
       "свадьба                                   791\n",
       "на проведение свадьбы                     768\n",
       "сыграть свадьбу                           764\n",
       "операции с недвижимостью                  670\n",
       "покупка коммерческой недвижимости         658\n",
       "покупка жилья для сдачи                   649\n",
       "операции с коммерческой недвижимостью     644\n",
       "операции с жильем                         642\n",
       "покупка жилья для семьи                   639\n",
       "жилье                                     636\n",
       "покупка жилья                             635\n",
       "недвижимость                              628\n",
       "операции со своей недвижимостью           626\n",
       "строительство собственной недвижимости    626\n",
       "строительство недвижимости                620\n",
       "строительство жилой недвижимости          619\n",
       "покупка своего жилья                      618\n",
       "покупка недвижимости                      615\n",
       "ремонт жилью                              607\n",
       "покупка жилой недвижимости                600\n",
       "на покупку своего автомобиля              501\n",
       "заняться высшим образованием              493\n",
       "автомобиль                                488\n",
       "сделка с подержанным автомобилем          482\n",
       "автомобили                                474\n",
       "на покупку подержанного автомобиля        472\n",
       "свой автомобиль                           472\n",
       "на покупку автомобиля                     466\n",
       "приобретение автомобиля                   458\n",
       "дополнительное образование                455\n",
       "сделка с автомобилем                      454\n",
       "высшее образование                        444\n",
       "получение дополнительного образования     443\n",
       "получение образования                     440\n",
       "образование                               439\n",
       "профильное образование                    431\n",
       "получение высшего образования             423\n",
       "заняться образованием                     411\n",
       "Name: count, dtype: int64"
      ]
     },
     "metadata": {},
     "output_type": "display_data"
    }
   ],
   "source": [
    "# Приведем все знаки в нижний регистр\n",
    "col_names = ['education', 'family_status', 'income_type', 'purpose']\n",
    "for name in col_names:\n",
    "    df[name] = df[name].str.lower()\n",
    "\n",
    "print_potential_duplicates()"
   ]
  },
  {
   "cell_type": "markdown",
   "id": "fa5eb7a8",
   "metadata": {},
   "source": [
    "* Много неявных дубликатов в столбце purpose. \n",
    "* Значения можно объединить на группы: свадьба, покупка недвижимости, строительство или ремонт, покупка автомобиля, образование"
   ]
  },
  {
   "cell_type": "markdown",
   "id": "8af97d6a",
   "metadata": {},
   "source": [
    "### Формирование дополнительных датафреймов словарей, декомпозиция исходного датафрейма."
   ]
  },
  {
   "cell_type": "markdown",
   "id": "1de516e7-17ab-4068-ae66-013aa9781680",
   "metadata": {},
   "source": [
    "Для того, чтобы проще было обращаться с переменными, уберем из основной таблицы расшифровку значений `'education_id'` и `'family_status_id'` и создадим таблицы-словари с этими шифрами. "
   ]
  },
  {
   "cell_type": "code",
   "execution_count": 26,
   "id": "9b7b25c7",
   "metadata": {},
   "outputs": [
    {
     "data": {
      "text/html": [
       "<div>\n",
       "<style scoped>\n",
       "    .dataframe tbody tr th:only-of-type {\n",
       "        vertical-align: middle;\n",
       "    }\n",
       "\n",
       "    .dataframe tbody tr th {\n",
       "        vertical-align: top;\n",
       "    }\n",
       "\n",
       "    .dataframe thead th {\n",
       "        text-align: right;\n",
       "    }\n",
       "</style>\n",
       "<table border=\"1\" class=\"dataframe\">\n",
       "  <thead>\n",
       "    <tr style=\"text-align: right;\">\n",
       "      <th></th>\n",
       "      <th>education</th>\n",
       "      <th>education_id</th>\n",
       "    </tr>\n",
       "  </thead>\n",
       "  <tbody>\n",
       "    <tr>\n",
       "      <th>0</th>\n",
       "      <td>высшее</td>\n",
       "      <td>0</td>\n",
       "    </tr>\n",
       "    <tr>\n",
       "      <th>1</th>\n",
       "      <td>среднее</td>\n",
       "      <td>1</td>\n",
       "    </tr>\n",
       "    <tr>\n",
       "      <th>2</th>\n",
       "      <td>неоконченное высшее</td>\n",
       "      <td>2</td>\n",
       "    </tr>\n",
       "    <tr>\n",
       "      <th>3</th>\n",
       "      <td>начальное</td>\n",
       "      <td>3</td>\n",
       "    </tr>\n",
       "    <tr>\n",
       "      <th>4</th>\n",
       "      <td>ученая степень</td>\n",
       "      <td>4</td>\n",
       "    </tr>\n",
       "  </tbody>\n",
       "</table>\n",
       "</div>"
      ],
      "text/plain": [
       "             education  education_id\n",
       "0               высшее             0\n",
       "1              среднее             1\n",
       "2  неоконченное высшее             2\n",
       "3            начальное             3\n",
       "4       ученая степень             4"
      ]
     },
     "metadata": {},
     "output_type": "display_data"
    },
    {
     "data": {
      "text/html": [
       "<div>\n",
       "<style scoped>\n",
       "    .dataframe tbody tr th:only-of-type {\n",
       "        vertical-align: middle;\n",
       "    }\n",
       "\n",
       "    .dataframe tbody tr th {\n",
       "        vertical-align: top;\n",
       "    }\n",
       "\n",
       "    .dataframe thead th {\n",
       "        text-align: right;\n",
       "    }\n",
       "</style>\n",
       "<table border=\"1\" class=\"dataframe\">\n",
       "  <thead>\n",
       "    <tr style=\"text-align: right;\">\n",
       "      <th></th>\n",
       "      <th>family_status</th>\n",
       "      <th>family_status_id</th>\n",
       "    </tr>\n",
       "  </thead>\n",
       "  <tbody>\n",
       "    <tr>\n",
       "      <th>0</th>\n",
       "      <td>женат / замужем</td>\n",
       "      <td>0</td>\n",
       "    </tr>\n",
       "    <tr>\n",
       "      <th>1</th>\n",
       "      <td>гражданский брак</td>\n",
       "      <td>1</td>\n",
       "    </tr>\n",
       "    <tr>\n",
       "      <th>2</th>\n",
       "      <td>вдовец / вдова</td>\n",
       "      <td>2</td>\n",
       "    </tr>\n",
       "    <tr>\n",
       "      <th>3</th>\n",
       "      <td>в разводе</td>\n",
       "      <td>3</td>\n",
       "    </tr>\n",
       "    <tr>\n",
       "      <th>4</th>\n",
       "      <td>не женат / не замужем</td>\n",
       "      <td>4</td>\n",
       "    </tr>\n",
       "  </tbody>\n",
       "</table>\n",
       "</div>"
      ],
      "text/plain": [
       "           family_status  family_status_id\n",
       "0        женат / замужем                 0\n",
       "1       гражданский брак                 1\n",
       "2         вдовец / вдова                 2\n",
       "3              в разводе                 3\n",
       "4  не женат / не замужем                 4"
      ]
     },
     "metadata": {},
     "output_type": "display_data"
    }
   ],
   "source": [
    "# создаем таблицы-словари\n",
    "education_decoder = df[['education', 'education_id']].drop_duplicates().reset_index(drop=True)\n",
    "family_status_decoder = df[['family_status', 'family_status_id']].drop_duplicates().reset_index(drop=True)\n",
    "display(education_decoder, family_status_decoder)"
   ]
  },
  {
   "cell_type": "code",
   "execution_count": 27,
   "id": "15feee2d",
   "metadata": {},
   "outputs": [
    {
     "data": {
      "text/html": [
       "<div>\n",
       "<style scoped>\n",
       "    .dataframe tbody tr th:only-of-type {\n",
       "        vertical-align: middle;\n",
       "    }\n",
       "\n",
       "    .dataframe tbody tr th {\n",
       "        vertical-align: top;\n",
       "    }\n",
       "\n",
       "    .dataframe thead th {\n",
       "        text-align: right;\n",
       "    }\n",
       "</style>\n",
       "<table border=\"1\" class=\"dataframe\">\n",
       "  <thead>\n",
       "    <tr style=\"text-align: right;\">\n",
       "      <th></th>\n",
       "      <th>children</th>\n",
       "      <th>days_employed</th>\n",
       "      <th>dob_years</th>\n",
       "      <th>education_id</th>\n",
       "      <th>family_status_id</th>\n",
       "      <th>gender</th>\n",
       "      <th>income_type</th>\n",
       "      <th>debt</th>\n",
       "      <th>total_income</th>\n",
       "      <th>purpose</th>\n",
       "      <th>age_groups</th>\n",
       "    </tr>\n",
       "  </thead>\n",
       "  <tbody>\n",
       "    <tr>\n",
       "      <th>0</th>\n",
       "      <td>1</td>\n",
       "      <td>8437</td>\n",
       "      <td>42</td>\n",
       "      <td>0</td>\n",
       "      <td>0</td>\n",
       "      <td>F</td>\n",
       "      <td>сотрудник</td>\n",
       "      <td>0</td>\n",
       "      <td>253875</td>\n",
       "      <td>покупка жилья</td>\n",
       "      <td>middle</td>\n",
       "    </tr>\n",
       "    <tr>\n",
       "      <th>1</th>\n",
       "      <td>1</td>\n",
       "      <td>4024</td>\n",
       "      <td>36</td>\n",
       "      <td>1</td>\n",
       "      <td>0</td>\n",
       "      <td>F</td>\n",
       "      <td>сотрудник</td>\n",
       "      <td>0</td>\n",
       "      <td>112080</td>\n",
       "      <td>приобретение автомобиля</td>\n",
       "      <td>middle</td>\n",
       "    </tr>\n",
       "    <tr>\n",
       "      <th>2</th>\n",
       "      <td>0</td>\n",
       "      <td>5623</td>\n",
       "      <td>33</td>\n",
       "      <td>1</td>\n",
       "      <td>0</td>\n",
       "      <td>M</td>\n",
       "      <td>сотрудник</td>\n",
       "      <td>0</td>\n",
       "      <td>145885</td>\n",
       "      <td>покупка жилья</td>\n",
       "      <td>middle</td>\n",
       "    </tr>\n",
       "    <tr>\n",
       "      <th>3</th>\n",
       "      <td>3</td>\n",
       "      <td>4124</td>\n",
       "      <td>32</td>\n",
       "      <td>1</td>\n",
       "      <td>0</td>\n",
       "      <td>M</td>\n",
       "      <td>сотрудник</td>\n",
       "      <td>0</td>\n",
       "      <td>267628</td>\n",
       "      <td>дополнительное образование</td>\n",
       "      <td>middle</td>\n",
       "    </tr>\n",
       "    <tr>\n",
       "      <th>4</th>\n",
       "      <td>0</td>\n",
       "      <td>340266</td>\n",
       "      <td>53</td>\n",
       "      <td>1</td>\n",
       "      <td>1</td>\n",
       "      <td>F</td>\n",
       "      <td>пенсионер</td>\n",
       "      <td>0</td>\n",
       "      <td>158616</td>\n",
       "      <td>сыграть свадьбу</td>\n",
       "      <td>old</td>\n",
       "    </tr>\n",
       "  </tbody>\n",
       "</table>\n",
       "</div>"
      ],
      "text/plain": [
       "   children  days_employed  dob_years  education_id  family_status_id gender  \\\n",
       "0         1           8437         42             0                 0      F   \n",
       "1         1           4024         36             1                 0      F   \n",
       "2         0           5623         33             1                 0      M   \n",
       "3         3           4124         32             1                 0      M   \n",
       "4         0         340266         53             1                 1      F   \n",
       "\n",
       "  income_type  debt  total_income                     purpose age_groups  \n",
       "0   сотрудник     0        253875               покупка жилья     middle  \n",
       "1   сотрудник     0        112080     приобретение автомобиля     middle  \n",
       "2   сотрудник     0        145885               покупка жилья     middle  \n",
       "3   сотрудник     0        267628  дополнительное образование     middle  \n",
       "4   пенсионер     0        158616             сыграть свадьбу        old  "
      ]
     },
     "execution_count": 27,
     "metadata": {},
     "output_type": "execute_result"
    }
   ],
   "source": [
    "# убираем из таблицы education и family_status\n",
    "df = df.drop(columns=['education', 'family_status'])\n",
    "df.head()"
   ]
  },
  {
   "cell_type": "markdown",
   "id": "14821cfb",
   "metadata": {},
   "source": [
    "### Категоризация дохода."
   ]
  },
  {
   "cell_type": "code",
   "execution_count": 28,
   "id": "9a5645e4",
   "metadata": {},
   "outputs": [],
   "source": [
    "def total_income_category(income):\n",
    "    if income <= 30000:\n",
    "        return 'E'\n",
    "    if income <= 50000:\n",
    "        return 'D'\n",
    "    if income <= 200000:\n",
    "        return 'C'\n",
    "    if income <= 1000000:\n",
    "        return 'B'\n",
    "    if income > 1000000:\n",
    "        return 'A'\n",
    "    return 'неизвестная категория'"
   ]
  },
  {
   "cell_type": "code",
   "execution_count": 29,
   "id": "03e41cdc",
   "metadata": {},
   "outputs": [
    {
     "data": {
      "text/plain": [
       "total_income_category\n",
       "C    15920\n",
       "D     4987\n",
       "B      347\n",
       "E       25\n",
       "A       22\n",
       "Name: count, dtype: int64"
      ]
     },
     "execution_count": 29,
     "metadata": {},
     "output_type": "execute_result"
    }
   ],
   "source": [
    "df['total_income_category'] = pd.cut(df['total_income'],\n",
    "                                     labels=['A','B','C', 'D', 'E'],\n",
    "                                     bins=[0, 30000, 50000, 200000, 1000000, df['total_income'].max()]\n",
    "                                    )\n",
    "df['total_income_category'].value_counts()"
   ]
  },
  {
   "cell_type": "markdown",
   "id": "5f878358",
   "metadata": {},
   "source": [
    "### Категоризация целей кредита."
   ]
  },
  {
   "cell_type": "code",
   "execution_count": 30,
   "id": "8b4038a2",
   "metadata": {},
   "outputs": [],
   "source": [
    "def purpose_category(words):\n",
    "    if 'свадьб' in words:\n",
    "        return 'проведение свадьбы'\n",
    "    if 'ремонт' in words or 'строит' in words:\n",
    "        return 'ремонт и строительсвто'\n",
    "    if 'авто' in words:\n",
    "        return 'операции с автомобилем'\n",
    "    if 'недвиж' in words or 'жил' in words:\n",
    "        return 'операции с недвижимостью'\n",
    "    if 'образован' in words or 'учеба' in words:\n",
    "        return 'получение образования'\n",
    "    return \"неизвестная категория\""
   ]
  },
  {
   "cell_type": "code",
   "execution_count": 31,
   "id": "6531533a",
   "metadata": {},
   "outputs": [],
   "source": [
    "df['purpose_category'] = df['purpose'].apply(purpose_category)"
   ]
  },
  {
   "cell_type": "code",
   "execution_count": 32,
   "id": "e9fec2c9",
   "metadata": {},
   "outputs": [
    {
     "data": {
      "text/plain": [
       "purpose_category\n",
       "операции с недвижимостью    8260\n",
       "операции с автомобилем      4267\n",
       "получение образования       3979\n",
       "ремонт и строительсвто      2472\n",
       "проведение свадьбы          2323\n",
       "Name: count, dtype: int64"
      ]
     },
     "execution_count": 32,
     "metadata": {},
     "output_type": "execute_result"
    }
   ],
   "source": [
    "df['purpose_category'].value_counts()"
   ]
  },
  {
   "cell_type": "markdown",
   "id": "c6151a73",
   "metadata": {},
   "source": [
    "### Ответы на вопросы."
   ]
  },
  {
   "cell_type": "code",
   "execution_count": 33,
   "id": "0ce2ab96",
   "metadata": {},
   "outputs": [
    {
     "name": "stdout",
     "output_type": "stream",
     "text": [
      "Средняя доля должников в таблице: 8.09%\n"
     ]
    }
   ],
   "source": [
    "print(f\"Средняя доля должников в таблице: {df['debt'].mean() :.2%}\")"
   ]
  },
  {
   "cell_type": "markdown",
   "id": "e63f4607",
   "metadata": {},
   "source": [
    "#### Есть ли зависимость между количеством детей и возвратом кредита в срок?"
   ]
  },
  {
   "cell_type": "code",
   "execution_count": 34,
   "id": "4f3ee8c7",
   "metadata": {},
   "outputs": [],
   "source": [
    "def answer_table(index, values='debt'):\n",
    "    return_df = df.pivot_table(index=index, values=values,aggfunc={'count', 'sum', 'mean'})\n",
    "    return_df = return_df.rename(columns={'mean':'debt ratio', 'sum':'n_debts', 'count':'n_observations'})\n",
    "    return return_df"
   ]
  },
  {
   "cell_type": "code",
   "execution_count": 35,
   "id": "98a9c0b1",
   "metadata": {},
   "outputs": [
    {
     "data": {
      "text/html": [
       "<div>\n",
       "<style scoped>\n",
       "    .dataframe tbody tr th:only-of-type {\n",
       "        vertical-align: middle;\n",
       "    }\n",
       "\n",
       "    .dataframe tbody tr th {\n",
       "        vertical-align: top;\n",
       "    }\n",
       "\n",
       "    .dataframe thead th {\n",
       "        text-align: right;\n",
       "    }\n",
       "</style>\n",
       "<table border=\"1\" class=\"dataframe\">\n",
       "  <thead>\n",
       "    <tr style=\"text-align: right;\">\n",
       "      <th></th>\n",
       "      <th>n_observations</th>\n",
       "      <th>debt ratio</th>\n",
       "      <th>n_debts</th>\n",
       "    </tr>\n",
       "    <tr>\n",
       "      <th>children</th>\n",
       "      <th></th>\n",
       "      <th></th>\n",
       "      <th></th>\n",
       "    </tr>\n",
       "  </thead>\n",
       "  <tbody>\n",
       "    <tr>\n",
       "      <th>0</th>\n",
       "      <td>14079</td>\n",
       "      <td>0.075147</td>\n",
       "      <td>1058</td>\n",
       "    </tr>\n",
       "    <tr>\n",
       "      <th>1</th>\n",
       "      <td>4802</td>\n",
       "      <td>0.091837</td>\n",
       "      <td>441</td>\n",
       "    </tr>\n",
       "    <tr>\n",
       "      <th>2</th>\n",
       "      <td>2042</td>\n",
       "      <td>0.095005</td>\n",
       "      <td>194</td>\n",
       "    </tr>\n",
       "    <tr>\n",
       "      <th>3</th>\n",
       "      <td>328</td>\n",
       "      <td>0.082317</td>\n",
       "      <td>27</td>\n",
       "    </tr>\n",
       "    <tr>\n",
       "      <th>4</th>\n",
       "      <td>41</td>\n",
       "      <td>0.097561</td>\n",
       "      <td>4</td>\n",
       "    </tr>\n",
       "    <tr>\n",
       "      <th>5</th>\n",
       "      <td>9</td>\n",
       "      <td>0.000000</td>\n",
       "      <td>0</td>\n",
       "    </tr>\n",
       "  </tbody>\n",
       "</table>\n",
       "</div>"
      ],
      "text/plain": [
       "          n_observations  debt ratio  n_debts\n",
       "children                                     \n",
       "0                  14079    0.075147     1058\n",
       "1                   4802    0.091837      441\n",
       "2                   2042    0.095005      194\n",
       "3                    328    0.082317       27\n",
       "4                     41    0.097561        4\n",
       "5                      9    0.000000        0"
      ]
     },
     "execution_count": 35,
     "metadata": {},
     "output_type": "execute_result"
    }
   ],
   "source": [
    "answer_table(index='children')"
   ]
  },
  {
   "cell_type": "markdown",
   "id": "6a9458ac",
   "metadata": {},
   "source": [
    "##### Вывод 1: \n",
    "* Заемщики без детей выплачивают кредиты вовремя чаще, чем заемщики с детьми. Доля должников по кредиту среди бездетных семей ниже, чем у семей с детьми и ниже среднего значения доли должников по всей таблице.\n",
    "* В группах заемщиков с 1-4 детьми доля должников выше, чем доля должников во всей таблице.\n",
    "* Заемщики с 5 детьми не имеют долгов по кредиту, однако для анализа таких семей мы имеем всего 9 наблюдений."
   ]
  },
  {
   "cell_type": "markdown",
   "id": "e5d2aa37",
   "metadata": {},
   "source": [
    "#### Есть ли зависимость между семейным положением и возвратом кредита в срок?"
   ]
  },
  {
   "cell_type": "code",
   "execution_count": 36,
   "id": "91206ce3",
   "metadata": {},
   "outputs": [
    {
     "data": {
      "text/html": [
       "<div>\n",
       "<style scoped>\n",
       "    .dataframe tbody tr th:only-of-type {\n",
       "        vertical-align: middle;\n",
       "    }\n",
       "\n",
       "    .dataframe tbody tr th {\n",
       "        vertical-align: top;\n",
       "    }\n",
       "\n",
       "    .dataframe thead th {\n",
       "        text-align: right;\n",
       "    }\n",
       "</style>\n",
       "<table border=\"1\" class=\"dataframe\">\n",
       "  <thead>\n",
       "    <tr style=\"text-align: right;\">\n",
       "      <th></th>\n",
       "      <th>n_observations</th>\n",
       "      <th>debt ratio</th>\n",
       "      <th>n_debts</th>\n",
       "      <th>family_status</th>\n",
       "    </tr>\n",
       "  </thead>\n",
       "  <tbody>\n",
       "    <tr>\n",
       "      <th>4</th>\n",
       "      <td>2783</td>\n",
       "      <td>0.097736</td>\n",
       "      <td>272</td>\n",
       "      <td>не женат / не замужем</td>\n",
       "    </tr>\n",
       "    <tr>\n",
       "      <th>1</th>\n",
       "      <td>4138</td>\n",
       "      <td>0.092557</td>\n",
       "      <td>383</td>\n",
       "      <td>гражданский брак</td>\n",
       "    </tr>\n",
       "    <tr>\n",
       "      <th>0</th>\n",
       "      <td>12254</td>\n",
       "      <td>0.075322</td>\n",
       "      <td>923</td>\n",
       "      <td>женат / замужем</td>\n",
       "    </tr>\n",
       "    <tr>\n",
       "      <th>3</th>\n",
       "      <td>1179</td>\n",
       "      <td>0.071247</td>\n",
       "      <td>84</td>\n",
       "      <td>в разводе</td>\n",
       "    </tr>\n",
       "    <tr>\n",
       "      <th>2</th>\n",
       "      <td>947</td>\n",
       "      <td>0.065470</td>\n",
       "      <td>62</td>\n",
       "      <td>вдовец / вдова</td>\n",
       "    </tr>\n",
       "  </tbody>\n",
       "</table>\n",
       "</div>"
      ],
      "text/plain": [
       "   n_observations  debt ratio  n_debts          family_status\n",
       "4            2783    0.097736      272  не женат / не замужем\n",
       "1            4138    0.092557      383       гражданский брак\n",
       "0           12254    0.075322      923        женат / замужем\n",
       "3            1179    0.071247       84              в разводе\n",
       "2             947    0.065470       62         вдовец / вдова"
      ]
     },
     "execution_count": 36,
     "metadata": {},
     "output_type": "execute_result"
    }
   ],
   "source": [
    "family_df = answer_table('family_status_id')\n",
    "family_df = family_df.merge(family_status_decoder, left_index=True, \n",
    "                            right_on='family_status_id')\n",
    "family_df = family_df.drop(columns='family_status_id')\n",
    "family_df.sort_values('debt ratio', ascending=False)"
   ]
  },
  {
   "cell_type": "markdown",
   "id": "3b466d8f",
   "metadata": {},
   "source": [
    "##### Вывод 2: \n",
    "* Доля должников по кредиту выше всего у людей, никогда не состоявших в официальном браке и составляет более 9 %. Это выше доли должников во всей таблице.\n",
    "* Доля должников среди состоящих в браке и разведенных людей составляет приблизительно 7 %. Меньше всего доля должников среди вдов и вдовцов — 6,6 %. Доля должников в этих группах меньше, чем доля должников во всей таблице."
   ]
  },
  {
   "cell_type": "markdown",
   "id": "e1872969",
   "metadata": {},
   "source": [
    "##### Вопрос 3: \n",
    "Как разные цели кредита влияют на его возврат в срок?"
   ]
  },
  {
   "cell_type": "code",
   "execution_count": 37,
   "id": "ce6ee410",
   "metadata": {},
   "outputs": [
    {
     "data": {
      "text/html": [
       "<div>\n",
       "<style scoped>\n",
       "    .dataframe tbody tr th:only-of-type {\n",
       "        vertical-align: middle;\n",
       "    }\n",
       "\n",
       "    .dataframe tbody tr th {\n",
       "        vertical-align: top;\n",
       "    }\n",
       "\n",
       "    .dataframe thead th {\n",
       "        text-align: right;\n",
       "    }\n",
       "</style>\n",
       "<table border=\"1\" class=\"dataframe\">\n",
       "  <thead>\n",
       "    <tr style=\"text-align: right;\">\n",
       "      <th></th>\n",
       "      <th>n_observations</th>\n",
       "      <th>debt ratio</th>\n",
       "      <th>n_debts</th>\n",
       "    </tr>\n",
       "    <tr>\n",
       "      <th>purpose_category</th>\n",
       "      <th></th>\n",
       "      <th></th>\n",
       "      <th></th>\n",
       "    </tr>\n",
       "  </thead>\n",
       "  <tbody>\n",
       "    <tr>\n",
       "      <th>операции с автомобилем</th>\n",
       "      <td>4267</td>\n",
       "      <td>0.093040</td>\n",
       "      <td>397</td>\n",
       "    </tr>\n",
       "    <tr>\n",
       "      <th>получение образования</th>\n",
       "      <td>3979</td>\n",
       "      <td>0.092737</td>\n",
       "      <td>369</td>\n",
       "    </tr>\n",
       "    <tr>\n",
       "      <th>проведение свадьбы</th>\n",
       "      <td>2323</td>\n",
       "      <td>0.077916</td>\n",
       "      <td>181</td>\n",
       "    </tr>\n",
       "    <tr>\n",
       "      <th>операции с недвижимостью</th>\n",
       "      <td>8260</td>\n",
       "      <td>0.072518</td>\n",
       "      <td>599</td>\n",
       "    </tr>\n",
       "    <tr>\n",
       "      <th>ремонт и строительсвто</th>\n",
       "      <td>2472</td>\n",
       "      <td>0.072006</td>\n",
       "      <td>178</td>\n",
       "    </tr>\n",
       "  </tbody>\n",
       "</table>\n",
       "</div>"
      ],
      "text/plain": [
       "                          n_observations  debt ratio  n_debts\n",
       "purpose_category                                             \n",
       "операции с автомобилем              4267    0.093040      397\n",
       "получение образования               3979    0.092737      369\n",
       "проведение свадьбы                  2323    0.077916      181\n",
       "операции с недвижимостью            8260    0.072518      599\n",
       "ремонт и строительсвто              2472    0.072006      178"
      ]
     },
     "execution_count": 37,
     "metadata": {},
     "output_type": "execute_result"
    }
   ],
   "source": [
    "answer_table('purpose_category').sort_values('debt ratio', ascending=False)"
   ]
  },
  {
   "cell_type": "markdown",
   "id": "ccf2ceb6",
   "metadata": {},
   "source": [
    "##### Вывод 3: \n",
    "* Доля невозвращенных кредитов больше всего среди операций, связанных с автомобилем и получением образования и выше доли должников по всей таблице. Доля задолженностей составляет примерно 9 %. \n",
    "* Заемы для проведения свадеб, операций с недвижимостью, а также ремонтом и строительсвтом являются более надежными. Доля задолженностей по кредиту среди этих категорий не превышает 7,8 % и ниже доли задолженностей по всей таблице."
   ]
  },
  {
   "cell_type": "markdown",
   "id": "2c0fc0f5",
   "metadata": {},
   "source": [
    "## Общий вывод:"
   ]
  },
  {
   "cell_type": "markdown",
   "id": "abd66939",
   "metadata": {},
   "source": [
    "* Наличие детей и отсутствие официально оформленного брака повышает вероятность образования долга по кредиту.\n",
    "* По кредитам для получения образования и операции с автомобилем более характерно образование задолженностей, чем по кредитам других групп.\n",
    "* Результаты могут быть некорректными из-за большого количества пропущенных значений и аномалий в таблице"
   ]
  }
 ],
 "metadata": {
  "ExecuteTimeLog": [
   {
    "duration": 76,
    "start_time": "2022-05-19T17:36:18.832Z"
   },
   {
    "duration": 1256,
    "start_time": "2022-05-19T17:36:23.379Z"
   },
   {
    "duration": 210,
    "start_time": "2022-05-19T17:36:24.637Z"
   },
   {
    "duration": 5,
    "start_time": "2022-05-19T17:36:24.849Z"
   },
   {
    "duration": 7,
    "start_time": "2022-05-19T17:36:24.856Z"
   },
   {
    "duration": 23,
    "start_time": "2022-05-19T17:36:24.865Z"
   },
   {
    "duration": 34,
    "start_time": "2022-05-19T17:36:24.889Z"
   },
   {
    "duration": 7,
    "start_time": "2022-05-19T17:36:24.925Z"
   },
   {
    "duration": 531,
    "start_time": "2022-05-19T17:36:24.933Z"
   },
   {
    "duration": 3,
    "start_time": "2022-05-19T17:36:25.466Z"
   },
   {
    "duration": 21,
    "start_time": "2022-05-19T17:36:25.471Z"
   },
   {
    "duration": 543,
    "start_time": "2022-05-19T17:36:25.494Z"
   },
   {
    "duration": 7,
    "start_time": "2022-05-19T17:36:26.039Z"
   },
   {
    "duration": 22,
    "start_time": "2022-05-19T17:36:28.654Z"
   },
   {
    "duration": 15,
    "start_time": "2022-05-19T17:36:39.118Z"
   },
   {
    "duration": 3,
    "start_time": "2022-05-19T17:40:11.403Z"
   },
   {
    "duration": 253,
    "start_time": "2022-05-19T17:40:11.411Z"
   },
   {
    "duration": 6,
    "start_time": "2022-05-19T17:40:11.666Z"
   },
   {
    "duration": 8,
    "start_time": "2022-05-19T17:40:11.684Z"
   },
   {
    "duration": 9,
    "start_time": "2022-05-19T17:40:11.694Z"
   },
   {
    "duration": 40,
    "start_time": "2022-05-19T17:40:11.704Z"
   },
   {
    "duration": 9,
    "start_time": "2022-05-19T17:40:11.746Z"
   },
   {
    "duration": 473,
    "start_time": "2022-05-19T17:40:11.784Z"
   },
   {
    "duration": 3,
    "start_time": "2022-05-19T17:40:12.258Z"
   },
   {
    "duration": 26,
    "start_time": "2022-05-19T17:40:12.262Z"
   },
   {
    "duration": 512,
    "start_time": "2022-05-19T17:40:12.290Z"
   },
   {
    "duration": 7,
    "start_time": "2022-05-19T17:40:12.804Z"
   },
   {
    "duration": 15,
    "start_time": "2022-05-19T17:40:17.519Z"
   },
   {
    "duration": 1190,
    "start_time": "2022-05-19T17:42:15.644Z"
   },
   {
    "duration": 93,
    "start_time": "2022-05-19T17:42:16.836Z"
   },
   {
    "duration": 6,
    "start_time": "2022-05-19T17:42:16.930Z"
   },
   {
    "duration": 11,
    "start_time": "2022-05-19T17:42:16.939Z"
   },
   {
    "duration": 14,
    "start_time": "2022-05-19T17:42:16.951Z"
   },
   {
    "duration": 45,
    "start_time": "2022-05-19T17:42:16.984Z"
   },
   {
    "duration": 16,
    "start_time": "2022-05-19T17:42:17.031Z"
   },
   {
    "duration": 524,
    "start_time": "2022-05-19T17:42:17.049Z"
   },
   {
    "duration": 8,
    "start_time": "2022-05-19T17:42:17.575Z"
   },
   {
    "duration": 19,
    "start_time": "2022-05-19T17:42:17.586Z"
   },
   {
    "duration": 590,
    "start_time": "2022-05-19T17:42:17.607Z"
   },
   {
    "duration": 8,
    "start_time": "2022-05-19T17:42:18.200Z"
   },
   {
    "duration": 22,
    "start_time": "2022-05-19T17:42:19.595Z"
   },
   {
    "duration": 1131,
    "start_time": "2022-05-19T17:44:01.115Z"
   },
   {
    "duration": 89,
    "start_time": "2022-05-19T17:44:02.248Z"
   },
   {
    "duration": 5,
    "start_time": "2022-05-19T17:44:02.339Z"
   },
   {
    "duration": 9,
    "start_time": "2022-05-19T17:44:02.347Z"
   },
   {
    "duration": 27,
    "start_time": "2022-05-19T17:44:02.358Z"
   },
   {
    "duration": 47,
    "start_time": "2022-05-19T17:44:02.386Z"
   },
   {
    "duration": 10,
    "start_time": "2022-05-19T17:44:02.435Z"
   },
   {
    "duration": 523,
    "start_time": "2022-05-19T17:44:02.447Z"
   },
   {
    "duration": 3,
    "start_time": "2022-05-19T17:44:02.983Z"
   },
   {
    "duration": 21,
    "start_time": "2022-05-19T17:44:02.989Z"
   },
   {
    "duration": 643,
    "start_time": "2022-05-19T17:44:03.012Z"
   },
   {
    "duration": 9,
    "start_time": "2022-05-19T17:44:03.657Z"
   },
   {
    "duration": 15,
    "start_time": "2022-05-19T17:44:08.724Z"
   },
   {
    "duration": 97,
    "start_time": "2022-05-19T17:44:16.988Z"
   },
   {
    "duration": 1272,
    "start_time": "2022-05-21T12:34:01.689Z"
   },
   {
    "duration": 317,
    "start_time": "2022-05-21T12:34:02.963Z"
   },
   {
    "duration": 6,
    "start_time": "2022-05-21T12:34:03.282Z"
   },
   {
    "duration": 61,
    "start_time": "2022-05-21T12:34:03.290Z"
   },
   {
    "duration": 5,
    "start_time": "2022-05-21T12:34:03.353Z"
   },
   {
    "duration": 10,
    "start_time": "2022-05-21T12:34:03.359Z"
   },
   {
    "duration": 50,
    "start_time": "2022-05-21T12:34:03.371Z"
   },
   {
    "duration": 8,
    "start_time": "2022-05-21T12:34:03.423Z"
   },
   {
    "duration": 551,
    "start_time": "2022-05-21T12:34:03.434Z"
   },
   {
    "duration": 3,
    "start_time": "2022-05-21T12:34:03.986Z"
   },
   {
    "duration": 22,
    "start_time": "2022-05-21T12:34:03.990Z"
   },
   {
    "duration": 454,
    "start_time": "2022-05-21T12:34:04.014Z"
   },
   {
    "duration": 6,
    "start_time": "2022-05-21T12:34:04.470Z"
   },
   {
    "duration": 18,
    "start_time": "2022-05-21T12:34:04.479Z"
   },
   {
    "duration": 925,
    "start_time": "2022-05-21T12:34:04.512Z"
   },
   {
    "duration": 5,
    "start_time": "2022-05-21T12:34:05.439Z"
   },
   {
    "duration": 16,
    "start_time": "2022-05-21T12:34:05.446Z"
   },
   {
    "duration": 64,
    "start_time": "2022-05-21T12:34:05.464Z"
   },
   {
    "duration": 23,
    "start_time": "2022-05-21T12:34:05.530Z"
   },
   {
    "duration": 3,
    "start_time": "2022-05-21T12:34:05.555Z"
   },
   {
    "duration": 12,
    "start_time": "2022-05-21T12:34:05.559Z"
   },
   {
    "duration": 50,
    "start_time": "2022-05-21T12:34:05.572Z"
   },
   {
    "duration": 14,
    "start_time": "2022-05-21T12:34:05.624Z"
   },
   {
    "duration": 5,
    "start_time": "2022-05-21T12:34:05.639Z"
   },
   {
    "duration": 17,
    "start_time": "2022-05-21T12:34:05.645Z"
   },
   {
    "duration": 9,
    "start_time": "2022-05-21T12:34:05.664Z"
   },
   {
    "duration": 122,
    "start_time": "2022-05-21T12:34:05.675Z"
   },
   {
    "duration": 26,
    "start_time": "2022-05-21T12:34:05.798Z"
   },
   {
    "duration": 13,
    "start_time": "2022-05-21T12:34:05.826Z"
   },
   {
    "duration": 3,
    "start_time": "2022-05-21T12:34:05.841Z"
   },
   {
    "duration": 15,
    "start_time": "2022-05-21T12:35:41.788Z"
   },
   {
    "duration": 15,
    "start_time": "2022-05-21T12:35:51.109Z"
   },
   {
    "duration": 1132,
    "start_time": "2022-05-21T12:36:06.086Z"
   },
   {
    "duration": 107,
    "start_time": "2022-05-21T12:36:07.220Z"
   },
   {
    "duration": 6,
    "start_time": "2022-05-21T12:36:07.329Z"
   },
   {
    "duration": 56,
    "start_time": "2022-05-21T12:36:07.337Z"
   },
   {
    "duration": 6,
    "start_time": "2022-05-21T12:36:07.411Z"
   },
   {
    "duration": 12,
    "start_time": "2022-05-21T12:36:07.419Z"
   },
   {
    "duration": 35,
    "start_time": "2022-05-21T12:36:07.433Z"
   },
   {
    "duration": 8,
    "start_time": "2022-05-21T12:36:07.470Z"
   },
   {
    "duration": 596,
    "start_time": "2022-05-21T12:36:07.480Z"
   },
   {
    "duration": 3,
    "start_time": "2022-05-21T12:36:08.077Z"
   },
   {
    "duration": 18,
    "start_time": "2022-05-21T12:36:08.081Z"
   },
   {
    "duration": 463,
    "start_time": "2022-05-21T12:36:08.101Z"
   },
   {
    "duration": 6,
    "start_time": "2022-05-21T12:36:08.566Z"
   },
   {
    "duration": 21,
    "start_time": "2022-05-21T12:36:08.576Z"
   },
   {
    "duration": 908,
    "start_time": "2022-05-21T12:36:08.611Z"
   },
   {
    "duration": 6,
    "start_time": "2022-05-21T12:36:09.521Z"
   },
   {
    "duration": 18,
    "start_time": "2022-05-21T12:36:09.529Z"
   },
   {
    "duration": 36,
    "start_time": "2022-05-21T12:36:09.549Z"
   },
   {
    "duration": 45,
    "start_time": "2022-05-21T12:36:09.587Z"
   },
   {
    "duration": 4,
    "start_time": "2022-05-21T12:36:09.634Z"
   },
   {
    "duration": 19,
    "start_time": "2022-05-21T12:36:09.640Z"
   },
   {
    "duration": 23,
    "start_time": "2022-05-21T12:36:09.661Z"
   },
   {
    "duration": 14,
    "start_time": "2022-05-21T12:36:09.712Z"
   },
   {
    "duration": 5,
    "start_time": "2022-05-21T12:36:09.728Z"
   },
   {
    "duration": 14,
    "start_time": "2022-05-21T12:36:09.734Z"
   },
   {
    "duration": 10,
    "start_time": "2022-05-21T12:36:09.749Z"
   },
   {
    "duration": 107,
    "start_time": "2022-05-21T12:36:09.760Z"
   },
   {
    "duration": 15,
    "start_time": "2022-05-21T12:36:09.869Z"
   },
   {
    "duration": 29,
    "start_time": "2022-05-21T12:36:09.885Z"
   },
   {
    "duration": 4,
    "start_time": "2022-05-21T12:36:09.916Z"
   },
   {
    "duration": 58,
    "start_time": "2022-05-22T10:20:05.263Z"
   },
   {
    "duration": 1304,
    "start_time": "2022-05-22T10:20:13.373Z"
   },
   {
    "duration": 133,
    "start_time": "2022-05-22T10:20:14.679Z"
   },
   {
    "duration": 130,
    "start_time": "2022-05-22T10:20:14.813Z"
   },
   {
    "duration": 5,
    "start_time": "2022-05-22T10:20:14.945Z"
   },
   {
    "duration": 8,
    "start_time": "2022-05-22T10:20:14.952Z"
   },
   {
    "duration": 35,
    "start_time": "2022-05-22T10:20:14.962Z"
   },
   {
    "duration": 25,
    "start_time": "2022-05-22T10:20:14.998Z"
   },
   {
    "duration": 486,
    "start_time": "2022-05-22T10:20:15.025Z"
   },
   {
    "duration": 11,
    "start_time": "2022-05-22T10:20:15.514Z"
   },
   {
    "duration": 17,
    "start_time": "2022-05-22T10:20:15.526Z"
   },
   {
    "duration": 438,
    "start_time": "2022-05-22T10:20:15.544Z"
   },
   {
    "duration": 7,
    "start_time": "2022-05-22T10:20:15.984Z"
   },
   {
    "duration": 32,
    "start_time": "2022-05-22T10:20:15.992Z"
   },
   {
    "duration": 1064,
    "start_time": "2022-05-22T10:20:16.027Z"
   },
   {
    "duration": 6,
    "start_time": "2022-05-22T10:20:17.094Z"
   },
   {
    "duration": 25,
    "start_time": "2022-05-22T10:20:17.101Z"
   },
   {
    "duration": 41,
    "start_time": "2022-05-22T10:20:17.128Z"
   },
   {
    "duration": 54,
    "start_time": "2022-05-22T10:20:17.171Z"
   },
   {
    "duration": 4,
    "start_time": "2022-05-22T10:20:17.227Z"
   },
   {
    "duration": 13,
    "start_time": "2022-05-22T10:20:17.232Z"
   },
   {
    "duration": 27,
    "start_time": "2022-05-22T10:20:17.247Z"
   },
   {
    "duration": 15,
    "start_time": "2022-05-22T10:20:17.276Z"
   },
   {
    "duration": 4,
    "start_time": "2022-05-22T10:20:17.324Z"
   },
   {
    "duration": 15,
    "start_time": "2022-05-22T10:20:17.330Z"
   },
   {
    "duration": 10,
    "start_time": "2022-05-22T10:20:17.346Z"
   },
   {
    "duration": 14,
    "start_time": "2022-05-22T10:20:17.358Z"
   },
   {
    "duration": 50,
    "start_time": "2022-05-22T10:20:17.374Z"
   },
   {
    "duration": 13,
    "start_time": "2022-05-22T10:20:17.426Z"
   },
   {
    "duration": 3,
    "start_time": "2022-05-22T10:20:17.441Z"
   },
   {
    "duration": 39,
    "start_time": "2022-05-22T10:22:07.064Z"
   },
   {
    "duration": 1244,
    "start_time": "2022-05-22T14:54:13.407Z"
   },
   {
    "duration": 304,
    "start_time": "2022-05-22T14:54:14.653Z"
   },
   {
    "duration": 116,
    "start_time": "2022-05-22T14:54:33.850Z"
   },
   {
    "duration": 6,
    "start_time": "2022-05-22T14:54:50.321Z"
   },
   {
    "duration": 5,
    "start_time": "2022-05-22T14:55:15.814Z"
   },
   {
    "duration": 8,
    "start_time": "2022-05-22T14:55:16.462Z"
   },
   {
    "duration": 35,
    "start_time": "2022-05-22T14:55:25.729Z"
   },
   {
    "duration": 7,
    "start_time": "2022-05-22T14:56:04.100Z"
   },
   {
    "duration": 578,
    "start_time": "2022-05-22T14:56:05.507Z"
   },
   {
    "duration": 2,
    "start_time": "2022-05-22T14:56:14.487Z"
   },
   {
    "duration": 1277,
    "start_time": "2022-05-25T18:09:48.196Z"
   },
   {
    "duration": 198,
    "start_time": "2022-05-25T18:09:49.475Z"
   },
   {
    "duration": 65,
    "start_time": "2022-05-25T18:09:55.222Z"
   },
   {
    "duration": 6,
    "start_time": "2022-05-25T18:09:59.608Z"
   },
   {
    "duration": 8,
    "start_time": "2022-05-25T18:10:01.242Z"
   },
   {
    "duration": 35,
    "start_time": "2022-05-25T18:10:10.083Z"
   },
   {
    "duration": 12,
    "start_time": "2022-05-25T18:10:28.592Z"
   },
   {
    "duration": 524,
    "start_time": "2022-05-25T18:10:40.200Z"
   },
   {
    "duration": 3,
    "start_time": "2022-05-25T18:10:47.855Z"
   },
   {
    "duration": 3,
    "start_time": "2022-05-25T18:12:16.426Z"
   },
   {
    "duration": 120,
    "start_time": "2022-05-25T18:20:22.391Z"
   },
   {
    "duration": 16,
    "start_time": "2022-05-25T18:20:42.113Z"
   },
   {
    "duration": 47,
    "start_time": "2022-05-25T18:24:39.839Z"
   },
   {
    "duration": 454,
    "start_time": "2022-05-25T18:25:22.882Z"
   },
   {
    "duration": 239,
    "start_time": "2022-05-25T18:25:42.949Z"
   },
   {
    "duration": 12,
    "start_time": "2022-05-25T18:26:49.721Z"
   },
   {
    "duration": 14,
    "start_time": "2022-05-25T18:26:57.489Z"
   },
   {
    "duration": 5,
    "start_time": "2022-05-25T18:27:08.246Z"
   },
   {
    "duration": 4,
    "start_time": "2022-05-25T18:27:09.008Z"
   },
   {
    "duration": 5,
    "start_time": "2022-05-25T18:27:10.468Z"
   },
   {
    "duration": 14,
    "start_time": "2022-05-25T18:27:10.803Z"
   },
   {
    "duration": 1104,
    "start_time": "2022-05-25T18:28:00.129Z"
   },
   {
    "duration": 3114,
    "start_time": "2022-05-25T18:28:57.836Z"
   },
   {
    "duration": 37,
    "start_time": "2022-05-25T18:29:50.226Z"
   },
   {
    "duration": 8094,
    "start_time": "2022-05-25T18:31:01.144Z"
   },
   {
    "duration": 407,
    "start_time": "2022-05-25T18:32:41.032Z"
   },
   {
    "duration": 5,
    "start_time": "2022-05-25T18:33:00.496Z"
   },
   {
    "duration": 4655,
    "start_time": "2022-05-25T18:33:05.985Z"
   },
   {
    "duration": 7749,
    "start_time": "2022-05-25T18:33:21.980Z"
   },
   {
    "duration": 13,
    "start_time": "2022-05-25T18:34:29.837Z"
   },
   {
    "duration": 942,
    "start_time": "2022-05-25T18:34:39.765Z"
   },
   {
    "duration": 5983,
    "start_time": "2022-05-25T18:35:21.232Z"
   },
   {
    "duration": 5556,
    "start_time": "2022-05-25T18:37:57.433Z"
   },
   {
    "duration": 1170,
    "start_time": "2022-05-25T18:39:11.608Z"
   },
   {
    "duration": 111,
    "start_time": "2022-05-25T18:39:12.781Z"
   },
   {
    "duration": 48,
    "start_time": "2022-05-25T18:39:14.190Z"
   },
   {
    "duration": 5,
    "start_time": "2022-05-25T18:39:15.398Z"
   },
   {
    "duration": 12,
    "start_time": "2022-05-25T18:39:15.753Z"
   },
   {
    "duration": 32,
    "start_time": "2022-05-25T18:39:16.695Z"
   },
   {
    "duration": 7,
    "start_time": "2022-05-25T18:39:18.753Z"
   },
   {
    "duration": 593,
    "start_time": "2022-05-25T18:39:19.237Z"
   },
   {
    "duration": 5,
    "start_time": "2022-05-25T18:39:22.372Z"
   },
   {
    "duration": 25,
    "start_time": "2022-05-25T18:39:23.703Z"
   },
   {
    "duration": 202,
    "start_time": "2022-05-25T18:39:26.377Z"
   },
   {
    "duration": 5,
    "start_time": "2022-05-25T18:39:28.551Z"
   },
   {
    "duration": 15,
    "start_time": "2022-05-25T18:39:29.073Z"
   },
   {
    "duration": 5337,
    "start_time": "2022-05-25T18:39:32.255Z"
   },
   {
    "duration": 38,
    "start_time": "2022-05-25T18:40:01.150Z"
   },
   {
    "duration": 107,
    "start_time": "2022-05-25T18:40:02.649Z"
   },
   {
    "duration": 5,
    "start_time": "2022-05-25T18:40:04.174Z"
   },
   {
    "duration": 32,
    "start_time": "2022-05-25T18:40:21.503Z"
   },
   {
    "duration": 143,
    "start_time": "2022-05-25T18:40:22.546Z"
   },
   {
    "duration": 5,
    "start_time": "2022-05-25T18:40:24.194Z"
   },
   {
    "duration": 18,
    "start_time": "2022-05-25T18:40:25.159Z"
   },
   {
    "duration": 1035,
    "start_time": "2022-05-25T18:40:32.574Z"
   },
   {
    "duration": 102,
    "start_time": "2022-05-25T18:40:33.611Z"
   },
   {
    "duration": 61,
    "start_time": "2022-05-25T18:40:33.714Z"
   },
   {
    "duration": 4,
    "start_time": "2022-05-25T18:40:33.778Z"
   },
   {
    "duration": 29,
    "start_time": "2022-05-25T18:40:33.784Z"
   },
   {
    "duration": 55,
    "start_time": "2022-05-25T18:40:33.814Z"
   },
   {
    "duration": 9,
    "start_time": "2022-05-25T18:40:33.871Z"
   },
   {
    "duration": 540,
    "start_time": "2022-05-25T18:40:33.881Z"
   },
   {
    "duration": 2,
    "start_time": "2022-05-25T18:40:34.423Z"
   },
   {
    "duration": 37,
    "start_time": "2022-05-25T18:40:34.427Z"
   },
   {
    "duration": 226,
    "start_time": "2022-05-25T18:40:34.470Z"
   },
   {
    "duration": 5,
    "start_time": "2022-05-25T18:40:34.698Z"
   },
   {
    "duration": 16,
    "start_time": "2022-05-25T18:40:34.704Z"
   },
   {
    "duration": 5349,
    "start_time": "2022-05-25T18:40:34.722Z"
   },
   {
    "duration": 6,
    "start_time": "2022-05-25T18:40:40.073Z"
   },
   {
    "duration": 20,
    "start_time": "2022-05-25T18:40:40.081Z"
   },
   {
    "duration": 37,
    "start_time": "2022-05-25T18:40:40.102Z"
   },
   {
    "duration": 41,
    "start_time": "2022-05-25T18:40:40.141Z"
   },
   {
    "duration": 4,
    "start_time": "2022-05-25T18:40:40.183Z"
   },
   {
    "duration": 14,
    "start_time": "2022-05-25T18:40:40.188Z"
   },
   {
    "duration": 24,
    "start_time": "2022-05-25T18:40:40.204Z"
   },
   {
    "duration": 42,
    "start_time": "2022-05-25T18:40:40.230Z"
   },
   {
    "duration": 15,
    "start_time": "2022-05-25T18:40:40.273Z"
   },
   {
    "duration": 13,
    "start_time": "2022-05-25T18:40:40.289Z"
   },
   {
    "duration": 5,
    "start_time": "2022-05-25T18:40:40.304Z"
   },
   {
    "duration": 12,
    "start_time": "2022-05-25T18:40:40.311Z"
   },
   {
    "duration": 14,
    "start_time": "2022-05-25T18:40:40.324Z"
   },
   {
    "duration": 35,
    "start_time": "2022-05-25T18:40:40.340Z"
   },
   {
    "duration": 6,
    "start_time": "2022-05-25T18:40:40.377Z"
   },
   {
    "duration": 7,
    "start_time": "2022-05-25T19:01:53.898Z"
   },
   {
    "duration": 11,
    "start_time": "2022-05-25T19:09:43.000Z"
   },
   {
    "duration": 30,
    "start_time": "2022-05-25T19:11:12.217Z"
   },
   {
    "duration": 1257,
    "start_time": "2022-05-25T19:11:53.583Z"
   },
   {
    "duration": 141,
    "start_time": "2022-05-25T19:11:54.842Z"
   },
   {
    "duration": 57,
    "start_time": "2022-05-25T19:11:54.985Z"
   },
   {
    "duration": 6,
    "start_time": "2022-05-25T19:11:55.045Z"
   },
   {
    "duration": 35,
    "start_time": "2022-05-25T19:11:55.052Z"
   },
   {
    "duration": 43,
    "start_time": "2022-05-25T19:11:55.089Z"
   },
   {
    "duration": 9,
    "start_time": "2022-05-25T19:11:55.134Z"
   },
   {
    "duration": 712,
    "start_time": "2022-05-25T19:11:55.145Z"
   },
   {
    "duration": 6,
    "start_time": "2022-05-25T19:11:55.861Z"
   },
   {
    "duration": 37,
    "start_time": "2022-05-25T19:11:55.874Z"
   },
   {
    "duration": 245,
    "start_time": "2022-05-25T19:11:55.912Z"
   },
   {
    "duration": 13,
    "start_time": "2022-05-25T19:11:56.159Z"
   },
   {
    "duration": 29,
    "start_time": "2022-05-25T19:11:56.174Z"
   },
   {
    "duration": 6539,
    "start_time": "2022-05-25T19:11:56.205Z"
   },
   {
    "duration": 33,
    "start_time": "2022-05-25T19:12:02.745Z"
   },
   {
    "duration": 30,
    "start_time": "2022-05-25T19:12:02.780Z"
   },
   {
    "duration": 71,
    "start_time": "2022-05-25T19:12:02.812Z"
   },
   {
    "duration": 38,
    "start_time": "2022-05-25T19:12:02.885Z"
   },
   {
    "duration": 4,
    "start_time": "2022-05-25T19:12:02.925Z"
   },
   {
    "duration": 63,
    "start_time": "2022-05-25T19:12:02.931Z"
   },
   {
    "duration": 32,
    "start_time": "2022-05-25T19:12:02.996Z"
   },
   {
    "duration": 20,
    "start_time": "2022-05-25T19:12:03.030Z"
   },
   {
    "duration": 5,
    "start_time": "2022-05-25T19:12:03.052Z"
   },
   {
    "duration": 34,
    "start_time": "2022-05-25T19:12:03.060Z"
   },
   {
    "duration": 10,
    "start_time": "2022-05-25T19:12:03.096Z"
   },
   {
    "duration": 20,
    "start_time": "2022-05-25T19:12:03.107Z"
   },
   {
    "duration": 17,
    "start_time": "2022-05-25T19:12:03.129Z"
   },
   {
    "duration": 24,
    "start_time": "2022-05-25T19:12:03.149Z"
   },
   {
    "duration": 6,
    "start_time": "2022-05-25T19:12:03.175Z"
   },
   {
    "duration": 794,
    "start_time": "2022-05-25T19:15:25.000Z"
   },
   {
    "duration": 1135,
    "start_time": "2022-05-25T19:15:55.876Z"
   },
   {
    "duration": 116,
    "start_time": "2022-05-25T19:15:57.013Z"
   },
   {
    "duration": 73,
    "start_time": "2022-05-25T19:15:58.913Z"
   },
   {
    "duration": 7,
    "start_time": "2022-05-25T19:15:59.687Z"
   },
   {
    "duration": 9,
    "start_time": "2022-05-25T19:16:00.009Z"
   },
   {
    "duration": 35,
    "start_time": "2022-05-25T19:16:00.688Z"
   },
   {
    "duration": 7,
    "start_time": "2022-05-25T19:16:02.634Z"
   },
   {
    "duration": 627,
    "start_time": "2022-05-25T19:16:03.034Z"
   },
   {
    "duration": 4,
    "start_time": "2022-05-25T19:16:04.894Z"
   },
   {
    "duration": 53,
    "start_time": "2022-05-25T19:16:07.616Z"
   },
   {
    "duration": 252,
    "start_time": "2022-05-25T19:16:12.499Z"
   },
   {
    "duration": 4,
    "start_time": "2022-05-25T19:16:14.487Z"
   },
   {
    "duration": 17,
    "start_time": "2022-05-25T19:16:16.377Z"
   },
   {
    "duration": 6084,
    "start_time": "2022-05-25T19:16:22.343Z"
   },
   {
    "duration": 13,
    "start_time": "2022-05-25T19:16:28.430Z"
   },
   {
    "duration": 33,
    "start_time": "2022-05-25T19:16:28.465Z"
   },
   {
    "duration": 13,
    "start_time": "2022-05-25T19:18:03.628Z"
   },
   {
    "duration": 10,
    "start_time": "2022-05-25T19:18:05.608Z"
   },
   {
    "duration": 18,
    "start_time": "2022-05-25T19:18:10.789Z"
   },
   {
    "duration": 37,
    "start_time": "2022-05-25T19:18:29.239Z"
   },
   {
    "duration": 54,
    "start_time": "2022-05-25T19:25:03.247Z"
   },
   {
    "duration": 5,
    "start_time": "2022-05-25T19:26:25.604Z"
   },
   {
    "duration": 25,
    "start_time": "2022-05-25T19:26:42.107Z"
   },
   {
    "duration": 102,
    "start_time": "2022-05-25T19:26:57.787Z"
   },
   {
    "duration": 39,
    "start_time": "2022-05-25T19:30:40.996Z"
   },
   {
    "duration": 711,
    "start_time": "2022-05-25T19:32:44.299Z"
   },
   {
    "duration": 217,
    "start_time": "2022-05-25T19:32:52.892Z"
   },
   {
    "duration": 173,
    "start_time": "2022-05-25T19:33:03.434Z"
   },
   {
    "duration": 27,
    "start_time": "2022-05-25T19:33:17.952Z"
   },
   {
    "duration": 19,
    "start_time": "2022-05-25T19:39:52.086Z"
   },
   {
    "duration": 12,
    "start_time": "2022-05-25T19:39:54.098Z"
   },
   {
    "duration": 4,
    "start_time": "2022-05-25T19:40:01.580Z"
   },
   {
    "duration": 11,
    "start_time": "2022-05-25T19:40:02.697Z"
   },
   {
    "duration": 10,
    "start_time": "2022-05-25T19:40:09.868Z"
   },
   {
    "duration": 13,
    "start_time": "2022-05-25T19:40:10.780Z"
   },
   {
    "duration": 10,
    "start_time": "2022-05-25T19:40:17.456Z"
   },
   {
    "duration": 22,
    "start_time": "2022-05-25T19:41:43.595Z"
   },
   {
    "duration": 3,
    "start_time": "2022-05-25T19:45:11.833Z"
   },
   {
    "duration": 14,
    "start_time": "2022-05-25T19:45:24.319Z"
   },
   {
    "duration": 3,
    "start_time": "2022-05-25T19:46:49.185Z"
   },
   {
    "duration": 17,
    "start_time": "2022-05-25T19:46:49.742Z"
   },
   {
    "duration": 26,
    "start_time": "2022-05-25T19:46:54.445Z"
   },
   {
    "duration": 48,
    "start_time": "2022-05-25T19:47:11.747Z"
   },
   {
    "duration": 17,
    "start_time": "2022-05-25T19:47:18.006Z"
   },
   {
    "duration": 21,
    "start_time": "2022-05-25T19:47:49.095Z"
   },
   {
    "duration": 3,
    "start_time": "2022-05-25T19:49:46.375Z"
   },
   {
    "duration": 10,
    "start_time": "2022-05-25T19:49:46.775Z"
   },
   {
    "duration": 5,
    "start_time": "2022-05-25T19:49:59.251Z"
   },
   {
    "duration": 13,
    "start_time": "2022-05-25T19:49:59.672Z"
   },
   {
    "duration": 3,
    "start_time": "2022-05-25T19:50:20.724Z"
   },
   {
    "duration": 16,
    "start_time": "2022-05-25T19:50:21.067Z"
   },
   {
    "duration": 21,
    "start_time": "2022-05-25T19:50:34.180Z"
   },
   {
    "duration": 14,
    "start_time": "2022-05-25T19:50:55.896Z"
   },
   {
    "duration": 16,
    "start_time": "2022-05-25T19:51:15.401Z"
   },
   {
    "duration": 19,
    "start_time": "2022-05-25T19:52:08.115Z"
   },
   {
    "duration": 4,
    "start_time": "2022-05-25T19:52:20.218Z"
   },
   {
    "duration": 1131,
    "start_time": "2022-05-25T19:52:39.280Z"
   },
   {
    "duration": 131,
    "start_time": "2022-05-25T19:52:40.413Z"
   },
   {
    "duration": 70,
    "start_time": "2022-05-25T19:52:40.546Z"
   },
   {
    "duration": 5,
    "start_time": "2022-05-25T19:52:40.618Z"
   },
   {
    "duration": 12,
    "start_time": "2022-05-25T19:52:40.624Z"
   },
   {
    "duration": 63,
    "start_time": "2022-05-25T19:52:40.638Z"
   },
   {
    "duration": 8,
    "start_time": "2022-05-25T19:52:40.702Z"
   },
   {
    "duration": 529,
    "start_time": "2022-05-25T19:52:40.713Z"
   },
   {
    "duration": 3,
    "start_time": "2022-05-25T19:52:41.244Z"
   },
   {
    "duration": 46,
    "start_time": "2022-05-25T19:52:41.249Z"
   },
   {
    "duration": 239,
    "start_time": "2022-05-25T19:52:41.296Z"
   },
   {
    "duration": 6,
    "start_time": "2022-05-25T19:52:41.536Z"
   },
   {
    "duration": 39,
    "start_time": "2022-05-25T19:52:41.543Z"
   },
   {
    "duration": 5447,
    "start_time": "2022-05-25T19:52:41.584Z"
   },
   {
    "duration": 10,
    "start_time": "2022-05-25T19:52:47.033Z"
   },
   {
    "duration": 37,
    "start_time": "2022-05-25T19:52:47.044Z"
   },
   {
    "duration": 29,
    "start_time": "2022-05-25T19:52:47.082Z"
   },
   {
    "duration": 112,
    "start_time": "2022-05-25T19:52:47.113Z"
   },
   {
    "duration": 36,
    "start_time": "2022-05-25T19:52:47.227Z"
   },
   {
    "duration": 24,
    "start_time": "2022-05-25T19:52:47.264Z"
   },
   {
    "duration": 10,
    "start_time": "2022-05-25T19:52:47.290Z"
   },
   {
    "duration": 13,
    "start_time": "2022-05-25T19:52:47.302Z"
   },
   {
    "duration": 15,
    "start_time": "2022-05-25T19:52:47.317Z"
   },
   {
    "duration": 17,
    "start_time": "2022-05-25T19:52:47.334Z"
   },
   {
    "duration": 25,
    "start_time": "2022-05-25T19:52:47.353Z"
   },
   {
    "duration": 21,
    "start_time": "2022-05-25T19:52:47.380Z"
   },
   {
    "duration": 19,
    "start_time": "2022-05-25T19:52:47.404Z"
   },
   {
    "duration": 15,
    "start_time": "2022-05-25T19:52:47.426Z"
   },
   {
    "duration": 14,
    "start_time": "2022-05-25T19:52:47.442Z"
   },
   {
    "duration": 11,
    "start_time": "2022-05-25T19:52:47.457Z"
   },
   {
    "duration": 1136,
    "start_time": "2022-05-25T19:54:34.167Z"
   },
   {
    "duration": 104,
    "start_time": "2022-05-25T19:54:35.305Z"
   },
   {
    "duration": 62,
    "start_time": "2022-05-25T19:54:35.411Z"
   },
   {
    "duration": 15,
    "start_time": "2022-05-25T19:54:35.475Z"
   },
   {
    "duration": 47,
    "start_time": "2022-05-25T19:54:35.492Z"
   },
   {
    "duration": 81,
    "start_time": "2022-05-25T19:54:35.540Z"
   },
   {
    "duration": 7,
    "start_time": "2022-05-25T19:54:35.623Z"
   },
   {
    "duration": 582,
    "start_time": "2022-05-25T19:54:35.631Z"
   },
   {
    "duration": 3,
    "start_time": "2022-05-25T19:54:36.215Z"
   },
   {
    "duration": 74,
    "start_time": "2022-05-25T19:54:36.220Z"
   },
   {
    "duration": 234,
    "start_time": "2022-05-25T19:54:36.296Z"
   },
   {
    "duration": 5,
    "start_time": "2022-05-25T19:54:36.532Z"
   },
   {
    "duration": 64,
    "start_time": "2022-05-25T19:54:36.539Z"
   },
   {
    "duration": 5528,
    "start_time": "2022-05-25T19:54:36.604Z"
   },
   {
    "duration": 9,
    "start_time": "2022-05-25T19:54:42.134Z"
   },
   {
    "duration": 57,
    "start_time": "2022-05-25T19:54:42.145Z"
   },
   {
    "duration": 19,
    "start_time": "2022-05-25T19:54:42.204Z"
   },
   {
    "duration": 76,
    "start_time": "2022-05-25T19:54:42.225Z"
   },
   {
    "duration": 21,
    "start_time": "2022-05-25T19:54:42.302Z"
   },
   {
    "duration": 12,
    "start_time": "2022-05-25T19:54:42.325Z"
   },
   {
    "duration": 9,
    "start_time": "2022-05-25T19:54:42.362Z"
   },
   {
    "duration": 27,
    "start_time": "2022-05-25T19:54:42.377Z"
   },
   {
    "duration": 5,
    "start_time": "2022-05-25T19:54:42.406Z"
   },
   {
    "duration": 18,
    "start_time": "2022-05-25T19:54:42.413Z"
   },
   {
    "duration": 7,
    "start_time": "2022-05-25T19:54:42.433Z"
   },
   {
    "duration": 6,
    "start_time": "2022-05-25T19:54:42.442Z"
   },
   {
    "duration": 20,
    "start_time": "2022-05-25T19:54:42.449Z"
   },
   {
    "duration": 33,
    "start_time": "2022-05-25T19:54:42.472Z"
   },
   {
    "duration": 25,
    "start_time": "2022-05-25T19:54:42.506Z"
   },
   {
    "duration": 3,
    "start_time": "2022-05-25T19:54:42.532Z"
   },
   {
    "duration": 1086,
    "start_time": "2022-05-25T19:55:43.585Z"
   },
   {
    "duration": 101,
    "start_time": "2022-05-25T19:55:44.672Z"
   },
   {
    "duration": 51,
    "start_time": "2022-05-25T19:55:44.774Z"
   },
   {
    "duration": 4,
    "start_time": "2022-05-25T19:55:44.827Z"
   },
   {
    "duration": 9,
    "start_time": "2022-05-25T19:55:44.833Z"
   },
   {
    "duration": 49,
    "start_time": "2022-05-25T19:55:44.862Z"
   },
   {
    "duration": 7,
    "start_time": "2022-05-25T19:55:44.913Z"
   },
   {
    "duration": 604,
    "start_time": "2022-05-25T19:55:44.922Z"
   },
   {
    "duration": 3,
    "start_time": "2022-05-25T19:55:45.527Z"
   },
   {
    "duration": 73,
    "start_time": "2022-05-25T19:55:45.531Z"
   },
   {
    "duration": 231,
    "start_time": "2022-05-25T19:55:45.605Z"
   },
   {
    "duration": 5,
    "start_time": "2022-05-25T19:55:45.838Z"
   },
   {
    "duration": 44,
    "start_time": "2022-05-25T19:55:45.844Z"
   },
   {
    "duration": 5168,
    "start_time": "2022-05-25T19:55:45.894Z"
   },
   {
    "duration": 19,
    "start_time": "2022-05-25T19:55:51.070Z"
   },
   {
    "duration": 40,
    "start_time": "2022-05-25T19:55:51.091Z"
   },
   {
    "duration": 18,
    "start_time": "2022-05-25T19:55:51.132Z"
   },
   {
    "duration": 89,
    "start_time": "2022-05-25T19:55:51.152Z"
   },
   {
    "duration": 32,
    "start_time": "2022-05-25T19:55:51.243Z"
   },
   {
    "duration": 52,
    "start_time": "2022-05-25T19:55:51.276Z"
   },
   {
    "duration": 16,
    "start_time": "2022-05-25T19:55:51.330Z"
   },
   {
    "duration": 50,
    "start_time": "2022-05-25T19:55:51.348Z"
   },
   {
    "duration": 20,
    "start_time": "2022-05-25T19:55:51.400Z"
   },
   {
    "duration": 36,
    "start_time": "2022-05-25T19:55:51.422Z"
   },
   {
    "duration": 25,
    "start_time": "2022-05-25T19:55:51.461Z"
   },
   {
    "duration": 23,
    "start_time": "2022-05-25T19:55:51.490Z"
   },
   {
    "duration": 30,
    "start_time": "2022-05-25T19:55:51.515Z"
   },
   {
    "duration": 53,
    "start_time": "2022-05-25T19:55:51.547Z"
   },
   {
    "duration": 21,
    "start_time": "2022-05-25T19:55:51.602Z"
   },
   {
    "duration": 15,
    "start_time": "2022-05-25T19:55:51.625Z"
   },
   {
    "duration": 1651,
    "start_time": "2022-05-26T07:19:19.563Z"
   },
   {
    "duration": 263,
    "start_time": "2022-05-26T07:19:21.216Z"
   },
   {
    "duration": 64,
    "start_time": "2022-05-26T07:19:21.481Z"
   },
   {
    "duration": 6,
    "start_time": "2022-05-26T07:19:21.548Z"
   },
   {
    "duration": 16,
    "start_time": "2022-05-26T07:19:21.555Z"
   },
   {
    "duration": 64,
    "start_time": "2022-05-26T07:19:21.573Z"
   },
   {
    "duration": 8,
    "start_time": "2022-05-26T07:19:21.639Z"
   },
   {
    "duration": 741,
    "start_time": "2022-05-26T07:19:21.649Z"
   },
   {
    "duration": 4,
    "start_time": "2022-05-26T07:19:22.393Z"
   },
   {
    "duration": 30,
    "start_time": "2022-05-26T07:19:22.421Z"
   },
   {
    "duration": 7,
    "start_time": "2022-05-26T07:19:38.213Z"
   },
   {
    "duration": 9,
    "start_time": "2022-05-26T07:19:58.229Z"
   },
   {
    "duration": 6,
    "start_time": "2022-05-26T07:20:49.652Z"
   },
   {
    "duration": 10,
    "start_time": "2022-05-26T07:22:05.380Z"
   },
   {
    "duration": 954,
    "start_time": "2022-05-26T07:22:30.050Z"
   },
   {
    "duration": 29,
    "start_time": "2022-05-26T07:22:33.717Z"
   },
   {
    "duration": 27,
    "start_time": "2022-05-26T07:23:26.028Z"
   },
   {
    "duration": 11,
    "start_time": "2022-05-26T07:23:47.764Z"
   },
   {
    "duration": 26,
    "start_time": "2022-05-26T07:23:55.011Z"
   },
   {
    "duration": 9,
    "start_time": "2022-05-26T09:41:11.425Z"
   },
   {
    "duration": 24,
    "start_time": "2022-05-26T09:41:26.776Z"
   },
   {
    "duration": 11,
    "start_time": "2022-05-26T09:41:38.321Z"
   },
   {
    "duration": 3,
    "start_time": "2022-05-26T09:41:57.254Z"
   },
   {
    "duration": 144,
    "start_time": "2022-05-26T09:41:57.260Z"
   },
   {
    "duration": 18,
    "start_time": "2022-05-26T09:41:57.406Z"
   },
   {
    "duration": 6,
    "start_time": "2022-05-26T09:41:57.426Z"
   },
   {
    "duration": 9,
    "start_time": "2022-05-26T09:41:57.434Z"
   },
   {
    "duration": 66,
    "start_time": "2022-05-26T09:41:57.445Z"
   },
   {
    "duration": 8,
    "start_time": "2022-05-26T09:41:57.513Z"
   },
   {
    "duration": 614,
    "start_time": "2022-05-26T09:41:57.522Z"
   },
   {
    "duration": 3,
    "start_time": "2022-05-26T09:41:58.139Z"
   },
   {
    "duration": 57,
    "start_time": "2022-05-26T09:41:58.145Z"
   },
   {
    "duration": 8,
    "start_time": "2022-05-26T09:42:00.369Z"
   }
  ],
  "kernelspec": {
   "display_name": "Python 3 (ipykernel)",
   "language": "python",
   "name": "python3"
  },
  "language_info": {
   "codemirror_mode": {
    "name": "ipython",
    "version": 3
   },
   "file_extension": ".py",
   "mimetype": "text/x-python",
   "name": "python",
   "nbconvert_exporter": "python",
   "pygments_lexer": "ipython3",
   "version": "3.12.2"
  },
  "toc": {
   "base_numbering": 1,
   "nav_menu": {},
   "number_sections": true,
   "sideBar": true,
   "skip_h1_title": true,
   "title_cell": "Table of Contents",
   "title_sidebar": "Contents",
   "toc_cell": false,
   "toc_position": {},
   "toc_section_display": true,
   "toc_window_display": false
  }
 },
 "nbformat": 4,
 "nbformat_minor": 5
}
