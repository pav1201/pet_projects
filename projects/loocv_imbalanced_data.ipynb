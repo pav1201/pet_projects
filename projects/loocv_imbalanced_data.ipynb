{
 "cells": [
  {
   "cell_type": "markdown",
   "metadata": {
    "id": "4XO0maw0YF7o"
   },
   "source": [
    "# Анализ ROC кривых на аспиратах"
   ]
  },
  {
   "cell_type": "code",
   "execution_count": 1,
   "metadata": {
    "id": "zZyn7XgGJWOu"
   },
   "outputs": [],
   "source": [
    "import pandas as pd\n",
    "import numpy as np\n",
    "from math import floor\n",
    "import seaborn as sns\n",
    "sns.set_theme()\n",
    "import matplotlib.pyplot as plt\n",
    "\n",
    "from sklearn.model_selection import (LeaveOneOut, cross_val_score)\n",
    "from sklearn.preprocessing import StandardScaler, LabelBinarizer\n",
    "from imblearn.over_sampling import SMOTE\n",
    "from sklearn.utils import resample\n",
    "\n",
    "from sklearn.linear_model import LogisticRegression"
   ]
  },
  {
   "cell_type": "markdown",
   "metadata": {
    "id": "9rTHNSi_1q0k"
   },
   "source": [
    "# Задача\n",
    "\n",
    "Сравнить консистентность accuracy модели логистической регрессии в задаче классификации больных раком яичников и здоровых доноров."
   ]
  },
  {
   "cell_type": "code",
   "execution_count": 3,
   "metadata": {
    "colab": {
     "base_uri": "https://localhost:8080/"
    },
    "id": "jX-I7tGWH9CL",
    "outputId": "7386fed3-ef18-4d47-81eb-22a4a2d3d554"
   },
   "outputs": [
    {
     "name": "stderr",
     "output_type": "stream",
     "text": [
      "<ipython-input-3-909990a1a7c0>:5: SettingWithCopyWarning: \n",
      "A value is trying to be set on a copy of a slice from a DataFrame.\n",
      "Try using .loc[row_indexer,col_indexer] = value instead\n",
      "\n",
      "See the caveats in the documentation: https://pandas.pydata.org/pandas-docs/stable/user_guide/indexing.html#returning-a-view-versus-a-copy\n",
      "  ca125_data['BRCA'] = ca125_data['BRCA'].replace({'F': 0, 'wt': 0, 'T':1}).fillna(0)\n"
     ]
    }
   ],
   "source": [
    "orig_data = pd.read_excel('/content/test_results_trh_otx.xlsx')\n",
    "orig_data = orig_data.query(\"tissue == 'aspirate'\")\n",
    "ca125_data = orig_data.query(\"mkb in ['C56', 'C57', 'N']\",\n",
    "                             engine='python')\n",
    "ca125_data['BRCA'] = ca125_data['BRCA'].replace({'F': 0, 'wt': 0, 'T':1}).fillna(0)"
   ]
  },
  {
   "cell_type": "markdown",
   "metadata": {
    "id": "kMuzV7wgOdGT"
   },
   "source": [
    "## Подготовка данных"
   ]
  },
  {
   "cell_type": "markdown",
   "metadata": {
    "id": "eOfEtXFBHlH6"
   },
   "source": [
    "Заполним CA125 в нормах данными из [Factors Influencing Serum CA125II Levels in Healthy Postmenopausal Women](https://aacrjournals.org/cebp/article/10/5/489/253422/Factors-Influencing-Serum-CA125II-Levels-in) для белой популяции (17,852 женщин, часть из которых стали раковыми больными). Медиана CA125 14.2 Е/мл. 95% CI 6.0–41.0 Е/мл\n",
    "\n",
    "\n",
    "Возраст 58.2 (40.9–60.2)"
   ]
  },
  {
   "cell_type": "markdown",
   "metadata": {
    "id": "YcOyBS2kHo0q"
   },
   "source": [
    "* Известно, что уровни CA125 нормализуют и приводят к нормальному распределнию, рассчитывая логарифм значений содержания белка.\n",
    "\n",
    "* Для генерации значений СА125 будем использовать лог-нормальное распределение.\n",
    "\n",
    "* Нам известны медиана и доверительный интервал значений СА125. Прологарифмируем их и приравняем медиану к среднему, чтобы рассчитать стандартное отклонение. Так как в статье среднее не указано.\n",
    "\n",
    "* Стандартное отклонение найдем по [формуле](https://handbook-5-1.cochrane.org/chapter_7/7_7_3_3_obtaining_standard_deviations_from_standard_errors.htm):\n",
    "\n",
    "$$ SE = (upCI - lowCI) / 3.92 $$\n",
    "\n",
    "$$ SD = \\sqrt{SE} $$\n",
    "\n",
    "* Сгенерируем лог-нормальные значения и возведем их в экспоненциальную степень, чтобы избавиться от логарифма"
   ]
  },
  {
   "cell_type": "code",
   "execution_count": 4,
   "metadata": {
    "id": "7jw3irZWHmNq"
   },
   "outputs": [],
   "source": [
    "mu = np.log(14.2)\n",
    "se = np.log((41 - 6)) / 3.92\n",
    "sd = se ** 0.5\n",
    "samples = ca125_data.loc[ca125_data['CA125'].isna(), 'CA125'].shape[0]"
   ]
  },
  {
   "cell_type": "code",
   "execution_count": 5,
   "metadata": {
    "id": "mcOXhufmIRaL"
   },
   "outputs": [],
   "source": [
    "rng = np.random.default_rng(42)\n",
    "ca_values = rng.lognormal(mu, sd, samples)"
   ]
  },
  {
   "cell_type": "markdown",
   "metadata": {
    "id": "bSLjWHNCJn4-"
   },
   "source": [
    "Добавим сгенерированные значения СА125"
   ]
  },
  {
   "cell_type": "code",
   "execution_count": 6,
   "metadata": {
    "id": "vX87jyz8IbQ-"
   },
   "outputs": [],
   "source": [
    "ca125_data.loc[ca125_data['CA125'].isna(), 'CA125'] = ca_values"
   ]
  },
  {
   "cell_type": "markdown",
   "metadata": {
    "id": "kdCYaXJgJuVq"
   },
   "source": [
    "Прологарифмируем значения признаков для работы с линейной моделью."
   ]
  },
  {
   "cell_type": "code",
   "execution_count": 7,
   "metadata": {
    "colab": {
     "base_uri": "https://localhost:8080/"
    },
    "id": "WcaP2qg0IeSW",
    "outputId": "03a99a1e-3e87-48f1-a495-8e26bcc6fd25"
   },
   "outputs": [
    {
     "name": "stderr",
     "output_type": "stream",
     "text": [
      "<ipython-input-7-147653c04d5a>:1: SettingWithCopyWarning: \n",
      "A value is trying to be set on a copy of a slice from a DataFrame.\n",
      "Try using .loc[row_indexer,col_indexer] = value instead\n",
      "\n",
      "See the caveats in the documentation: https://pandas.pydata.org/pandas-docs/stable/user_guide/indexing.html#returning-a-view-versus-a-copy\n",
      "  ca125_data[['OTX1', 'TRH', 'CA125', 'BRCA']] += 0.01\n",
      "<ipython-input-7-147653c04d5a>:2: SettingWithCopyWarning: \n",
      "A value is trying to be set on a copy of a slice from a DataFrame.\n",
      "Try using .loc[row_indexer,col_indexer] = value instead\n",
      "\n",
      "See the caveats in the documentation: https://pandas.pydata.org/pandas-docs/stable/user_guide/indexing.html#returning-a-view-versus-a-copy\n",
      "  ca125_data[['OTX1', 'TRH', 'CA125', 'BRCA']] = np.log(ca125_data[['OTX1', 'TRH', 'CA125', 'BRCA']])\n"
     ]
    }
   ],
   "source": [
    "ca125_data[['OTX1', 'TRH', 'CA125', 'BRCA']] += 0.01\n",
    "ca125_data[['OTX1', 'TRH', 'CA125', 'BRCA']] = np.log(ca125_data[['OTX1', 'TRH', 'CA125', 'BRCA']])"
   ]
  },
  {
   "cell_type": "markdown",
   "metadata": {
    "id": "poPH4d9aKlcO"
   },
   "source": [
    "Добавим столбец с классами"
   ]
  },
  {
   "cell_type": "code",
   "execution_count": 8,
   "metadata": {
    "colab": {
     "base_uri": "https://localhost:8080/"
    },
    "id": "al7MGn6tKpD2",
    "outputId": "0801ab62-32a7-4bdb-c816-a2c0703f0ed8"
   },
   "outputs": [
    {
     "name": "stderr",
     "output_type": "stream",
     "text": [
      "<ipython-input-8-edfa3c178cd2>:1: SettingWithCopyWarning: \n",
      "A value is trying to be set on a copy of a slice from a DataFrame.\n",
      "Try using .loc[row_indexer,col_indexer] = value instead\n",
      "\n",
      "See the caveats in the documentation: https://pandas.pydata.org/pandas-docs/stable/user_guide/indexing.html#returning-a-view-versus-a-copy\n",
      "  ca125_data['is_t'] = ca125_data['mkb'].apply(lambda row: 0 if row == 'N' else 1)\n"
     ]
    }
   ],
   "source": [
    "ca125_data['is_t'] = ca125_data['mkb'].apply(lambda row: 0 if row == 'N' else 1)"
   ]
  },
  {
   "cell_type": "code",
   "execution_count": 9,
   "metadata": {
    "colab": {
     "base_uri": "https://localhost:8080/",
     "height": 544
    },
    "id": "i5N_msFfNp1v",
    "outputId": "83989245-9f1c-4fd2-e8de-a926e3938d78"
   },
   "outputs": [
    {
     "data": {
      "image/png": "[encoded data removed]",
      "text/plain": [
       "<Figure size 640x480 with 1 Axes>"
      ]
     },
     "metadata": {},
     "output_type": "display_data"
    },
    {
     "data": {
      "text/plain": [
       "is_t\n",
       "1    68\n",
       "0    35\n",
       "Name: count, dtype: int64"
      ]
     },
     "execution_count": 9,
     "metadata": {},
     "output_type": "execute_result"
    }
   ],
   "source": [
    "ca125_data['is_t'].value_counts().plot(kind='bar')\n",
    "plt.title('Образцы норм и опухолей')\n",
    "plt.show()\n",
    "ca125_data['is_t'].value_counts()"
   ]
  },
  {
   "cell_type": "code",
   "execution_count": 10,
   "metadata": {
    "colab": {
     "base_uri": "https://localhost:8080/",
     "height": 480
    },
    "id": "YjmdeCdQXg2f",
    "outputId": "6e4c0f41-a86d-4ac1-83ec-e9d5304e1ad3"
   },
   "outputs": [
    {
     "data": {
      "image/png": "[encoded data removed]",
      "text/plain": [
       "<Figure size 640x480 with 1 Axes>"
      ]
     },
     "metadata": {},
     "output_type": "display_data"
    }
   ],
   "source": [
    "genes = ['OTX1', 'TRH', 'is_t']\n",
    "palette = {'N': \"b\", 'T': \"r\"}\n",
    "\n",
    "plot_data = np.exp(ca125_data[genes])\n",
    "plot_data.loc[plot_data['is_t']==1, 'is_t'] = 'N'\n",
    "plot_data.loc[plot_data['is_t']!='N', 'is_t'] = 'T'\n",
    "plot_data = pd.melt(plot_data, value_vars=['TRH', 'OTX1', ], id_vars='is_t',\n",
    "                    value_name='Methylation', var_name='Biomarker')\n",
    "plot_data['Aspirate type'] = plot_data['is_t']\n",
    "\n",
    "plt.title(f\"Biomarkers levels\")\n",
    "ax = sns.boxplot(data=plot_data, x='Biomarker', y='Methylation', hue='Aspirate type',\n",
    "              palette=palette\n",
    "              )\n",
    "plt.show()"
   ]
  },
  {
   "cell_type": "markdown",
   "metadata": {
    "id": "4o9hVsmuWFj2"
   },
   "source": [
    "## Так как мы используем моедль с малым числом образцов, мы проведем leave one out валидацию для того, чтобы оценить воспроизводимость ее работы"
   ]
  },
  {
   "cell_type": "markdown",
   "metadata": {
    "id": "5OwDD6E9zeKn"
   },
   "source": [
    "Подготовим данные"
   ]
  },
  {
   "cell_type": "code",
   "execution_count": 11,
   "metadata": {
    "colab": {
     "base_uri": "https://localhost:8080/"
    },
    "id": "-PUAkrzSNbns",
    "outputId": "ab74ccf6-3f50-410d-b157-b072eccb5645"
   },
   "outputs": [
    {
     "name": "stderr",
     "output_type": "stream",
     "text": [
      "<ipython-input-11-18da437284c1>:1: SettingWithCopyWarning: \n",
      "A value is trying to be set on a copy of a slice from a DataFrame\n",
      "\n",
      "See the caveats in the documentation: https://pandas.pydata.org/pandas-docs/stable/user_guide/indexing.html#returning-a-view-versus-a-copy\n",
      "  ca125_data.dropna(subset=['TRH', 'OTX1', 'CA125'], inplace=True)\n"
     ]
    },
    {
     "data": {
      "text/plain": [
       "(97, 35)"
      ]
     },
     "execution_count": 11,
     "metadata": {},
     "output_type": "execute_result"
    }
   ],
   "source": [
    "ca125_data.dropna(subset=['TRH', 'OTX1', 'CA125'], inplace=True)\n",
    "ca125_data.set_index('id', inplace=True)\n",
    "ca125_data.shape"
   ]
  },
  {
   "cell_type": "markdown",
   "metadata": {
    "id": "7PeRKUHr2TG3"
   },
   "source": [
    "Так как в нашей выборке нормальных образцов меньше, чем опухолевых, а метрика чувствительна к дисбалансу классов, мы проведем upsampling нормальных образцов методом SMOTE."
   ]
  },
  {
   "cell_type": "markdown",
   "metadata": {
    "id": "ndPATLEJYTkS"
   },
   "source": [
    "### 3 features"
   ]
  },
  {
   "cell_type": "code",
   "execution_count": 12,
   "metadata": {
    "id": "X0gk_wL2Pawf"
   },
   "outputs": [],
   "source": [
    "X = ca125_data[['TRH', 'OTX1', 'CA125']]\n",
    "y = ca125_data['is_t']"
   ]
  },
  {
   "cell_type": "code",
   "execution_count": 13,
   "metadata": {
    "colab": {
     "base_uri": "https://localhost:8080/"
    },
    "id": "ZTJlpPulV3Vb",
    "outputId": "a7058edb-9a19-40ee-e6aa-8dc1f5c00b90"
   },
   "outputs": [
    {
     "name": "stdout",
     "output_type": "stream",
     "text": [
      "Accuracy: 0.750 (0.433)\n",
      "CPU times: user 260 ms, sys: 84.5 ms, total: 344 ms\n",
      "Wall time: 3.24 s\n"
     ]
    }
   ],
   "source": [
    "%%time\n",
    "\n",
    "# transform the dataset\n",
    "oversample = SMOTE(random_state=42)\n",
    "X, y = oversample.fit_resample(X, y)\n",
    "\n",
    "cv = LeaveOneOut()\n",
    "# create model\n",
    "model = LogisticRegression(random_state=42)\n",
    "# evaluate model\n",
    "scores_all = cross_val_score(model, X, y, scoring='accuracy', cv=cv, n_jobs=-1)\n",
    "# report performance\n",
    "print('Accuracy: %.3f (%.3f)' % (np.mean(scores_all), np.std(scores_all)))"
   ]
  },
  {
   "cell_type": "markdown",
   "metadata": {
    "id": "ccWRw7P1Yfd6"
   },
   "source": [
    "### TRH"
   ]
  },
  {
   "cell_type": "code",
   "execution_count": 14,
   "metadata": {
    "id": "diiSI-yrYWfK"
   },
   "outputs": [],
   "source": [
    "X = ca125_data[['TRH']]\n",
    "y = ca125_data['is_t']"
   ]
  },
  {
   "cell_type": "code",
   "execution_count": 15,
   "metadata": {
    "colab": {
     "base_uri": "https://localhost:8080/"
    },
    "id": "kWjwPiuaYlk5",
    "outputId": "e0df0824-1ecb-4e9e-e68d-0716316cb74d"
   },
   "outputs": [
    {
     "name": "stdout",
     "output_type": "stream",
     "text": [
      "Accuracy: 0.637 (0.481)\n",
      "CPU times: user 112 ms, sys: 2.11 ms, total: 114 ms\n",
      "Wall time: 751 ms\n"
     ]
    }
   ],
   "source": [
    "%%time\n",
    "\n",
    "# transform the dataset\n",
    "oversample = SMOTE(random_state=42)\n",
    "X, y = oversample.fit_resample(X, y)\n",
    "\n",
    "cv = LeaveOneOut()\n",
    "# create model\n",
    "model = LogisticRegression(random_state=42)\n",
    "# evaluate model\n",
    "scores_trh = cross_val_score(model, X, y, scoring='accuracy', cv=cv, n_jobs=-1)\n",
    "# report performance\n",
    "print('Accuracy: %.3f (%.3f)' % (np.mean(scores_trh), np.std(scores_trh)))"
   ]
  },
  {
   "cell_type": "markdown",
   "metadata": {
    "id": "9Pq0vfcAYw3E"
   },
   "source": [
    "### OTX1"
   ]
  },
  {
   "cell_type": "code",
   "execution_count": 16,
   "metadata": {
    "id": "FYBJM8SbYvyE"
   },
   "outputs": [],
   "source": [
    "X = ca125_data[['OTX1']]\n",
    "y = ca125_data['is_t']"
   ]
  },
  {
   "cell_type": "code",
   "execution_count": 17,
   "metadata": {
    "colab": {
     "base_uri": "https://localhost:8080/"
    },
    "id": "4BmnrdxtY2G0",
    "outputId": "755b1743-3eb5-465f-a162-94fda91f470f"
   },
   "outputs": [
    {
     "name": "stdout",
     "output_type": "stream",
     "text": [
      "Accuracy: 0.694 (0.461)\n",
      "CPU times: user 122 ms, sys: 4.96 ms, total: 127 ms\n",
      "Wall time: 781 ms\n"
     ]
    }
   ],
   "source": [
    "%%time\n",
    "\n",
    "# transform the dataset\n",
    "oversample = SMOTE(random_state=42)\n",
    "X, y = oversample.fit_resample(X, y)\n",
    "\n",
    "cv = LeaveOneOut()\n",
    "# create model\n",
    "model = LogisticRegression(random_state=42)\n",
    "# evaluate model\n",
    "scores_otx = cross_val_score(model, X, y, scoring='accuracy', cv=cv, n_jobs=-1)\n",
    "# report performance\n",
    "print('Accuracy: %.3f (%.3f)' % (np.mean(scores_otx), np.std(scores_otx)))"
   ]
  },
  {
   "cell_type": "markdown",
   "metadata": {
    "id": "X7SiyxuUY96K"
   },
   "source": [
    "# TRH+OTX1"
   ]
  },
  {
   "cell_type": "code",
   "execution_count": 18,
   "metadata": {
    "id": "i0s2RHSRY87C"
   },
   "outputs": [],
   "source": [
    "X = ca125_data[[\"TRH\", \"OTX1\"]]\n",
    "y = ca125_data['is_t']"
   ]
  },
  {
   "cell_type": "code",
   "execution_count": 19,
   "metadata": {
    "colab": {
     "base_uri": "https://localhost:8080/"
    },
    "id": "H8YQVtDjZHKU",
    "outputId": "41233384-0833-4536-9c7e-05ff3eeecfc6"
   },
   "outputs": [
    {
     "name": "stdout",
     "output_type": "stream",
     "text": [
      "Accuracy: 0.694 (0.461)\n",
      "CPU times: user 129 ms, sys: 2.56 ms, total: 132 ms\n",
      "Wall time: 863 ms\n"
     ]
    }
   ],
   "source": [
    "%%time\n",
    "\n",
    "# transform the dataset\n",
    "oversample = SMOTE(random_state=42)\n",
    "X, y = oversample.fit_resample(X, y)\n",
    "\n",
    "cv = LeaveOneOut()\n",
    "# create model\n",
    "model = LogisticRegression(random_state=42)\n",
    "# evaluate model\n",
    "scores_trh_otx = cross_val_score(model, X, y, scoring='accuracy', cv=cv, n_jobs=-1)\n",
    "# report performance\n",
    "print('Accuracy: %.3f (%.3f)' % (np.mean(scores_trh_otx), np.std(scores_trh_otx)))"
   ]
  },
  {
   "cell_type": "markdown",
   "metadata": {
    "id": "2FgINqK_abzY"
   },
   "source": [
    "### CA125"
   ]
  },
  {
   "cell_type": "code",
   "execution_count": 20,
   "metadata": {
    "colab": {
     "base_uri": "https://localhost:8080/"
    },
    "id": "cGgQm9S0admA",
    "outputId": "cfdc3cbc-86ad-432d-9401-0bd477b032a2"
   },
   "outputs": [
    {
     "name": "stdout",
     "output_type": "stream",
     "text": [
      "Accuracy: 0.766 (0.423)\n",
      "CPU times: user 130 ms, sys: 5.89 ms, total: 136 ms\n",
      "Wall time: 1.21 s\n"
     ]
    }
   ],
   "source": [
    "%%time\n",
    "X = ca125_data[[\"CA125\"]]\n",
    "y = ca125_data['is_t']\n",
    "\n",
    "# transform the dataset\n",
    "oversample = SMOTE(random_state=42)\n",
    "X, y = oversample.fit_resample(X, y)\n",
    "\n",
    "cv = LeaveOneOut()\n",
    "# create model\n",
    "model = LogisticRegression(random_state=42)\n",
    "# evaluate model\n",
    "scores_ca = cross_val_score(model, X, y, scoring='accuracy', cv=cv, n_jobs=-1)\n",
    "# report performance\n",
    "print('Accuracy: %.3f (%.3f)' % (np.mean(scores_ca), np.std(scores_ca)))"
   ]
  },
  {
   "cell_type": "markdown",
   "metadata": {
    "id": "kr3Er3VOZT2C"
   },
   "source": [
    "### Summary"
   ]
  },
  {
   "cell_type": "code",
   "execution_count": 21,
   "metadata": {
    "colab": {
     "base_uri": "https://localhost:8080/",
     "height": 646
    },
    "id": "W-yfiajAZRyS",
    "outputId": "5c45ae6b-4ba7-4940-b9ed-93f1ed1dac5b"
   },
   "outputs": [
    {
     "data": {
      "application/vnd.google.colaboratory.intrinsic+json": {
       "summary": "{\n  \"name\": \"display(df\",\n  \"rows\": 5,\n  \"fields\": [\n    {\n      \"column\": \"count\",\n      \"properties\": {\n        \"dtype\": \"number\",\n        \"std\": 0.0,\n        \"min\": 124.0,\n        \"max\": 124.0,\n        \"num_unique_values\": 1,\n        \"samples\": [\n          124.0\n        ],\n        \"semantic_type\": \"\",\n        \"description\": \"\"\n      }\n    },\n    {\n      \"column\": \"mean\",\n      \"properties\": {\n        \"dtype\": \"number\",\n        \"std\": 0.051448831960440575,\n        \"min\": 0.6370967741935484,\n        \"max\": 0.7661290322580645,\n        \"num_unique_values\": 4,\n        \"samples\": [\n          0.6370967741935484\n        ],\n        \"semantic_type\": \"\",\n        \"description\": \"\"\n      }\n    },\n    {\n      \"column\": \"std\",\n      \"properties\": {\n        \"dtype\": \"number\",\n        \"std\": 0.02343390613981939,\n        \"min\": 0.42500829198495227,\n        \"max\": 0.48278793033853534,\n        \"num_unique_values\": 4,\n        \"samples\": [\n          0.48278793033853534\n        ],\n        \"semantic_type\": \"\",\n        \"description\": \"\"\n      }\n    },\n    {\n      \"column\": \"min\",\n      \"properties\": {\n        \"dtype\": \"number\",\n        \"std\": 0.0,\n        \"min\": 0.0,\n        \"max\": 0.0,\n        \"num_unique_values\": 1,\n        \"samples\": [\n          0.0\n        ],\n        \"semantic_type\": \"\",\n        \"description\": \"\"\n      }\n    },\n    {\n      \"column\": \"25%\",\n      \"properties\": {\n        \"dtype\": \"number\",\n        \"std\": 0.48733971724044817,\n        \"min\": 0.0,\n        \"max\": 1.0,\n        \"num_unique_values\": 3,\n        \"samples\": [\n          0.75\n        ],\n        \"semantic_type\": \"\",\n        \"description\": \"\"\n      }\n    },\n    {\n      \"column\": \"50%\",\n      \"properties\": {\n        \"dtype\": \"number\",\n        \"std\": 0.0,\n        \"min\": 1.0,\n        \"max\": 1.0,\n        \"num_unique_values\": 1,\n        \"samples\": [\n          1.0\n        ],\n        \"semantic_type\": \"\",\n        \"description\": \"\"\n      }\n    },\n    {\n      \"column\": \"75%\",\n      \"properties\": {\n        \"dtype\": \"number\",\n        \"std\": 0.0,\n        \"min\": 1.0,\n        \"max\": 1.0,\n        \"num_unique_values\": 1,\n        \"samples\": [\n          1.0\n        ],\n        \"semantic_type\": \"\",\n        \"description\": \"\"\n      }\n    },\n    {\n      \"column\": \"max\",\n      \"properties\": {\n        \"dtype\": \"number\",\n        \"std\": 0.0,\n        \"min\": 1.0,\n        \"max\": 1.0,\n        \"num_unique_values\": 1,\n        \"samples\": [\n          1.0\n        ],\n        \"semantic_type\": \"\",\n        \"description\": \"\"\n      }\n    }\n  ]\n}",
       "type": "dataframe"
      },
      "text/html": [
       "\n",
       "  <div id=\"df-5ffcc03a-84fa-44d7-9f8c-70cca8fbb881\" class=\"colab-df-container\">\n",
       "    <div>\n",
       "<style scoped>\n",
       "    .dataframe tbody tr th:only-of-type {\n",
       "        vertical-align: middle;\n",
       "    }\n",
       "\n",
       "    .dataframe tbody tr th {\n",
       "        vertical-align: top;\n",
       "    }\n",
       "\n",
       "    .dataframe thead th {\n",
       "        text-align: right;\n",
       "    }\n",
       "</style>\n",
       "<table border=\"1\" class=\"dataframe\">\n",
       "  <thead>\n",
       "    <tr style=\"text-align: right;\">\n",
       "      <th></th>\n",
       "      <th>count</th>\n",
       "      <th>mean</th>\n",
       "      <th>std</th>\n",
       "      <th>min</th>\n",
       "      <th>25%</th>\n",
       "      <th>50%</th>\n",
       "      <th>75%</th>\n",
       "      <th>max</th>\n",
       "    </tr>\n",
       "  </thead>\n",
       "  <tbody>\n",
       "    <tr>\n",
       "      <th>All</th>\n",
       "      <td>124.0</td>\n",
       "      <td>0.750000</td>\n",
       "      <td>0.434769</td>\n",
       "      <td>0.0</td>\n",
       "      <td>0.75</td>\n",
       "      <td>1.0</td>\n",
       "      <td>1.0</td>\n",
       "      <td>1.0</td>\n",
       "    </tr>\n",
       "    <tr>\n",
       "      <th>TRH</th>\n",
       "      <td>124.0</td>\n",
       "      <td>0.637097</td>\n",
       "      <td>0.482788</td>\n",
       "      <td>0.0</td>\n",
       "      <td>0.00</td>\n",
       "      <td>1.0</td>\n",
       "      <td>1.0</td>\n",
       "      <td>1.0</td>\n",
       "    </tr>\n",
       "    <tr>\n",
       "      <th>OTX1</th>\n",
       "      <td>124.0</td>\n",
       "      <td>0.693548</td>\n",
       "      <td>0.462890</td>\n",
       "      <td>0.0</td>\n",
       "      <td>0.00</td>\n",
       "      <td>1.0</td>\n",
       "      <td>1.0</td>\n",
       "      <td>1.0</td>\n",
       "    </tr>\n",
       "    <tr>\n",
       "      <th>TRH+OTX1</th>\n",
       "      <td>124.0</td>\n",
       "      <td>0.693548</td>\n",
       "      <td>0.462890</td>\n",
       "      <td>0.0</td>\n",
       "      <td>0.00</td>\n",
       "      <td>1.0</td>\n",
       "      <td>1.0</td>\n",
       "      <td>1.0</td>\n",
       "    </tr>\n",
       "    <tr>\n",
       "      <th>CA125</th>\n",
       "      <td>124.0</td>\n",
       "      <td>0.766129</td>\n",
       "      <td>0.425008</td>\n",
       "      <td>0.0</td>\n",
       "      <td>1.00</td>\n",
       "      <td>1.0</td>\n",
       "      <td>1.0</td>\n",
       "      <td>1.0</td>\n",
       "    </tr>\n",
       "  </tbody>\n",
       "</table>\n",
       "</div>\n",
       "    <div class=\"colab-df-buttons\">\n",
       "\n",
       "  <div class=\"colab-df-container\">\n",
       "    <button class=\"colab-df-convert\" onclick=\"convertToInteractive('df-5ffcc03a-84fa-44d7-9f8c-70cca8fbb881')\"\n",
       "            title=\"Convert this dataframe to an interactive table.\"\n",
       "            style=\"display:none;\">\n",
       "\n",
       "  <svg xmlns=\"http://www.w3.org/2000/svg\" height=\"24px\" viewBox=\"0 -960 960 960\">\n",
       "    <path d=\"M120-120v-720h720v720H120Zm60-500h600v-160H180v160Zm220 220h160v-160H400v160Zm0 220h160v-160H400v160ZM180-400h160v-160H180v160Zm440 0h160v-160H620v160ZM180-180h160v-160H180v160Zm440 0h160v-160H620v160Z\"/>\n",
       "  </svg>\n",
       "    </button>\n",
       "\n",
       "  <style>\n",
       "    .colab-df-container {\n",
       "      display:flex;\n",
       "      gap: 12px;\n",
       "    }\n",
       "\n",
       "    .colab-df-convert {\n",
       "      background-color: #E8F0FE;\n",
       "      border: none;\n",
       "      border-radius: 50%;\n",
       "      cursor: pointer;\n",
       "      display: none;\n",
       "      fill: #1967D2;\n",
       "      height: 32px;\n",
       "      padding: 0 0 0 0;\n",
       "      width: 32px;\n",
       "    }\n",
       "\n",
       "    .colab-df-convert:hover {\n",
       "      background-color: #E2EBFA;\n",
       "      box-shadow: 0px 1px 2px rgba(60, 64, 67, 0.3), 0px 1px 3px 1px rgba(60, 64, 67, 0.15);\n",
       "      fill: #174EA6;\n",
       "    }\n",
       "\n",
       "    .colab-df-buttons div {\n",
       "      margin-bottom: 4px;\n",
       "    }\n",
       "\n",
       "    [theme=dark] .colab-df-convert {\n",
       "      background-color: #3B4455;\n",
       "      fill: #D2E3FC;\n",
       "    }\n",
       "\n",
       "    [theme=dark] .colab-df-convert:hover {\n",
       "      background-color: #434B5C;\n",
       "      box-shadow: 0px 1px 3px 1px rgba(0, 0, 0, 0.15);\n",
       "      filter: drop-shadow(0px 1px 2px rgba(0, 0, 0, 0.3));\n",
       "      fill: #FFFFFF;\n",
       "    }\n",
       "  </style>\n",
       "\n",
       "    <script>\n",
       "      const buttonEl =\n",
       "        document.querySelector('#df-5ffcc03a-84fa-44d7-9f8c-70cca8fbb881 button.colab-df-convert');\n",
       "      buttonEl.style.display =\n",
       "        google.colab.kernel.accessAllowed ? 'block' : 'none';\n",
       "\n",
       "      async function convertToInteractive(key) {\n",
       "        const element = document.querySelector('#df-5ffcc03a-84fa-44d7-9f8c-70cca8fbb881');\n",
       "        const dataTable =\n",
       "          await google.colab.kernel.invokeFunction('convertToInteractive',\n",
       "                                                    [key], {});\n",
       "        if (!dataTable) return;\n",
       "\n",
       "        const docLinkHtml = 'Like what you see? Visit the ' +\n",
       "          '<a target=\"_blank\" href=https://colab.research.google.com/notebooks/data_table.ipynb>data table notebook</a>'\n",
       "          + ' to learn more about interactive tables.';\n",
       "        element.innerHTML = '';\n",
       "        dataTable['output_type'] = 'display_data';\n",
       "        await google.colab.output.renderOutput(dataTable, element);\n",
       "        const docLink = document.createElement('div');\n",
       "        docLink.innerHTML = docLinkHtml;\n",
       "        element.appendChild(docLink);\n",
       "      }\n",
       "    </script>\n",
       "  </div>\n",
       "\n",
       "\n",
       "<div id=\"df-7dd75d11-4c37-4230-a943-03795b83ee09\">\n",
       "  <button class=\"colab-df-quickchart\" onclick=\"quickchart('df-7dd75d11-4c37-4230-a943-03795b83ee09')\"\n",
       "            title=\"Suggest charts\"\n",
       "            style=\"display:none;\">\n",
       "\n",
       "<svg xmlns=\"http://www.w3.org/2000/svg\" height=\"24px\"viewBox=\"0 0 24 24\"\n",
       "     width=\"24px\">\n",
       "    <g>\n",
       "        <path d=\"M19 3H5c-1.1 0-2 .9-2 2v14c0 1.1.9 2 2 2h14c1.1 0 2-.9 2-2V5c0-1.1-.9-2-2-2zM9 17H7v-7h2v7zm4 0h-2V7h2v10zm4 0h-2v-4h2v4z\"/>\n",
       "    </g>\n",
       "</svg>\n",
       "  </button>\n",
       "\n",
       "<style>\n",
       "  .colab-df-quickchart {\n",
       "      --bg-color: #E8F0FE;\n",
       "      --fill-color: #1967D2;\n",
       "      --hover-bg-color: #E2EBFA;\n",
       "      --hover-fill-color: #174EA6;\n",
       "      --disabled-fill-color: #AAA;\n",
       "      --disabled-bg-color: #DDD;\n",
       "  }\n",
       "\n",
       "  [theme=dark] .colab-df-quickchart {\n",
       "      --bg-color: #3B4455;\n",
       "      --fill-color: #D2E3FC;\n",
       "      --hover-bg-color: #434B5C;\n",
       "      --hover-fill-color: #FFFFFF;\n",
       "      --disabled-bg-color: #3B4455;\n",
       "      --disabled-fill-color: #666;\n",
       "  }\n",
       "\n",
       "  .colab-df-quickchart {\n",
       "    background-color: var(--bg-color);\n",
       "    border: none;\n",
       "    border-radius: 50%;\n",
       "    cursor: pointer;\n",
       "    display: none;\n",
       "    fill: var(--fill-color);\n",
       "    height: 32px;\n",
       "    padding: 0;\n",
       "    width: 32px;\n",
       "  }\n",
       "\n",
       "  .colab-df-quickchart:hover {\n",
       "    background-color: var(--hover-bg-color);\n",
       "    box-shadow: 0 1px 2px rgba(60, 64, 67, 0.3), 0 1px 3px 1px rgba(60, 64, 67, 0.15);\n",
       "    fill: var(--button-hover-fill-color);\n",
       "  }\n",
       "\n",
       "  .colab-df-quickchart-complete:disabled,\n",
       "  .colab-df-quickchart-complete:disabled:hover {\n",
       "    background-color: var(--disabled-bg-color);\n",
       "    fill: var(--disabled-fill-color);\n",
       "    box-shadow: none;\n",
       "  }\n",
       "\n",
       "  .colab-df-spinner {\n",
       "    border: 2px solid var(--fill-color);\n",
       "    border-color: transparent;\n",
       "    border-bottom-color: var(--fill-color);\n",
       "    animation:\n",
       "      spin 1s steps(1) infinite;\n",
       "  }\n",
       "\n",
       "  @keyframes spin {\n",
       "    0% {\n",
       "      border-color: transparent;\n",
       "      border-bottom-color: var(--fill-color);\n",
       "      border-left-color: var(--fill-color);\n",
       "    }\n",
       "    20% {\n",
       "      border-color: transparent;\n",
       "      border-left-color: var(--fill-color);\n",
       "      border-top-color: var(--fill-color);\n",
       "    }\n",
       "    30% {\n",
       "      border-color: transparent;\n",
       "      border-left-color: var(--fill-color);\n",
       "      border-top-color: var(--fill-color);\n",
       "      border-right-color: var(--fill-color);\n",
       "    }\n",
       "    40% {\n",
       "      border-color: transparent;\n",
       "      border-right-color: var(--fill-color);\n",
       "      border-top-color: var(--fill-color);\n",
       "    }\n",
       "    60% {\n",
       "      border-color: transparent;\n",
       "      border-right-color: var(--fill-color);\n",
       "    }\n",
       "    80% {\n",
       "      border-color: transparent;\n",
       "      border-right-color: var(--fill-color);\n",
       "      border-bottom-color: var(--fill-color);\n",
       "    }\n",
       "    90% {\n",
       "      border-color: transparent;\n",
       "      border-bottom-color: var(--fill-color);\n",
       "    }\n",
       "  }\n",
       "</style>\n",
       "\n",
       "  <script>\n",
       "    async function quickchart(key) {\n",
       "      const quickchartButtonEl =\n",
       "        document.querySelector('#' + key + ' button');\n",
       "      quickchartButtonEl.disabled = true;  // To prevent multiple clicks.\n",
       "      quickchartButtonEl.classList.add('colab-df-spinner');\n",
       "      try {\n",
       "        const charts = await google.colab.kernel.invokeFunction(\n",
       "            'suggestCharts', [key], {});\n",
       "      } catch (error) {\n",
       "        console.error('Error during call to suggestCharts:', error);\n",
       "      }\n",
       "      quickchartButtonEl.classList.remove('colab-df-spinner');\n",
       "      quickchartButtonEl.classList.add('colab-df-quickchart-complete');\n",
       "    }\n",
       "    (() => {\n",
       "      let quickchartButtonEl =\n",
       "        document.querySelector('#df-7dd75d11-4c37-4230-a943-03795b83ee09 button');\n",
       "      quickchartButtonEl.style.display =\n",
       "        google.colab.kernel.accessAllowed ? 'block' : 'none';\n",
       "    })();\n",
       "  </script>\n",
       "</div>\n",
       "    </div>\n",
       "  </div>\n"
      ],
      "text/plain": [
       "          count      mean       std  min   25%  50%  75%  max\n",
       "All       124.0  0.750000  0.434769  0.0  0.75  1.0  1.0  1.0\n",
       "TRH       124.0  0.637097  0.482788  0.0  0.00  1.0  1.0  1.0\n",
       "OTX1      124.0  0.693548  0.462890  0.0  0.00  1.0  1.0  1.0\n",
       "TRH+OTX1  124.0  0.693548  0.462890  0.0  0.00  1.0  1.0  1.0\n",
       "CA125     124.0  0.766129  0.425008  0.0  1.00  1.0  1.0  1.0"
      ]
     },
     "metadata": {},
     "output_type": "display_data"
    },
    {
     "data": {
      "image/png": "[encoded data removed]",
      "text/plain": [
       "<Figure size 640x480 with 1 Axes>"
      ]
     },
     "metadata": {},
     "output_type": "display_data"
    }
   ],
   "source": [
    "df = pd.DataFrame({\"All\":scores_all,\n",
    "                   \"TRH\":scores_trh,\n",
    "                   \"OTX1\":scores_otx,\n",
    "                   \"TRH\":scores_trh,\n",
    "                   \"TRH+OTX1\":scores_otx,\n",
    "                   \"CA125\":scores_ca})\n",
    "\n",
    "sns.barplot(df)\n",
    "plt.title(\"Accuracy of model\")\n",
    "display(df.describe().T)"
   ]
  },
  {
   "cell_type": "markdown",
   "metadata": {
    "id": "7jvnXKcs0Q8R"
   },
   "source": [
    "# Вывод\n",
    "\n",
    "* Добавление признаков TRH и OTX1 не дает прироста в точности и стабильности работы модели.\n",
    "* По отдельности признаки TRH и OTX1 работают хуже, чем CA125."
   ]
  }
 ],
 "metadata": {
  "colab": {
   "provenance": [],
   "toc_visible": true
  },
  "kernelspec": {
   "display_name": "Python 3 (ipykernel)",
   "language": "python",
   "name": "python3"
  },
  "language_info": {
   "codemirror_mode": {
    "name": "ipython",
    "version": 3
   },
   "file_extension": ".py",
   "mimetype": "text/x-python",
   "name": "python",
   "nbconvert_exporter": "python",
   "pygments_lexer": "ipython3",
   "version": "3.11.7"
  }
 },
 "nbformat": 4,
 "nbformat_minor": 4
}
